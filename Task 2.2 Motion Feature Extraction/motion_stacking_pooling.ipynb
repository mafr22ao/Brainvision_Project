{
 "cells": [
  {
   "cell_type": "markdown",
   "source": [
    "Takes the motion feature outputs and prepares them for model training: stacking, pooling, flattening & train-val-test split."
   ],
   "metadata": {
    "collapsed": false
   },
   "id": "cf022cc077bed17f"
  },
  {
   "cell_type": "code",
   "execution_count": 24,
   "id": "initial_id",
   "metadata": {
    "collapsed": true,
    "ExecuteTime": {
     "end_time": "2024-01-21T11:49:11.815594500Z",
     "start_time": "2024-01-21T11:49:02.268181Z"
    }
   },
   "outputs": [
    {
     "name": "stdout",
     "output_type": "stream",
     "text": [
      "(1103, 28, 28)\n",
      "(800, 784)\n",
      "(100, 784)\n",
      "(100, 784)\n",
      "[[ 0.00000000e+00  0.00000000e+00  0.00000000e+00 ...  8.38453649e-04\n",
      "   1.39705910e-04 -5.16085769e-04]\n",
      " [ 0.00000000e+00  0.00000000e+00  0.00000000e+00 ... -1.08825252e-03\n",
      "  -4.34018220e-05 -5.42195357e-06]\n",
      " [ 0.00000000e+00  0.00000000e+00  0.00000000e+00 ...  1.60141368e-04\n",
      "   1.92851003e-04 -1.10700994e-03]\n",
      " ...\n",
      " [ 0.00000000e+00  0.00000000e+00  0.00000000e+00 ... -7.57748580e-07\n",
      "   1.76082807e-07  3.00118427e-06]\n",
      " [ 0.00000000e+00  0.00000000e+00  0.00000000e+00 ... -1.48055871e-04\n",
      "  -6.72510214e-05 -1.48163017e-04]\n",
      " [ 0.00000000e+00  0.00000000e+00  0.00000000e+00 ... -9.06594098e-03\n",
      "  -8.08898825e-03 -2.93592038e-03]]\n"
     ]
    }
   ],
   "source": [
    "import numpy as np\n",
    "import os\n",
    "from skimage.measure import block_reduce\n",
    "\n",
    "# load motion features and aggregate over 3rd dimension. Concatenate together\n",
    "\n",
    "# File path\n",
    "motion_file_path = \"../motion_features_img\"\n",
    "motion_files_stacked = np.empty((1, 28, 28))\n",
    "for motion_file_name in os.listdir(motion_file_path):\n",
    "    file_path = os.path.join(motion_file_path, motion_file_name)\n",
    "    file = np.load(file_path)\n",
    "    \n",
    "    # aggregate over video\n",
    "    agg = np.mean(file, axis=2)\n",
    "    \n",
    "    # avgpooling\n",
    "    agg = block_reduce(agg, (8, 8), np.mean)\n",
    "    agg = agg[np.newaxis, :, :]\n",
    "    motion_files_stacked = np.concatenate((motion_files_stacked, agg), axis=0)\n",
    "    \n",
    "print(motion_files_stacked.shape)\n",
    "\n",
    "# flatten\n",
    "motion_files_stacked = motion_files_stacked.reshape(1103, -1)\n",
    "\n",
    "# split arrays\n",
    "train_stacked = motion_files_stacked[:800]\n",
    "print(train_stacked.shape)\n",
    "val_stacked = motion_files_stacked[800:900]\n",
    "print(val_stacked.shape)\n",
    "test_stacked = motion_files_stacked[900:1000]\n",
    "print(test_stacked.shape)\n",
    "print(test_stacked)\n",
    "\n",
    "np.save(f\"train_stacked.npy\", train_stacked)\n",
    "np.save(f\"val_stacked.npy\", val_stacked)\n",
    "np.save(f\"test_stacked.npy\", test_stacked)"
   ]
  },
  {
   "cell_type": "code",
   "execution_count": 25,
   "outputs": [
    {
     "data": {
      "text/plain": "(800, 784)"
     },
     "execution_count": 25,
     "metadata": {},
     "output_type": "execute_result"
    }
   ],
   "source": [
    "array = np.load(\"train_stacked.npy\")\n",
    "array.shape"
   ],
   "metadata": {
    "collapsed": false,
    "ExecuteTime": {
     "end_time": "2024-01-21T11:49:11.831463300Z",
     "start_time": "2024-01-21T11:49:11.804124700Z"
    }
   },
   "id": "29ad3e1f217f4899"
  },
  {
   "cell_type": "code",
   "outputs": [],
   "source": [
    "my_array_name = \"test_stacked.npy\"\n",
    "my_array = np.load(my_array_name)\n",
    "my_array = np.nan_to_num(my_array, nan=0.0)\n",
    "np.save(my_array_name, my_array)"
   ],
   "metadata": {
    "collapsed": false,
    "ExecuteTime": {
     "end_time": "2024-01-21T11:52:54.872153100Z",
     "start_time": "2024-01-21T11:52:54.853688700Z"
    }
   },
   "id": "9727761dc3daff8a",
   "execution_count": 33
  },
  {
   "cell_type": "code",
   "outputs": [
    {
     "data": {
      "text/plain": "False"
     },
     "execution_count": 34,
     "metadata": {},
     "output_type": "execute_result"
    }
   ],
   "source": [
    "np.any(np.isnan(my_array))"
   ],
   "metadata": {
    "collapsed": false,
    "ExecuteTime": {
     "end_time": "2024-01-21T11:52:56.580529Z",
     "start_time": "2024-01-21T11:52:56.566832800Z"
    }
   },
   "id": "b88f04611ce25218",
   "execution_count": 34
  }
 ],
 "metadata": {
  "kernelspec": {
   "display_name": "Python 3",
   "language": "python",
   "name": "python3"
  },
  "language_info": {
   "codemirror_mode": {
    "name": "ipython",
    "version": 2
   },
   "file_extension": ".py",
   "mimetype": "text/x-python",
   "name": "python",
   "nbconvert_exporter": "python",
   "pygments_lexer": "ipython2",
   "version": "2.7.6"
  }
 },
 "nbformat": 4,
 "nbformat_minor": 5
}
