{
 "cells": [
  {
   "cell_type": "markdown",
   "source": [
    "Finds the indices of the voxels in the whole brain for each ROI"
   ],
   "metadata": {
    "collapsed": false
   },
   "id": "d2e61e7244268295"
  },
  {
   "cell_type": "code",
   "outputs": [],
   "source": [
    "import pandas as pd\n",
    "import numpy as np\n",
    "from utils import get_fmri\n",
    "import os"
   ],
   "metadata": {
    "collapsed": false
   },
   "id": "ecbcef8ebeba7e3"
  },
  {
   "cell_type": "code",
   "outputs": [
    {
     "name": "stdout",
     "output_type": "stream",
     "text": [
      "ROI share for sub01 (18222 voxels): 3859 voxels (21.18%)\n",
      "ROI share for sub02 (21573 voxels): 3143 voxels (14.57%)\n",
      "ROI share for sub03 (15225 voxels): 3155 voxels (20.72%)\n",
      "ROI share for sub04 (19445 voxels): 3068 voxels (15.78%)\n",
      "ROI share for sub05 (13340 voxels): 2975 voxels (22.30%)\n",
      "ROI share for sub06 (19818 voxels): 3076 voxels (15.52%)\n",
      "ROI share for sub07 (10836 voxels): 2033 voxels (18.76%)\n",
      "ROI share for sub08 (12347 voxels): 2764 voxels (22.39%)\n",
      "ROI share for sub09 (17570 voxels): 3265 voxels (18.58%)\n",
      "ROI share for sub10 (12950 voxels): 2285 voxels (17.64%)\n"
     ]
    }
   ],
   "source": [
    "# load data\n",
    "subs = [\"sub01\",\"sub02\",\"sub03\",\"sub04\",\"sub05\",\"sub06\",\"sub07\",\"sub08\",\"sub09\",\"sub10\"]\n",
    "mini_ROIs = [\"V1\", \"V2\",\"V3\", \"V4\", \"LOC\", \"EBA\", \"FFA\",\"STS\", \"PPA\"]\n",
    "for sub in subs:\n",
    "    wb_sample = get_fmri(\"WB\", \"full_track\", sub, mode=\"test\")[0]\n",
    "    len_wb = len(wb_sample)\n",
    "    # assert that all values are unique\n",
    "    assert len(wb_sample) == len(set(wb_sample))\n",
    "    ROI_lengths = 0\n",
    "    for ROI in mini_ROIs:\n",
    "        fmri_test = get_fmri(ROI, \"mini_track\", sub, mode=\"test\")\n",
    "        roi_sample = fmri_test[0]\n",
    "        # assert that all values are unique\n",
    "        assert len(roi_sample) == len(set(roi_sample))\n",
    "        # assert that all values are in the whole brain\n",
    "        assert all([x in wb_sample for x in roi_sample])\n",
    "        # get an array with all the indices of the positions of the ROI in the whole brain\n",
    "        indices_dict = {val: [i for i, x in enumerate(wb_sample) if x == val] for val in roi_sample}\n",
    "        indices = [x[0] for x in indices_dict.values()]\n",
    "        \n",
    "        # sorted indices - only for inspection, useless for mapping\n",
    "        # indices_sorted = sorted(indices)\n",
    "        \n",
    "        indices = np.array(indices)\n",
    "        assert len(indices) == len(roi_sample)\n",
    "        ROI_lengths += len(indices)\n",
    "        # write indices to file\n",
    "        roi_maps_dir = f\"roi_maps/{sub}/\"\n",
    "        if not os.path.exists(roi_maps_dir):\n",
    "            os.makedirs(roi_maps_dir)\n",
    "        file_loc = os.path.join(roi_maps_dir, f\"{ROI}_indices.npy\")\n",
    "        np.save(file_loc, indices)\n",
    "    print(f\"ROI share for {sub} ({len_wb} voxels): {ROI_lengths} voxels ({ROI_lengths/len_wb*100:.2f}%)\")"
   ],
   "metadata": {
    "collapsed": false,
    "ExecuteTime": {
     "end_time": "2023-12-29T15:34:45.439796200Z",
     "start_time": "2023-12-29T15:33:54.462628300Z"
    }
   },
   "id": "ad34a7ac900b722c",
   "execution_count": 2
  }
 ],
 "metadata": {
  "kernelspec": {
   "display_name": "Python 3",
   "language": "python",
   "name": "python3"
  },
  "language_info": {
   "codemirror_mode": {
    "name": "ipython",
    "version": 2
   },
   "file_extension": ".py",
   "mimetype": "text/x-python",
   "name": "python",
   "nbconvert_exporter": "python",
   "pygments_lexer": "ipython2",
   "version": "2.7.6"
  }
 },
 "nbformat": 4,
 "nbformat_minor": 5
}
