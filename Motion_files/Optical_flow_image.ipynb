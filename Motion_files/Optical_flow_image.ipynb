{
 "cells": [
  {
   "cell_type": "code",
   "execution_count": null,
   "id": "initial_id",
   "metadata": {
    "collapsed": true,
    "is_executing": true
   },
   "outputs": [],
   "source": [
    "import cv2 as cv\n",
    "import numpy as np\n",
    "import matplotlib.pyplot as plt\n",
    "from IPython.display import display, clear_output"
   ]
  },
  {
   "cell_type": "code",
   "execution_count": null,
   "outputs": [],
   "source": [
    "\n",
    "\n",
    "def visualize_optical_flow(video_path):\n",
    "    cap = cv.VideoCapture(video_path)\n",
    "    frame_stack = []\n",
    "    \n",
    "    ret, first_frame = cap.read()\n",
    "    if not ret:\n",
    "        print(\"Failed to read the video\")\n",
    "        cap.release()\n",
    "        return\n",
    "\n",
    "    prev_gray = cv.cvtColor(first_frame, cv.COLOR_BGR2GRAY)\n",
    "    mask = np.zeros_like(first_frame)\n",
    "    mask[..., 1] = 255  # Set saturation to maximum\n",
    "\n",
    "    fig, ax = plt.subplots()\n",
    "\n",
    "    frame_count = 0\n",
    "    skip_count = 0\n",
    "\n",
    "    while True:\n",
    "        ret, frame = cap.read()\n",
    "        if not ret:\n",
    "            break\n",
    "\n",
    "        gray = cv.cvtColor(frame, cv.COLOR_BGR2GRAY)\n",
    "\n",
    "        if frame_count % 9 == 0:\n",
    "            frame_stack.append(gray)\n",
    "\n",
    "        if len(frame_stack) == 8:\n",
    "            stacked_frames = np.stack(frame_stack, axis=-1)\n",
    "            flow = cv.calcOpticalFlowFarneback(prev_gray, gray, None, 0.5, 3, 15, 3, 5, 1.2, 0)\n",
    "            magnitude, angle = cv.cartToPolar(flow[..., 0], flow[..., 1])\n",
    "            mask[..., 0] = angle * 180 / np.pi / 2\n",
    "            mask[..., 2] = cv.normalize(magnitude, None, 0, 255, cv.NORM_MINMAX)\n",
    "            rgb = cv.cvtColor(mask, cv.COLOR_HSV2BGR)\n",
    "\n",
    "            ax.imshow(cv.cvtColor(rgb, cv.COLOR_BGR2RGB))\n",
    "            display(fig)\n",
    "            clear_output(wait=True)\n",
    "\n",
    "            # Remove the oldest frame from the stack\n",
    "            frame_stack.pop(0)\n",
    "\n",
    "        prev_gray = gray\n",
    "        frame_count += 1\n",
    "\n",
    "    cap.release()\n",
    "    plt.close()\n",
    "\n",
    "# Call the function with your video path\n",
    "video_path = 'your_video.mp4'\n",
    "visualize_optical_flow(video_path)\n"
   ],
   "metadata": {
    "collapsed": false
   },
   "id": "86ef6fc83cc1a90b"
  }
 ],
 "metadata": {
  "kernelspec": {
   "display_name": "Python 3",
   "language": "python",
   "name": "python3"
  },
  "language_info": {
   "codemirror_mode": {
    "name": "ipython",
    "version": 2
   },
   "file_extension": ".py",
   "mimetype": "text/x-python",
   "name": "python",
   "nbconvert_exporter": "python",
   "pygments_lexer": "ipython2",
   "version": "2.7.6"
  }
 },
 "nbformat": 4,
 "nbformat_minor": 5
}
