{
 "cells": [
  {
   "cell_type": "code",
   "execution_count": 11,
   "id": "initial_id",
   "metadata": {
    "collapsed": true,
    "ExecuteTime": {
     "end_time": "2023-12-12T18:08:43.976595300Z",
     "start_time": "2023-12-12T18:08:29.656013600Z"
    }
   },
   "outputs": [
    {
     "name": "stdout",
     "output_type": "stream",
     "text": [
      "(1103, 56, 56)\n",
      "(800, 3136)\n",
      "(100, 3136)\n",
      "(100, 3136)\n",
      "[[ 0.00000000e+00  0.00000000e+00  0.00000000e+00 ... -8.14162195e-05\n",
      "  -8.07468605e-04 -7.81533890e-06]\n",
      " [ 0.00000000e+00  0.00000000e+00  0.00000000e+00 ...  2.04396529e-05\n",
      "   1.25528750e-05 -7.08117705e-06]\n",
      " [ 0.00000000e+00  0.00000000e+00  0.00000000e+00 ...  3.27511516e-04\n",
      "  -2.23961310e-04 -8.84838169e-04]\n",
      " ...\n",
      " [ 0.00000000e+00  0.00000000e+00  0.00000000e+00 ... -4.21725446e-07\n",
      "  -5.52548727e-07 -7.16777777e-07]\n",
      " [ 0.00000000e+00  0.00000000e+00  0.00000000e+00 ... -3.55735174e-05\n",
      "  -4.07461584e-06  1.76740468e-06]\n",
      " [ 0.00000000e+00  0.00000000e+00  0.00000000e+00 ... -1.17395232e-02\n",
      "  -7.69080967e-03 -2.15709023e-03]]\n"
     ]
    }
   ],
   "source": [
    "import numpy as np\n",
    "import os\n",
    "from skimage.measure import block_reduce\n",
    "\n",
    "# load motion features and aggregate over 3rd dimension. Concatenate together\n",
    "\n",
    "# File path\n",
    "motion_file_path = \"../motion_features_img\"\n",
    "motion_files_stacked = np.empty((1, 56, 56))\n",
    "for motion_file_name in os.listdir(motion_file_path):\n",
    "    file_path = os.path.join(motion_file_path, motion_file_name)\n",
    "    file = np.load(file_path)\n",
    "    \n",
    "    # aggregate over video\n",
    "    agg = np.mean(file, axis=2)\n",
    "    \n",
    "    # avgpooling\n",
    "    agg = block_reduce(agg, (4, 4), np.mean)\n",
    "    agg = agg[np.newaxis, :, :]\n",
    "    motion_files_stacked = np.concatenate((motion_files_stacked, agg), axis=0)\n",
    "    \n",
    "print(motion_files_stacked.shape)\n",
    "\n",
    "# flatten\n",
    "motion_files_stacked = motion_files_stacked.reshape(1103, -1)\n",
    "\n",
    "# split arrays\n",
    "train_stacked = motion_files_stacked[:800]\n",
    "print(train_stacked.shape)\n",
    "val_stacked = motion_files_stacked[800:900]\n",
    "print(val_stacked.shape)\n",
    "test_stacked = motion_files_stacked[900:1000]\n",
    "print(test_stacked.shape)\n",
    "print(test_stacked)\n",
    "\n",
    "np.save(f\"train_stacked.npy\", train_stacked)\n",
    "np.save(f\"val_stacked.npy\", val_stacked)\n",
    "np.save(f\"test_stacked.npy\", test_stacked)"
   ]
  },
  {
   "cell_type": "code",
   "execution_count": 6,
   "outputs": [
    {
     "data": {
      "text/plain": "(800, 56, 56)"
     },
     "execution_count": 6,
     "metadata": {},
     "output_type": "execute_result"
    }
   ],
   "source": [
    "array = np.load(\"train_stacked.npy\")\n",
    "array.shape"
   ],
   "metadata": {
    "collapsed": false,
    "ExecuteTime": {
     "end_time": "2023-12-12T18:00:25.968442400Z",
     "start_time": "2023-12-12T18:00:25.956402700Z"
    }
   },
   "id": "29ad3e1f217f4899"
  }
 ],
 "metadata": {
  "kernelspec": {
   "display_name": "Python 3",
   "language": "python",
   "name": "python3"
  },
  "language_info": {
   "codemirror_mode": {
    "name": "ipython",
    "version": 2
   },
   "file_extension": ".py",
   "mimetype": "text/x-python",
   "name": "python",
   "nbconvert_exporter": "python",
   "pygments_lexer": "ipython2",
   "version": "2.7.6"
  }
 },
 "nbformat": 4,
 "nbformat_minor": 5
}
