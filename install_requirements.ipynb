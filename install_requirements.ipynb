{
 "cells": [
  {
   "cell_type": "code",
   "execution_count": 2,
   "id": "initial_id",
   "metadata": {
    "collapsed": true,
    "ExecuteTime": {
     "end_time": "2023-11-22T15:21:05.794049100Z",
     "start_time": "2023-11-22T15:21:01.108552900Z"
    }
   },
   "outputs": [
    {
     "name": "stderr",
     "output_type": "stream",
     "text": [
      "ERROR: Could not find a version that satisfies the requirement subprocess (from versions: none)\n",
      "ERROR: No matching distribution found for subprocess\n",
      "ERROR: Could not find a version that satisfies the requirement sys (from versions: none)\n",
      "ERROR: No matching distribution found for sys\n",
      "ERROR: Could not find a version that satisfies the requirement pkg_resources (from versions: none)\n",
      "ERROR: No matching distribution found for pkg_resources\n"
     ]
    }
   ],
   "source": [
    "!pip install subprocess --quiet\n",
    "!pip install sys --quiet\n",
    "!pip install pkg_resources --quiet"
   ]
  },
  {
   "cell_type": "code",
   "execution_count": 3,
   "outputs": [],
   "source": [
    "import subprocess\n",
    "import sys\n",
    "import pkg_resources"
   ],
   "metadata": {
    "collapsed": false,
    "ExecuteTime": {
     "end_time": "2023-11-22T15:21:05.799001400Z",
     "start_time": "2023-11-22T15:21:05.796992100Z"
    }
   },
   "id": "ebc9a92caf6b2ab9"
  },
  {
   "cell_type": "code",
   "execution_count": 4,
   "outputs": [],
   "source": [
    "def install_package(package):\n",
    "    subprocess.check_call([sys.executable, \"-m\", \"pip\", \"install\", package])"
   ],
   "metadata": {
    "collapsed": false,
    "ExecuteTime": {
     "end_time": "2023-11-22T15:21:05.808355200Z",
     "start_time": "2023-11-22T15:21:05.799001400Z"
    }
   },
   "id": "75b5e2c40c05b342"
  },
  {
   "cell_type": "code",
   "execution_count": 7,
   "outputs": [
    {
     "name": "stdout",
     "output_type": "stream",
     "text": [
      "{'scikit-learn', 'numpy', 'pyarrow', 'argparse', 'tqdm', 'nilearn', 'torchvision', 'torch', 'decord', 'opencv-python', 'ipywidgets', 'matplotlib', 'nibabel', 'pillow', 'fastparquet', 'notebook'}\n",
      "scikit-learn is already installed.\n",
      "numpy is already installed.\n",
      "pyarrow is already installed.\n",
      "Package argparse not found. Installing...\n",
      "tqdm is already installed.\n",
      "nilearn is already installed.\n",
      "torchvision is already installed.\n",
      "torch is already installed.\n",
      "decord is already installed.\n",
      "opencv-python is already installed.\n",
      "ipywidgets is already installed.\n",
      "matplotlib is already installed.\n",
      "nibabel is already installed.\n",
      "pillow is already installed.\n",
      "Package fastparquet not found. Installing...\n",
      "notebook is already installed.\n"
     ]
    }
   ],
   "source": [
    "# install required packages\n",
    "\n",
    "# Read the requirements.txt file\n",
    "with open('requirements.txt', 'r') as file:\n",
    "    listed_packages = file.readlines()\n",
    "\n",
    "# Extract package names, handling both with and without versions\n",
    "listed_packages = {line.split('==')[0].strip() if '==' in line else line.strip() for line in listed_packages}\n",
    "\n",
    "installed_packages = {pkg.key for pkg in pkg_resources.working_set}\n",
    "\n",
    "for package in listed_packages:\n",
    "    if package.lower() not in installed_packages:\n",
    "        print(f\"Package {package} not found. Installing...\")\n",
    "        install_package(package)\n",
    "    else:\n",
    "        print(f\"{package} is already installed.\")"
   ],
   "metadata": {
    "collapsed": false,
    "ExecuteTime": {
     "end_time": "2023-11-22T15:32:31.011309900Z",
     "start_time": "2023-11-22T15:32:17.796753700Z"
    }
   },
   "id": "611107303f007b00"
  }
 ],
 "metadata": {
  "kernelspec": {
   "display_name": "Python 3",
   "language": "python",
   "name": "python3"
  },
  "language_info": {
   "codemirror_mode": {
    "name": "ipython",
    "version": 2
   },
   "file_extension": ".py",
   "mimetype": "text/x-python",
   "name": "python",
   "nbconvert_exporter": "python",
   "pygments_lexer": "ipython2",
   "version": "2.7.6"
  }
 },
 "nbformat": 4,
 "nbformat_minor": 5
}
