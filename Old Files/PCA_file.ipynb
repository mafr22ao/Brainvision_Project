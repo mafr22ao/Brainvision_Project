{
 "cells": [
  {
   "cell_type": "code",
   "execution_count": 1,
   "id": "initial_id",
   "metadata": {
    "collapsed": true,
    "ExecuteTime": {
     "end_time": "2023-11-25T12:33:48.053123900Z",
     "start_time": "2023-11-25T12:33:46.658411600Z"
    }
   },
   "outputs": [],
   "source": [
    "from sklearn.decomposition import PCA\n",
    "\n",
    "def dimension_reduction_pca(video_tensor, n_components=0.95):\n",
    "    \"\"\"\n",
    "    Applies PCA to reduce the dimensions of the video tensor.\n",
    "\n",
    "    Parameters:\n",
    "    video_tensor (numpy.ndarray): The video tensor to be reduced in dimension.\n",
    "    n_components (float or int): Number of components to keep. \n",
    "                                 If 0 < n_components < 1, select the number of components such that \n",
    "                                 the cumulative explained variance ratio is greater than n_components.\n",
    "\n",
    "    Returns:\n",
    "    numpy.ndarray: The transformed video tensor with reduced dimensions.\n",
    "    \"\"\"\n",
    "\n",
    "    # Reshape the video tensor for PCA\n",
    "    # Assuming the shape of the video_tensor is (num_frames, 1, num_features)\n",
    "    # We need to reshape it to (num_frames, num_features)\n",
    "    reshaped_tensor = video_tensor.reshape(video_tensor.shape[0], -1)\n",
    "\n",
    "    # Initialize PCA\n",
    "    pca = PCA(n_components=n_components)\n",
    "\n",
    "    # Apply PCA\n",
    "    reduced_tensor = pca.fit_transform(reshaped_tensor)\n",
    "\n",
    "    return reduced_tensor"
   ]
  },
  {
   "cell_type": "code",
   "execution_count": null,
   "outputs": [],
   "source": [
    "pca_video_tensor = dimension_reduction_pca(video_tensor)"
   ],
   "metadata": {
    "collapsed": false
   },
   "id": "698b2582156e7a34"
  },
  {
   "cell_type": "code",
   "execution_count": null,
   "outputs": [],
   "source": [
    "pca_video_tensor"
   ],
   "metadata": {
    "collapsed": false
   },
   "id": "1bd7c320cb654027"
  },
  {
   "cell_type": "code",
   "execution_count": null,
   "outputs": [],
   "source": [
    "# Define the function to apply PCA and save reduced videos\n",
    "def save_reduced_videos(source_folder, target_folder, n_components=0.95):\n",
    "\n",
    "    # Process each tensor in the source folder\n",
    "    for file_name in os.listdir(source_folder):\n",
    "        file_path = os.path.join(source_folder, file_name)\n",
    "        if file_path.endswith('.pkl'):\n",
    "            # Load the video tensor\n",
    "            with open(file_path, 'rb') as file:\n",
    "                video_tensor = pickle.load(file)\n",
    "\n",
    "            # Reduce dimensionality\n",
    "            reduced_tensor = dimension_reduction_pca(video_tensor, n_components)\n",
    "\n",
    "            # Save the reduced data\n",
    "            reduced_file_path = os.path.join(target_folder, file_name.replace('.pkl', '_reduced.pkl'))\n",
    "            with open(reduced_file_path, 'wb') as reduced_file:\n",
    "                pickle.dump(reduced_tensor, reduced_file)\n",
    "                "
   ],
   "metadata": {
    "collapsed": false
   },
   "id": "134646699329998"
  },
  {
   "cell_type": "code",
   "execution_count": null,
   "outputs": [],
   "source": [
    "source_folder = 'preprocessed_videos'\n",
    "target_folder = 'reduced_videos'\n",
    "save_reduced_videos(source_folder, target_folder)"
   ],
   "metadata": {
    "collapsed": false
   },
   "id": "c014ad58f1fdb0e9"
  }
 ],
 "metadata": {
  "kernelspec": {
   "display_name": "Python 3",
   "language": "python",
   "name": "python3"
  },
  "language_info": {
   "codemirror_mode": {
    "name": "ipython",
    "version": 2
   },
   "file_extension": ".py",
   "mimetype": "text/x-python",
   "name": "python",
   "nbconvert_exporter": "python",
   "pygments_lexer": "ipython2",
   "version": "2.7.6"
  }
 },
 "nbformat": 4,
 "nbformat_minor": 5
}
