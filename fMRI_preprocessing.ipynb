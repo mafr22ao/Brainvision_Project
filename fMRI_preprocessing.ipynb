{
 "cells": [
  {
   "cell_type": "code",
   "execution_count": null,
   "id": "initial_id",
   "metadata": {
    "collapsed": true
   },
   "outputs": [],
   "source": [
    "import numpy as np\n",
    "import "
   ]
  },
  {
   "cell_type": "code",
   "execution_count": null,
   "outputs": [],
   "source": [
    "#@title Functions to estimate reliability of voxels\n",
    "def vectorized_correlation(x,y):\n",
    "    dim = 0\n",
    "\n",
    "    centered_x = x - x.mean(axis=dim, keepdims=True)\n",
    "    centered_y = y - y.mean(axis=dim, keepdims=True)\n",
    "\n",
    "    covariance = (centered_x * centered_y).sum(axis=dim, keepdims=True)\n",
    "\n",
    "    covariance = covariance / (x.shape[dim])\n",
    "\n",
    "    x_std = x.std(axis=dim, keepdims=True)+1e-8\n",
    "    y_std = y.std(axis=dim, keepdims=True)+1e-8\n",
    "\n",
    "    corr = covariance / (x_std * y_std)\n",
    "\n",
    "    return corr.ravel()\n",
    "\n",
    "\n",
    "def get_splithalf_reliability(fmri_all_trials):\n",
    "    # number of repetitions\n",
    "    num_reps =  fmri_all_trials.shape[1]\n",
    "    possible_inds = range(num_reps)\n",
    "\n",
    "    # split size defined by L\n",
    "    L = int(num_reps/2)\n",
    "    splits_a = []\n",
    "\n",
    "    # This for loop generates all possible ways of selecting\n",
    "    # num_reps/2 indices from num_reps (=3 here)\n",
    "    for subset in itertools.combinations(possible_inds, L):\n",
    "        splits_a.append(np.array(subset))\n",
    "\n",
    "    # Number of unique splits\n",
    "    splits_a = splits_a[:len(splits_a)//2+1]\n",
    "\n",
    "    # initialing rho which will store split-half correlation for all voxels\n",
    "    rho = np.zeros(fmri_all_trials.shape[2])\n",
    "\n",
    "    ## Calculating the correlation between two splits and\n",
    "    ## then averaging to get noise_ceiling\n",
    "    for split_a in tqdm(splits_a):\n",
    "        split_b = np.delete(possible_inds, split_a)\n",
    "        a = fmri_all_trials[:,split_a,:]\n",
    "        b = fmri_all_trials[:,split_b,:]\n",
    "        a = np.mean(a,axis=1)\n",
    "        b = np.mean(b,axis=1)\n",
    "        temp_corr = vectorized_correlation(a, b)\n",
    "        rho += temp_corr\n",
    "    rho = rho/len(splits_a)\n",
    "\n",
    "    # Spearman - brown reliability definition from Wikipedia https://en.wikipedia.org/wiki/Spearman%E2%80%93Brown_prediction_formula\n",
    "    reliability = 2*rho/(1+rho)\n",
    "    return reliability\n",
    "\n",
    "def visualize_reliability(reliability,voxel_mask):\n",
    "    visual_mask_3D = np.zeros((78,93,71))\n",
    "    visual_mask_3D[voxel_mask==1]= reliability\n",
    "    brain_mask = '/content/example.nii'\n",
    "    nii_save_path =  os.path.join('/content/reliability.nii')\n",
    "    saveasnii(brain_mask,nii_save_path,visual_mask_3D)\n",
    "    plotting.plot_glass_brain(nii_save_path,\n",
    "                            title='Voxel reliability (Training)',plot_abs=False,\n",
    "                            display_mode='lyr',colorbar=True)"
   ],
   "metadata": {
    "collapsed": false
   },
   "id": "ddc5d92df12ab804"
  },
  {
   "cell_type": "code",
   "execution_count": null,
   "outputs": [],
   "source": [
    "sub = 'sub04'  #@param [\"sub01\",\"sub02\",\"sub03\",\"sub04\",\"sub05\",\"sub06\",\"sub07\",\"sub08\",\"sub09\",\"sub10\"]\n",
    "ROI = \"WB\"\n",
    "\n",
    "####### setting up paths to fMRI directory for given subject and ROI ######\n",
    "fmri_dir = '/content/participants_data_v2021'\n",
    "if ROI == \"WB\":\n",
    "    track = \"full_track\"\n",
    "else:\n",
    "    track = \"mini_track\"\n",
    "track_dir = os.path.join(fmri_dir, track)\n",
    "sub_fmri_dir = os.path.join(track_dir, sub)\n",
    "####### setting up paths to fMRI directory for given subject and ROI ######\n",
    "\n",
    "# Wrapper to load fMRI data\n",
    "fmri_train_alltrials,voxel_mask = get_fmri_all_trials(sub_fmri_dir, ROI)\n",
    "\n",
    "# Calculate split-half reliability using training data\n",
    "reliability = get_splithalf_reliability(fmri_train_alltrials)\n",
    "\n",
    "# Reliability visualization\n",
    "visualize_reliability(reliability,voxel_mask)"
   ],
   "metadata": {
    "collapsed": false
   },
   "id": "51305675b4d156be"
  }
 ],
 "metadata": {
  "kernelspec": {
   "display_name": "Python 3",
   "language": "python",
   "name": "python3"
  },
  "language_info": {
   "codemirror_mode": {
    "name": "ipython",
    "version": 2
   },
   "file_extension": ".py",
   "mimetype": "text/x-python",
   "name": "python",
   "nbconvert_exporter": "python",
   "pygments_lexer": "ipython2",
   "version": "2.7.6"
  }
 },
 "nbformat": 4,
 "nbformat_minor": 5
}
