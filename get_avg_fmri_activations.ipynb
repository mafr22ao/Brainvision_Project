{
 "cells": [
  {
   "cell_type": "code",
   "execution_count": 24,
   "id": "initial_id",
   "metadata": {
    "collapsed": true,
    "ExecuteTime": {
     "end_time": "2024-02-23T18:12:57.261303100Z",
     "start_time": "2024-02-23T18:12:57.251367800Z"
    }
   },
   "outputs": [],
   "source": [
    "from fmri_preprocessing import load_dict, get_fmri\n",
    "import numpy as np"
   ]
  },
  {
   "cell_type": "code",
   "execution_count": 25,
   "outputs": [],
   "source": [
    "subs = [\"sub01\", \"sub02\", \"sub03\", \"sub04\", \"sub05\", \"sub06\", \"sub07\", \"sub08\", \"sub09\", \"sub10\"]\n",
    "ROIs = [\"V1\", \"V2\", \"V3\", \"V4\", \"LOC\", \"EBA\", \"FFA\", \"STS\", \"PPA\"]\n",
    "\n",
    "def get_avg_fmri_per_video(ROIs, subs):\n",
    "    # Initialize a dictionary to store the concatenated activations for each ROI\n",
    "    concatenated_activations = {ROI: None for ROI in ROIs}\n",
    "    \n",
    "    # Loop through each ROI and subject, concatenate activations\n",
    "    for ROI in ROIs:\n",
    "        concatenated_data = []  # Temporary list to hold concatenated data for this ROI\n",
    "        for sub in subs:\n",
    "            fmri_data = get_fmri(sub, ROI)\n",
    "            concatenated_data.append(fmri_data)\n",
    "        # Concatenate along the second axis (features)\n",
    "        concatenated_activations[ROI] = np.concatenate(concatenated_data, axis=1)\n",
    "        \n",
    "    # Compute the mean of the concatenated values across the feature dimension for each video\n",
    "    avg_activation_per_video = {}\n",
    "    for ROI, data in concatenated_activations.items():\n",
    "        if data is not None:\n",
    "            # Mean across the feature dimension (axis=1) for each video\n",
    "            avg_activation_per_video[ROI] = np.mean(data, axis=1)\n",
    "    \n",
    "    return avg_activation_per_video"
   ],
   "metadata": {
    "collapsed": false,
    "ExecuteTime": {
     "end_time": "2024-02-23T18:12:57.261303100Z",
     "start_time": "2024-02-23T18:12:57.258539600Z"
    }
   },
   "id": "e9b104a635c5e9cc"
  },
  {
   "cell_type": "code",
   "execution_count": 26,
   "outputs": [
    {
     "name": "stdout",
     "output_type": "stream",
     "text": [
      "V1: (1000,)\n",
      "V2: (1000,)\n",
      "V3: (1000,)\n",
      "V4: (1000,)\n",
      "LOC: (1000,)\n",
      "EBA: (1000,)\n",
      "FFA: (1000,)\n",
      "STS: (1000,)\n",
      "PPA: (1000,)\n"
     ]
    }
   ],
   "source": [
    "avg_activation_per_video = get_avg_fmri_per_video(ROIs, subs)\n",
    "for ROI, value in avg_activation_per_video.items():\n",
    "    print(f\"{ROI}: {value.shape}\")"
   ],
   "metadata": {
    "collapsed": false,
    "ExecuteTime": {
     "end_time": "2024-02-23T18:12:57.986009300Z",
     "start_time": "2024-02-23T18:12:57.261303100Z"
    }
   },
   "id": "78dc4ec3e5abad81"
  }
 ],
 "metadata": {
  "kernelspec": {
   "display_name": "Python 3",
   "language": "python",
   "name": "python3"
  },
  "language_info": {
   "codemirror_mode": {
    "name": "ipython",
    "version": 2
   },
   "file_extension": ".py",
   "mimetype": "text/x-python",
   "name": "python",
   "nbconvert_exporter": "python",
   "pygments_lexer": "ipython2",
   "version": "2.7.6"
  }
 },
 "nbformat": 4,
 "nbformat_minor": 5
}
