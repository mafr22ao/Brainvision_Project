{
 "cells": [
  {
   "cell_type": "markdown",
   "id": "fb579d9c64e8fbff",
   "metadata": {
    "collapsed": false,
    "jupyter": {
     "outputs_hidden": false
    }
   },
   "source": [
    "Channel PCA captures most significant patterns across frames for each channel, potentially highlighting the most prominent changes or features in the video content for that specific channel.\n",
    "**Do we want that or are there better ways to capture spatial features per frame?**"
   ]
  },
  {
   "cell_type": "code",
   "execution_count": 1,
   "id": "9faca7027604e2",
   "metadata": {
    "ExecuteTime": {
     "end_time": "2023-12-21T16:50:15.909543800Z",
     "start_time": "2023-12-21T16:50:15.902119900Z"
    },
    "collapsed": false,
    "jupyter": {
     "outputs_hidden": false
    }
   },
   "outputs": [],
   "source": [
    "import os\n",
    "import pickle\n",
    "import numpy as np\n",
    "from sklearn.preprocessing import StandardScaler\n",
    "from sklearn.decomposition import PCA\n",
    "from tqdm import tqdm"
   ]
  },
  {
   "cell_type": "code",
   "execution_count": 3,
   "id": "e55940dce8be960b",
   "metadata": {
    "ExecuteTime": {
     "end_time": "2023-12-21T16:50:16.050889200Z",
     "start_time": "2023-12-21T16:50:16.044090900Z"
    },
    "collapsed": false,
    "jupyter": {
     "outputs_hidden": false
    }
   },
   "outputs": [
    {
     "name": "stdout",
     "output_type": "stream",
     "text": [
      "Repository Root: None\n"
     ]
    }
   ],
   "source": [
    "def find_repo_root(path='.'):\n",
    "    path = os.path.abspath(path)\n",
    "    while not os.path.isdir(os.path.join(path, '.git')):\n",
    "        parent = os.path.dirname(path)\n",
    "        if parent == path:\n",
    "            # We've reached the root of the file system without finding '.git'\n",
    "            return None\n",
    "        path = parent\n",
    "    return path\n",
    "\n",
    "repo_root = find_repo_root()\n",
    "print(\"Repository Root:\", repo_root)"
   ]
  },
  {
   "cell_type": "code",
   "execution_count": 4,
   "id": "295ff56dbac193c4",
   "metadata": {
    "ExecuteTime": {
     "end_time": "2023-12-21T16:50:16.566153100Z",
     "start_time": "2023-12-21T16:50:16.566153100Z"
    },
    "collapsed": false,
    "jupyter": {
     "outputs_hidden": false
    }
   },
   "outputs": [],
   "source": [
    "def get_full_path(relative_path, repo_root):\n",
    "    if not repo_root:\n",
    "        raise ValueError(\"Repository root not found. Ensure you're inside a Git repository.\")\n",
    "\n",
    "    return os.path.join(repo_root, relative_path)\n"
   ]
  },
  {
   "cell_type": "code",
   "execution_count": 5,
   "id": "b1d0d16c1636fca7",
   "metadata": {
    "ExecuteTime": {
     "end_time": "2023-12-21T16:50:19.431586Z",
     "start_time": "2023-12-21T16:50:19.431586Z"
    },
    "collapsed": false,
    "jupyter": {
     "outputs_hidden": false
    }
   },
   "outputs": [],
   "source": [
    "# step 1 function\n",
    "def load_and_combine_tensors(stage_name, input_folder, num_videos):\n",
    "    combined_tensor = []\n",
    "    video_indices = {}\n",
    "\n",
    "    for video_id in range(1, num_videos + 1):\n",
    "        filename = f\"{str(video_id).zfill(4)}_{stage_name}.pkl\"\n",
    "        file_path = os.path.join(input_folder, stage_name, filename)\n",
    "\n",
    "        if os.path.exists(file_path):\n",
    "            #print(f\"Loading tensor from: {file_path}\")\n",
    "            with open(file_path, 'rb') as file:\n",
    "                tensor = pickle.load(file)\n",
    "                combined_tensor.append(tensor)\n",
    "                # Track start and end indices for each video\n",
    "                end_index = sum(t.shape[0] for t in combined_tensor)\n",
    "                video_indices[str(video_id).zfill(4)] = (end_index - tensor.shape[0], end_index)\n",
    "\n",
    "    if not combined_tensor:\n",
    "        print(\"No tensors found to combine.\")\n",
    "        return None, None\n",
    "\n",
    "    combined_tensor = np.concatenate(combined_tensor, axis=0)\n",
    "    return combined_tensor, video_indices\n"
   ]
  },
  {
   "cell_type": "code",
   "execution_count": 6,
   "id": "698222bfb9b8029c",
   "metadata": {
    "ExecuteTime": {
     "end_time": "2023-12-21T16:50:19.640743500Z",
     "start_time": "2023-12-21T16:50:19.632259300Z"
    },
    "collapsed": false,
    "jupyter": {
     "outputs_hidden": false
    }
   },
   "outputs": [],
   "source": [
    "# Step 2: globalized standardization (only based on training set)\n",
    "def standardize_tensors(combined_tensor, video_indices, training_end_id='0800'):\n",
    "    reshaped_tensor = combined_tensor.reshape(combined_tensor.shape[0], -1)\n",
    "    scaler = StandardScaler()\n",
    "\n",
    "    # Find the end index of the training set\n",
    "    training_end_index = video_indices[training_end_id][1]\n",
    "\n",
    "    # Fit the scaler only on the training set\n",
    "    scaler.fit(reshaped_tensor[:training_end_index])\n",
    "\n",
    "    # Transform both training and test sets\n",
    "    standardized_data = scaler.transform(reshaped_tensor)\n",
    "    \n",
    "    return standardized_data.reshape(combined_tensor.shape)"
   ]
  },
  {
   "cell_type": "code",
   "execution_count": 7,
   "id": "bd7243f3621ad841",
   "metadata": {
    "ExecuteTime": {
     "end_time": "2023-12-21T16:50:20.005915700Z",
     "start_time": "2023-12-21T16:50:20.005915700Z"
    },
    "collapsed": false,
    "jupyter": {
     "outputs_hidden": false
    }
   },
   "outputs": [],
   "source": [
    "# Step 3: Separate the standardized tensor back into individual tensors\n",
    "def separate_standardized_tensor(standardized_tensor, video_indices):\n",
    "    separated_tensors = {}\n",
    "    for video_id, (start, end) in video_indices.items():\n",
    "        separated_tensors[video_id] = standardized_tensor[start:end, :]\n",
    "    return separated_tensors"
   ]
  },
  {
   "cell_type": "code",
   "execution_count": 8,
   "id": "28218b83061c622",
   "metadata": {
    "ExecuteTime": {
     "end_time": "2023-12-21T16:50:25.720947800Z",
     "start_time": "2023-12-21T16:50:25.704794500Z"
    },
    "collapsed": false,
    "jupyter": {
     "outputs_hidden": false
    }
   },
   "outputs": [],
   "source": [
    "# to get same number of PCs for each video: fit PCA on all videos with a given variance threshold. Find max number of components. Fit and transform PCA with max number of components. -> makes sure that variance captured in each video is >= variance_ratio.\n",
    "\n",
    "def apply_fmpca_and_save(separated_tensors, stage_name, output_folder, variance_ratio):\n",
    "    # Assuming 'separated_tensors' is your dictionary with video IDs as keys and feature maps as values\n",
    "    \n",
    "    # Initialize a dictionary to store the final PCA results for each video\n",
    "    final_pca_results = {}\n",
    "    # Determine the spatial dimensions product from the first tensor\n",
    "    first_feature_map = next(iter(separated_tensors.values()))\n",
    "    spatial_dims_product = np.prod(first_feature_map.shape[2:4])  # Assuming spatial dimensions are in 3rd and 4th place\n",
    "    \n",
    "    # Step 1: Determine the maximum number of components needed, but only for training set\n",
    "    max_components = 0\n",
    "    training_video_ids = [vid for vid in separated_tensors if vid <= \"0800\"]\n",
    "    for video_id in tqdm(training_video_ids, desc=\"Finding max. number of PCs...\"):\n",
    "        feature_maps = separated_tensors[video_id]\n",
    "        for channel in range(feature_maps.shape[-1]):\n",
    "            pca = PCA(n_components=variance_ratio)\n",
    "            data_for_channel = feature_maps[..., channel].reshape(-1, spatial_dims_product)\n",
    "            pca.fit(data_for_channel)\n",
    "            max_components = max(max_components, pca.n_components_)\n",
    "    \n",
    "    print(f\"Max. number of PCs: {max_components}\")\n",
    "    \n",
    "    # Step 2: Apply PCA with the determined number of components\n",
    "    for video_id, feature_maps in tqdm(separated_tensors.items(), desc=\"Performing PCA...\"):\n",
    "        pca_results = []\n",
    "    \n",
    "        # Loop over each channel\n",
    "        for channel in range(feature_maps.shape[-1]):\n",
    "            # Reshape the data for this channel\n",
    "            data_for_pca = feature_maps[..., channel].reshape(-1, spatial_dims_product)\n",
    "    \n",
    "            # Apply PCA with the maximum number of components\n",
    "            pca = PCA(n_components=max_components)\n",
    "            pca_result = pca.fit_transform(data_for_pca)\n",
    "    \n",
    "            pca_results.append(pca_result)\n",
    "    \n",
    "        # Concatenate the PCA results from all channels for this video\n",
    "        final_result = np.concatenate(pca_results, axis=1)\n",
    "    \n",
    "        # Store the result in the dictionary with the video ID as the key\n",
    "        final_pca_results[video_id] = final_result\n",
    "        # final_pca_results now contains the PCA-transformed data for each video\n",
    "        # print(f\"Processed Video ID: {video_id}, Resulting Shape: {final_result.shape}\")\n",
    "\n",
    "    pca_folder = os.path.join(output_folder, f\"PCA_channel_{variance_ratio}\", stage_name)\n",
    "    if not os.path.exists(pca_folder):\n",
    "        os.makedirs(pca_folder)\n",
    "        \n",
    "    file_path = os.path.join(pca_folder, 'pca_results.pkl')\n",
    "    with open(file_path, 'wb') as f:\n",
    "        pickle.dump(final_pca_results, f)\n",
    "    \n",
    "    print(f\"{stage_name} PCs stored in: {file_path}\")"
   ]
  },
  {
   "cell_type": "code",
   "execution_count": 9,
   "id": "273094de-3d09-432e-b631-77f632922d71",
   "metadata": {
    "ExecuteTime": {
     "end_time": "2023-12-21T16:50:27.277412600Z",
     "start_time": "2023-12-21T16:50:27.271566700Z"
    }
   },
   "outputs": [],
   "source": [
    "def process_stage_for_pca(input_folder, output_folder, stage_name):\n",
    "    \"\"\"\n",
    "    Process all videos of a given stage: standardize, apply PCA, and save the PCA-transformed tensors.\n",
    "    Args:\n",
    "    - input_folder: Folder containing the pre-processed videos.\n",
    "    - output_folder: Folder to save PCA results.\n",
    "    - stage_name: Name of the stage to process.\n",
    "    Returns:\n",
    "    - DataFrame containing metadata (video ID and variance captured).\n",
    "    \"\"\"\n",
    "     # Use the current working directory or a known absolute path\n",
    "    current_working_directory = os.getcwd()\n",
    "    stage_folder = os.path.join(current_working_directory, input_folder, stage_name)\n",
    "    print(\"Attempting to access:\", stage_folder)\n",
    "\n",
    "    if not os.path.exists(stage_folder):\n",
    "        print(\"Directory not found:\", stage_folder)\n",
    "        return None\n",
    "    # Calculate the number of video files in the folder\n",
    "    num_videos = len([f for f in os.listdir(stage_folder) if os.path.isfile(os.path.join(stage_folder, f))])\n",
    "    print(f\"Number of videos found: {num_videos}\")\n",
    "\n",
    "    # Step 1: Load and combine tensors\n",
    "    combined_tensor, video_indices = load_and_combine_tensors(stage_name, input_folder, num_videos)\n",
    "    print(\"Step 1 done.\")\n",
    "    # Step 2: Globally standardize the tensor\n",
    "    standardized_tensor = standardize_tensors(combined_tensor, video_indices)\n",
    "    print(\"Step 2 done.\")\n",
    "    # Step 3: Separate the standardized tensor back into individual tensors\n",
    "    separated_tensors = separate_standardized_tensor(standardized_tensor, video_indices)\n",
    "    print(\"Step 3 done.\")\n",
    "    # Step 4: Apply PCA to each tensor and save the result\n",
    "    apply_fmpca_and_save(separated_tensors, stage_name, output_folder, variance_ratio)\n",
    "    print(\"Step 4 done.\")"
   ]
  },
  {
   "cell_type": "code",
   "execution_count": 10,
   "id": "38a2182002e8f9b0",
   "metadata": {
    "ExecuteTime": {
     "end_time": "2023-12-21T16:50:29.300362300Z",
     "start_time": "2023-12-21T16:50:29.291897Z"
    },
    "collapsed": false,
    "jupyter": {
     "outputs_hidden": false
    }
   },
   "outputs": [
    {
     "name": "stdout",
     "output_type": "stream",
     "text": [
      "/work\n",
      "None\n"
     ]
    }
   ],
   "source": [
    "print(os.getcwd())\n",
    "print(repo_root)"
   ]
  },
  {
   "cell_type": "code",
   "execution_count": 11,
   "id": "fc8f4a7dfe583730",
   "metadata": {
    "ExecuteTime": {
     "end_time": "2023-12-21T16:51:23.906573700Z",
     "start_time": "2023-12-21T16:50:31.672794800Z"
    },
    "collapsed": false,
    "editable": true,
    "jupyter": {
     "outputs_hidden": false
    },
    "slideshow": {
     "slide_type": ""
    },
    "tags": []
   },
   "outputs": [
    {
     "name": "stdout",
     "output_type": "stream",
     "text": [
      "Processing stage_3...\n",
      "Attempting to access: /work/preprocessed_videos_30frames/stage_3\n",
      "Number of videos found: 1000\n",
      "Step 1 done.\n",
      "Step 2 done.\n",
      "Step 3 done.\n"
     ]
    },
    {
     "name": "stderr",
     "output_type": "stream",
     "text": [
      "Finding max. number of PCs...: 100%|██████████| 800/800 [1:38:28<00:00,  7.39s/it]\n"
     ]
    },
    {
     "name": "stdout",
     "output_type": "stream",
     "text": [
      "Max. number of PCs: 27\n"
     ]
    },
    {
     "name": "stderr",
     "output_type": "stream",
     "text": [
      "Performing PCA...: 100%|██████████| 1000/1000 [1:56:47<00:00,  7.01s/it]\n"
     ]
    },
    {
     "name": "stdout",
     "output_type": "stream",
     "text": [
      "stage_3 PCs stored in: /work/PCA_channel_0.95/stage_3/pca_results.pkl\n",
      "Step 4 done.\n",
      "Processing stage_4...\n",
      "Attempting to access: /work/preprocessed_videos_30frames/stage_4\n",
      "Number of videos found: 1000\n",
      "Step 1 done.\n",
      "Step 2 done.\n",
      "Step 3 done.\n"
     ]
    },
    {
     "name": "stderr",
     "output_type": "stream",
     "text": [
      "Finding max. number of PCs...: 100%|██████████| 800/800 [12:45<00:00,  1.05it/s]\n"
     ]
    },
    {
     "name": "stdout",
     "output_type": "stream",
     "text": [
      "Max. number of PCs: 25\n"
     ]
    },
    {
     "name": "stderr",
     "output_type": "stream",
     "text": [
      "Performing PCA...: 100%|██████████| 1000/1000 [14:47<00:00,  1.13it/s]\n"
     ]
    },
    {
     "name": "stdout",
     "output_type": "stream",
     "text": [
      "stage_4 PCs stored in: /work/PCA_channel_0.95/stage_4/pca_results.pkl\n",
      "Step 4 done.\n",
      "Processing stage_5...\n",
      "Attempting to access: /work/preprocessed_videos_30frames/stage_5\n",
      "Number of videos found: 1000\n",
      "Step 1 done.\n",
      "Step 2 done.\n",
      "Step 3 done.\n"
     ]
    },
    {
     "name": "stderr",
     "output_type": "stream",
     "text": [
      "Finding max. number of PCs...: 100%|██████████| 800/800 [16:15<00:00,  1.22s/it]\n"
     ]
    },
    {
     "name": "stdout",
     "output_type": "stream",
     "text": [
      "Max. number of PCs: 21\n"
     ]
    },
    {
     "name": "stderr",
     "output_type": "stream",
     "text": [
      "Performing PCA...: 100%|██████████| 1000/1000 [17:26<00:00,  1.05s/it]\n"
     ]
    },
    {
     "name": "stdout",
     "output_type": "stream",
     "text": [
      "stage_5 PCs stored in: /work/PCA_channel_0.95/stage_5/pca_results.pkl\n",
      "Step 4 done.\n"
     ]
    }
   ],
   "source": [
    "# Example usage\n",
    "input_folder = 'preprocessed_videos_30frames'\n",
    "output_folder = os.getcwd()\n",
    "stages = [\"stage_3\", \"stage_4\", \"stage_5\"] #sucess: \"stage_1\", failed: \"stage_2\" when scaling\n",
    "variance_ratio = 0.95\n",
    "\n",
    "# Iterate over each stage and process it\n",
    "for stage in stages:\n",
    "    print(f\"Processing {stage}...\")\n",
    "    process_stage_for_pca(input_folder, output_folder, stage)\n"
   ]
  },
  {
   "cell_type": "code",
   "execution_count": null,
   "id": "51bd158bb567faf7",
   "metadata": {
    "collapsed": false,
    "jupyter": {
     "outputs_hidden": false
    }
   },
   "outputs": [],
   "source": [
    "#-----------------------------------------------------------------------"
   ]
  },
  {
   "cell_type": "code",
   "execution_count": 2,
   "id": "3616d500-552d-47d7-9c62-96ed13a329b9",
   "metadata": {},
   "outputs": [
    {
     "data": {
      "text/plain": [
       "'/work/PCA_channel_0.95.zip'"
      ]
     },
     "execution_count": 2,
     "metadata": {},
     "output_type": "execute_result"
    }
   ],
   "source": [
    "# zip pca folder\n",
    "import shutil\n",
    "\n",
    "directory_to_zip = \"PCA_channel_0.95\"  # Replace with your directory name\n",
    "output_filename = \"PCA_channel_0.95\"  # Replace with your desired output name\n",
    "output_path = os.path.join(os.getcwd(), output_filename)\n",
    "shutil.make_archive(output_path, 'zip', directory_to_zip)"
   ]
  }
 ],
 "metadata": {
  "kernelspec": {
   "display_name": "Python 3 ",
   "language": "python",
   "name": "python3"
  },
  "language_info": {
   "codemirror_mode": {
    "name": "ipython",
    "version": 3
   },
   "file_extension": ".py",
   "mimetype": "text/x-python",
   "name": "python",
   "nbconvert_exporter": "python",
   "pygments_lexer": "ipython3",
   "version": "3.10.12"
  }
 },
 "nbformat": 4,
 "nbformat_minor": 5
}
