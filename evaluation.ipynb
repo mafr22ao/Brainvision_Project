{
 "cells": [
  {
   "cell_type": "code",
   "execution_count": 11,
   "outputs": [],
   "source": [
    "import os\n",
    "import pandas as pd\n",
    "import numpy as np\n",
    "import tensorflow as tf\n",
    "from keras.models import load_model\n",
    "try:\n",
    "    from utils import find_repo_root, calculate_vectorized_correlation, get_fmri, get_pca\n",
    "except:\n",
    "    from utils_without_motion import find_repo_root, calculate_vectorized_correlation, get_fmri, get_pca"
   ],
   "metadata": {
    "collapsed": false,
    "ExecuteTime": {
     "end_time": "2023-12-05T09:12:47.463629400Z",
     "start_time": "2023-12-05T09:12:47.457105100Z"
    }
   },
   "id": "fe5b3e1fa23587bc"
  },
  {
   "cell_type": "markdown",
   "source": [
    "### Function Definitions"
   ],
   "metadata": {
    "collapsed": false
   },
   "id": "20a165374ae330c7"
  },
  {
   "cell_type": "code",
   "execution_count": 12,
   "outputs": [],
   "source": [
    "def save_dataframes(df1, df2, layer, data_mode=\"test\"):\n",
    "    \"\"\"\n",
    "    saves test results for testing / validation in csv files\n",
    "    :param df1: previously created df with one line per voxel, subject, ROI & layer\n",
    "    :param df2: previously created df aggregated over voxels and subject (yields score per ROI & layer)\n",
    "    :param layer: used stage of the feature extraction model\n",
    "    :param data_mode: set to \"val\" if validation scores have been calculated\n",
    "    \"\"\"\n",
    "    if data_mode == \"val\":\n",
    "        mode_str = \"_val\"\n",
    "    else:\n",
    "        mode_str = \"\"\n",
    "    test_scores_dir = os.path.join(os.getcwd(), \"test_scores\")\n",
    "    if not os.path.exists(test_scores_dir):\n",
    "      os.makedirs(test_scores_dir)\n",
    "    df1.to_csv(os.path.join(test_scores_dir, f\"test_results_{layer}{mode_str}.csv\"), index=False)\n",
    "    df2.to_csv(os.path.join(test_scores_dir, f\"test_results_aggregated_{layer}{mode_str}.csv\"), index=False)"
   ],
   "metadata": {
    "collapsed": false,
    "ExecuteTime": {
     "end_time": "2023-12-05T09:12:48.106730800Z",
     "start_time": "2023-12-05T09:12:48.101746700Z"
    }
   },
   "id": "f48664e99eb13448"
  },
  {
   "cell_type": "code",
   "execution_count": 16,
   "outputs": [],
   "source": [
    "def test_model(layer, ROI, sub, X_test, y_test, df, mode=\"test\"):\n",
    "    \"\"\"\n",
    "    reads in model for a certain stage, ROI & subject\n",
    "    tests the models, saves the predicted brain activations, and appends the test results to the results df\n",
    "    :param layer: used stage of the feature extraction model\n",
    "    :param ROI: region of interest\n",
    "    :param sub: current subject\n",
    "    :param X_test: test data. Use validation for mode \"val\" and test for mode \"test\"\n",
    "    :param y_test: test labels. Use validation for mode \"val\" and test for mode \"test\"\n",
    "    :param df: df containing previous testing results\n",
    "    :param mode:  set to \"val\" if validation scores have been calculated\n",
    "    \"\"\"\n",
    "    \"\"\"\n",
    "    \n",
    "    :return: overview over correlation score values\n",
    "    \"\"\"\n",
    "    # navigate to correct stored model\n",
    "    model_dir = os.path.join(os.getcwd(), \"models\", layer, ROI, sub)\n",
    "    model = load_model(model_dir + \"/model.keras\")\n",
    "    \n",
    "    # calculate predicted voxel activations\n",
    "    prediction = model.predict(X_test)\n",
    "    \n",
    "    # calculate evaluation metric\n",
    "    test_corr = calculate_vectorized_correlation(y_test, prediction)\n",
    "    \n",
    "    # add evaluation metric results to the results dataframe\n",
    "    new_values = {'stage': layer, 'ROI': ROI, 'sub': sub, 'correlation_score': test_corr}\n",
    "    new_values = pd.DataFrame(new_values)\n",
    "    new_values['voxel'] = new_values.index + 1\n",
    "    df = pd.concat([df, new_values], ignore_index=True)\n",
    "    \n",
    "    # save the predicted fmri's\n",
    "    if mode == \"test\":\n",
    "        predictions_dir = os.path.join(os.getcwd(), \"predictions\", layer, ROI, sub)\n",
    "        if not os.path.exists(predictions_dir):\n",
    "          os.makedirs(predictions_dir)\n",
    "        np.save('prediction.npy', prediction)\n",
    "\n",
    "    return df\n",
    "    "
   ],
   "metadata": {
    "collapsed": false,
    "ExecuteTime": {
     "end_time": "2023-12-05T09:20:07.618911600Z",
     "start_time": "2023-12-05T09:20:07.587246100Z"
    }
   },
   "id": "113604f9c2219e45"
  },
  {
   "cell_type": "markdown",
   "source": [
    "### Model Evaluation"
   ],
   "metadata": {
    "collapsed": false
   },
   "id": "b2787b4445fe161d"
  },
  {
   "cell_type": "code",
   "execution_count": 18,
   "outputs": [
    {
     "name": "stdout",
     "output_type": "stream",
     "text": [
      "train_pca shape:  (800, 900)\n",
      "val_pca shape:  (100, 900)\n",
      "test_pca shape:  (100, 900)\n",
      "ROI_train shape:  (800, 18222)\n",
      "ROI_val shape:  (100, 18222)\n",
      "ROI_test shape:  (100, 18222)\n",
      "4/4 [==============================] - 1s 83ms/step\n"
     ]
    },
    {
     "name": "stderr",
     "output_type": "stream",
     "text": [
      "C:\\Users\\julia\\AppData\\Local\\Temp\\ipykernel_19604\\706412429.py:22: FutureWarning: The behavior of DataFrame concatenation with empty or all-NA entries is deprecated. In a future version, this will no longer exclude empty or all-NA columns when determining the result dtypes. To retain the old behavior, exclude the relevant entries before the concat operation.\n",
      "  df = pd.concat([df, new_values], ignore_index=True)\n",
      "C:\\Users\\julia\\AppData\\Local\\Temp\\ipykernel_19604\\3052111271.py:24: FutureWarning: The provided callable <function mean at 0x000001AAB3B72F20> is currently using SeriesGroupBy.mean. In a future version of pandas, the provided callable will be used directly. To keep current behavior pass the string \"mean\" instead.\n",
      "  test_results_aggregated = test_results.groupby([\"ROI\", \"stage\",\"sub\"])[\"correlation_score\"].agg(np.mean).reset_index()\n",
      "C:\\Users\\julia\\AppData\\Local\\Temp\\ipykernel_19604\\3052111271.py:26: FutureWarning: The provided callable <function mean at 0x000001AAB3B72F20> is currently using SeriesGroupBy.mean. In a future version of pandas, the provided callable will be used directly. To keep current behavior pass the string \"mean\" instead.\n",
      "  test_results_aggregated = test_results_aggregated.groupby([\"ROI\", \"stage\"])[\"correlation_score\"].agg(np.mean).reset_index()\n"
     ]
    },
    {
     "ename": "PermissionError",
     "evalue": "[Errno 13] Permission denied: 'C:\\\\Users\\\\julia\\\\OneDrive - CBS - Copenhagen Business School\\\\Documents\\\\Master\\\\Semester3\\\\AdvancedML\\\\Brainvision_Project\\\\test_scores\\\\test_results_aggregated.csv'",
     "output_type": "error",
     "traceback": [
      "\u001B[1;31m---------------------------------------------------------------------------\u001B[0m",
      "\u001B[1;31mPermissionError\u001B[0m                           Traceback (most recent call last)",
      "Cell \u001B[1;32mIn[18], line 29\u001B[0m\n\u001B[0;32m     26\u001B[0m         test_results_aggregated \u001B[38;5;241m=\u001B[39m test_results_aggregated\u001B[38;5;241m.\u001B[39mgroupby([\u001B[38;5;124m\"\u001B[39m\u001B[38;5;124mROI\u001B[39m\u001B[38;5;124m\"\u001B[39m, \u001B[38;5;124m\"\u001B[39m\u001B[38;5;124mstage\u001B[39m\u001B[38;5;124m\"\u001B[39m])[\u001B[38;5;124m\"\u001B[39m\u001B[38;5;124mcorrelation_score\u001B[39m\u001B[38;5;124m\"\u001B[39m]\u001B[38;5;241m.\u001B[39magg(np\u001B[38;5;241m.\u001B[39mmean)\u001B[38;5;241m.\u001B[39mreset_index()\n\u001B[0;32m     28\u001B[0m         \u001B[38;5;66;03m# save the dataframes\u001B[39;00m\n\u001B[1;32m---> 29\u001B[0m         save_dataframes(test_results, test_results_aggregated)\n\u001B[0;32m     31\u001B[0m \u001B[38;5;66;03m# calculate aggregated scores\u001B[39;00m\n\u001B[0;32m     32\u001B[0m \u001B[38;5;66;03m# aggregate per subject\u001B[39;00m\n\u001B[0;32m     33\u001B[0m test_results_aggregated \u001B[38;5;241m=\u001B[39m test_results\u001B[38;5;241m.\u001B[39mgroupby([\u001B[38;5;124m\"\u001B[39m\u001B[38;5;124mROI\u001B[39m\u001B[38;5;124m\"\u001B[39m, \u001B[38;5;124m\"\u001B[39m\u001B[38;5;124mstage\u001B[39m\u001B[38;5;124m\"\u001B[39m,\u001B[38;5;124m\"\u001B[39m\u001B[38;5;124msub\u001B[39m\u001B[38;5;124m\"\u001B[39m])[\u001B[38;5;124m\"\u001B[39m\u001B[38;5;124mcorrelation_score\u001B[39m\u001B[38;5;124m\"\u001B[39m]\u001B[38;5;241m.\u001B[39magg(np\u001B[38;5;241m.\u001B[39mmean)\u001B[38;5;241m.\u001B[39mreset_index()\n",
      "Cell \u001B[1;32mIn[12], line 6\u001B[0m, in \u001B[0;36msave_dataframes\u001B[1;34m(df1, df2)\u001B[0m\n\u001B[0;32m      4\u001B[0m   os\u001B[38;5;241m.\u001B[39mmakedirs(test_scores_dir)\n\u001B[0;32m      5\u001B[0m df1\u001B[38;5;241m.\u001B[39mto_csv(os\u001B[38;5;241m.\u001B[39mpath\u001B[38;5;241m.\u001B[39mjoin(test_scores_dir, \u001B[38;5;124m\"\u001B[39m\u001B[38;5;124mtest_results.csv\u001B[39m\u001B[38;5;124m\"\u001B[39m))\n\u001B[1;32m----> 6\u001B[0m df2\u001B[38;5;241m.\u001B[39mto_csv(os\u001B[38;5;241m.\u001B[39mpath\u001B[38;5;241m.\u001B[39mjoin(test_scores_dir, \u001B[38;5;124m\"\u001B[39m\u001B[38;5;124mtest_results_aggregated.csv\u001B[39m\u001B[38;5;124m\"\u001B[39m))\n",
      "File \u001B[1;32m~\\anaconda3\\envs\\AdvancedML\\Lib\\site-packages\\pandas\\core\\generic.py:3902\u001B[0m, in \u001B[0;36mNDFrame.to_csv\u001B[1;34m(self, path_or_buf, sep, na_rep, float_format, columns, header, index, index_label, mode, encoding, compression, quoting, quotechar, lineterminator, chunksize, date_format, doublequote, escapechar, decimal, errors, storage_options)\u001B[0m\n\u001B[0;32m   3891\u001B[0m df \u001B[38;5;241m=\u001B[39m \u001B[38;5;28mself\u001B[39m \u001B[38;5;28;01mif\u001B[39;00m \u001B[38;5;28misinstance\u001B[39m(\u001B[38;5;28mself\u001B[39m, ABCDataFrame) \u001B[38;5;28;01melse\u001B[39;00m \u001B[38;5;28mself\u001B[39m\u001B[38;5;241m.\u001B[39mto_frame()\n\u001B[0;32m   3893\u001B[0m formatter \u001B[38;5;241m=\u001B[39m DataFrameFormatter(\n\u001B[0;32m   3894\u001B[0m     frame\u001B[38;5;241m=\u001B[39mdf,\n\u001B[0;32m   3895\u001B[0m     header\u001B[38;5;241m=\u001B[39mheader,\n\u001B[1;32m   (...)\u001B[0m\n\u001B[0;32m   3899\u001B[0m     decimal\u001B[38;5;241m=\u001B[39mdecimal,\n\u001B[0;32m   3900\u001B[0m )\n\u001B[1;32m-> 3902\u001B[0m \u001B[38;5;28;01mreturn\u001B[39;00m DataFrameRenderer(formatter)\u001B[38;5;241m.\u001B[39mto_csv(\n\u001B[0;32m   3903\u001B[0m     path_or_buf,\n\u001B[0;32m   3904\u001B[0m     lineterminator\u001B[38;5;241m=\u001B[39mlineterminator,\n\u001B[0;32m   3905\u001B[0m     sep\u001B[38;5;241m=\u001B[39msep,\n\u001B[0;32m   3906\u001B[0m     encoding\u001B[38;5;241m=\u001B[39mencoding,\n\u001B[0;32m   3907\u001B[0m     errors\u001B[38;5;241m=\u001B[39merrors,\n\u001B[0;32m   3908\u001B[0m     compression\u001B[38;5;241m=\u001B[39mcompression,\n\u001B[0;32m   3909\u001B[0m     quoting\u001B[38;5;241m=\u001B[39mquoting,\n\u001B[0;32m   3910\u001B[0m     columns\u001B[38;5;241m=\u001B[39mcolumns,\n\u001B[0;32m   3911\u001B[0m     index_label\u001B[38;5;241m=\u001B[39mindex_label,\n\u001B[0;32m   3912\u001B[0m     mode\u001B[38;5;241m=\u001B[39mmode,\n\u001B[0;32m   3913\u001B[0m     chunksize\u001B[38;5;241m=\u001B[39mchunksize,\n\u001B[0;32m   3914\u001B[0m     quotechar\u001B[38;5;241m=\u001B[39mquotechar,\n\u001B[0;32m   3915\u001B[0m     date_format\u001B[38;5;241m=\u001B[39mdate_format,\n\u001B[0;32m   3916\u001B[0m     doublequote\u001B[38;5;241m=\u001B[39mdoublequote,\n\u001B[0;32m   3917\u001B[0m     escapechar\u001B[38;5;241m=\u001B[39mescapechar,\n\u001B[0;32m   3918\u001B[0m     storage_options\u001B[38;5;241m=\u001B[39mstorage_options,\n\u001B[0;32m   3919\u001B[0m )\n",
      "File \u001B[1;32m~\\anaconda3\\envs\\AdvancedML\\Lib\\site-packages\\pandas\\io\\formats\\format.py:1152\u001B[0m, in \u001B[0;36mDataFrameRenderer.to_csv\u001B[1;34m(self, path_or_buf, encoding, sep, columns, index_label, mode, compression, quoting, quotechar, lineterminator, chunksize, date_format, doublequote, escapechar, errors, storage_options)\u001B[0m\n\u001B[0;32m   1131\u001B[0m     created_buffer \u001B[38;5;241m=\u001B[39m \u001B[38;5;28;01mFalse\u001B[39;00m\n\u001B[0;32m   1133\u001B[0m csv_formatter \u001B[38;5;241m=\u001B[39m CSVFormatter(\n\u001B[0;32m   1134\u001B[0m     path_or_buf\u001B[38;5;241m=\u001B[39mpath_or_buf,\n\u001B[0;32m   1135\u001B[0m     lineterminator\u001B[38;5;241m=\u001B[39mlineterminator,\n\u001B[1;32m   (...)\u001B[0m\n\u001B[0;32m   1150\u001B[0m     formatter\u001B[38;5;241m=\u001B[39m\u001B[38;5;28mself\u001B[39m\u001B[38;5;241m.\u001B[39mfmt,\n\u001B[0;32m   1151\u001B[0m )\n\u001B[1;32m-> 1152\u001B[0m csv_formatter\u001B[38;5;241m.\u001B[39msave()\n\u001B[0;32m   1154\u001B[0m \u001B[38;5;28;01mif\u001B[39;00m created_buffer:\n\u001B[0;32m   1155\u001B[0m     \u001B[38;5;28;01massert\u001B[39;00m \u001B[38;5;28misinstance\u001B[39m(path_or_buf, StringIO)\n",
      "File \u001B[1;32m~\\anaconda3\\envs\\AdvancedML\\Lib\\site-packages\\pandas\\io\\formats\\csvs.py:247\u001B[0m, in \u001B[0;36mCSVFormatter.save\u001B[1;34m(self)\u001B[0m\n\u001B[0;32m    243\u001B[0m \u001B[38;5;250m\u001B[39m\u001B[38;5;124;03m\"\"\"\u001B[39;00m\n\u001B[0;32m    244\u001B[0m \u001B[38;5;124;03mCreate the writer & save.\u001B[39;00m\n\u001B[0;32m    245\u001B[0m \u001B[38;5;124;03m\"\"\"\u001B[39;00m\n\u001B[0;32m    246\u001B[0m \u001B[38;5;66;03m# apply compression and byte/text conversion\u001B[39;00m\n\u001B[1;32m--> 247\u001B[0m \u001B[38;5;28;01mwith\u001B[39;00m get_handle(\n\u001B[0;32m    248\u001B[0m     \u001B[38;5;28mself\u001B[39m\u001B[38;5;241m.\u001B[39mfilepath_or_buffer,\n\u001B[0;32m    249\u001B[0m     \u001B[38;5;28mself\u001B[39m\u001B[38;5;241m.\u001B[39mmode,\n\u001B[0;32m    250\u001B[0m     encoding\u001B[38;5;241m=\u001B[39m\u001B[38;5;28mself\u001B[39m\u001B[38;5;241m.\u001B[39mencoding,\n\u001B[0;32m    251\u001B[0m     errors\u001B[38;5;241m=\u001B[39m\u001B[38;5;28mself\u001B[39m\u001B[38;5;241m.\u001B[39merrors,\n\u001B[0;32m    252\u001B[0m     compression\u001B[38;5;241m=\u001B[39m\u001B[38;5;28mself\u001B[39m\u001B[38;5;241m.\u001B[39mcompression,\n\u001B[0;32m    253\u001B[0m     storage_options\u001B[38;5;241m=\u001B[39m\u001B[38;5;28mself\u001B[39m\u001B[38;5;241m.\u001B[39mstorage_options,\n\u001B[0;32m    254\u001B[0m ) \u001B[38;5;28;01mas\u001B[39;00m handles:\n\u001B[0;32m    255\u001B[0m     \u001B[38;5;66;03m# Note: self.encoding is irrelevant here\u001B[39;00m\n\u001B[0;32m    256\u001B[0m     \u001B[38;5;28mself\u001B[39m\u001B[38;5;241m.\u001B[39mwriter \u001B[38;5;241m=\u001B[39m csvlib\u001B[38;5;241m.\u001B[39mwriter(\n\u001B[0;32m    257\u001B[0m         handles\u001B[38;5;241m.\u001B[39mhandle,\n\u001B[0;32m    258\u001B[0m         lineterminator\u001B[38;5;241m=\u001B[39m\u001B[38;5;28mself\u001B[39m\u001B[38;5;241m.\u001B[39mlineterminator,\n\u001B[1;32m   (...)\u001B[0m\n\u001B[0;32m    263\u001B[0m         quotechar\u001B[38;5;241m=\u001B[39m\u001B[38;5;28mself\u001B[39m\u001B[38;5;241m.\u001B[39mquotechar,\n\u001B[0;32m    264\u001B[0m     )\n\u001B[0;32m    266\u001B[0m     \u001B[38;5;28mself\u001B[39m\u001B[38;5;241m.\u001B[39m_save()\n",
      "File \u001B[1;32m~\\anaconda3\\envs\\AdvancedML\\Lib\\site-packages\\pandas\\io\\common.py:863\u001B[0m, in \u001B[0;36mget_handle\u001B[1;34m(path_or_buf, mode, encoding, compression, memory_map, is_text, errors, storage_options)\u001B[0m\n\u001B[0;32m    858\u001B[0m \u001B[38;5;28;01melif\u001B[39;00m \u001B[38;5;28misinstance\u001B[39m(handle, \u001B[38;5;28mstr\u001B[39m):\n\u001B[0;32m    859\u001B[0m     \u001B[38;5;66;03m# Check whether the filename is to be opened in binary mode.\u001B[39;00m\n\u001B[0;32m    860\u001B[0m     \u001B[38;5;66;03m# Binary mode does not support 'encoding' and 'newline'.\u001B[39;00m\n\u001B[0;32m    861\u001B[0m     \u001B[38;5;28;01mif\u001B[39;00m ioargs\u001B[38;5;241m.\u001B[39mencoding \u001B[38;5;129;01mand\u001B[39;00m \u001B[38;5;124m\"\u001B[39m\u001B[38;5;124mb\u001B[39m\u001B[38;5;124m\"\u001B[39m \u001B[38;5;129;01mnot\u001B[39;00m \u001B[38;5;129;01min\u001B[39;00m ioargs\u001B[38;5;241m.\u001B[39mmode:\n\u001B[0;32m    862\u001B[0m         \u001B[38;5;66;03m# Encoding\u001B[39;00m\n\u001B[1;32m--> 863\u001B[0m         handle \u001B[38;5;241m=\u001B[39m \u001B[38;5;28mopen\u001B[39m(\n\u001B[0;32m    864\u001B[0m             handle,\n\u001B[0;32m    865\u001B[0m             ioargs\u001B[38;5;241m.\u001B[39mmode,\n\u001B[0;32m    866\u001B[0m             encoding\u001B[38;5;241m=\u001B[39mioargs\u001B[38;5;241m.\u001B[39mencoding,\n\u001B[0;32m    867\u001B[0m             errors\u001B[38;5;241m=\u001B[39merrors,\n\u001B[0;32m    868\u001B[0m             newline\u001B[38;5;241m=\u001B[39m\u001B[38;5;124m\"\u001B[39m\u001B[38;5;124m\"\u001B[39m,\n\u001B[0;32m    869\u001B[0m         )\n\u001B[0;32m    870\u001B[0m     \u001B[38;5;28;01melse\u001B[39;00m:\n\u001B[0;32m    871\u001B[0m         \u001B[38;5;66;03m# Binary mode\u001B[39;00m\n\u001B[0;32m    872\u001B[0m         handle \u001B[38;5;241m=\u001B[39m \u001B[38;5;28mopen\u001B[39m(handle, ioargs\u001B[38;5;241m.\u001B[39mmode)\n",
      "\u001B[1;31mPermissionError\u001B[0m: [Errno 13] Permission denied: 'C:\\\\Users\\\\julia\\\\OneDrive - CBS - Copenhagen Business School\\\\Documents\\\\Master\\\\Semester3\\\\AdvancedML\\\\Brainvision_Project\\\\test_scores\\\\test_results_aggregated.csv'"
     ]
    }
   ],
   "source": [
    "# load one only one main PCA file into the Ucloud session. This will determine the layer\n",
    "layer_list = [\"stage_1\", \"stage_2\", \"stage_3\", \"stage_4\", \"stage_5\", \"final\"]\n",
    "for i in layer_list:\n",
    "    if os.path.exists(f\"{i}_pca.npy\"):\n",
    "        layer = i\n",
    "        break\n",
    "\n",
    "# set to \"test\" for regular testing, and to \"val\" to get validation scores based on validation set\n",
    "data_mode = \"val\"\n",
    "\n",
    "subs = [\"sub01\",\"sub02\",\"sub03\",\"sub04\",\"sub05\",\"sub06\",\"sub07\",\"sub08\",\"sub09\",\"sub10\"]\n",
    "ROIs = [\"WB\", \"V1\", \"V2\",\"V3\", \"V4\", \"LOC\", \"EBA\", \"FFA\",\"STS\", \"PPA\"]\n",
    "\n",
    "# test results dataframe\n",
    "column_names = ['voxel', 'stage', 'ROI', 'sub', 'correlation_score']\n",
    "test_results = pd.DataFrame(columns=column_names)\n",
    "\n",
    "# get test data\n",
    "if data_mode == \"test\":\n",
    "    X_test = get_pca(layer, mode=data_mode)\n",
    "elif data_mode == \"val\":\n",
    "    X_train, X_val = get_pca(layer, mode=data_mode)\n",
    "\n",
    "for sub in subs:\n",
    "    for ROI in ROIs:\n",
    "        # read in test data\n",
    "        if ROI == \"WB\":\n",
    "            track=\"full_track\"\n",
    "        else:\n",
    "            track=\"mini_track\"\n",
    "        try:\n",
    "            if data_mode == \"test\":\n",
    "                y_test = get_fmri(ROI, track, sub, mode=data_mode)\n",
    "                test_results = test_model(layer, ROI, sub, X_test, y_test, test_results, data_mode)\n",
    "            elif data_mode == \"val\":\n",
    "                y_train, y_val = get_fmri(ROI, track, sub, mode=data_mode)\n",
    "                test_results = test_model(layer, ROI, sub, X_val, y_val, test_results, data_mode)\n",
    "        except OSError:\n",
    "            print(f\"Execution for {sub} ended at {ROI}\")\n",
    "            break\n",
    "        print(f\"finished testing sub: {sub}, ROI: {ROI}\")\n",
    "\n",
    "# calculate aggregated scores\n",
    "\n",
    "# aggregate per subject\n",
    "test_results_aggregated = test_results.groupby([\"ROI\", \"stage\",\"sub\"])[\"correlation_score\"].agg(np.mean).reset_index()\n",
    "# aggregate over subjects\n",
    "test_results_aggregated = test_results_aggregated.groupby([\"ROI\", \"stage\"])[\"correlation_score\"].agg(np.mean).reset_index()\n",
    "\n",
    "# save the dataframes\n",
    "save_dataframes(test_results, test_results_aggregated, layer, data_mode)"
   ],
   "metadata": {
    "collapsed": false,
    "ExecuteTime": {
     "end_time": "2023-12-05T10:27:11.920245500Z",
     "start_time": "2023-12-05T10:24:57.640279600Z"
    }
   },
   "id": "initial_id"
  },
  {
   "cell_type": "markdown",
   "source": [],
   "metadata": {
    "collapsed": false
   },
   "id": "88a761eda832c90a"
  }
 ],
 "metadata": {
  "kernelspec": {
   "display_name": "Python 3",
   "language": "python",
   "name": "python3"
  },
  "language_info": {
   "codemirror_mode": {
    "name": "ipython",
    "version": 2
   },
   "file_extension": ".py",
   "mimetype": "text/x-python",
   "name": "python",
   "nbconvert_exporter": "python",
   "pygments_lexer": "ipython2",
   "version": "2.7.6"
  }
 },
 "nbformat": 4,
 "nbformat_minor": 5
}
