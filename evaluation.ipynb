{
 "cells": [
  {
   "cell_type": "code",
   "execution_count": null,
   "outputs": [],
   "source": [
    "import os\n",
    "import pandas as pd\n",
    "import tensorflow as tf\n",
    "from keras.models import load_model\n",
    "from utils import find_repo_root, calculate_vectorized_correlation"
   ],
   "metadata": {
    "collapsed": false
   },
   "id": "fe5b3e1fa23587bc"
  },
  {
   "cell_type": "markdown",
   "source": [
    "### Function Definitions"
   ],
   "metadata": {
    "collapsed": false
   },
   "id": "20a165374ae330c7"
  },
  {
   "cell_type": "code",
   "execution_count": null,
   "outputs": [],
   "source": [
    "def test_model(layer, ROI, sub, X_test, y_test, test_results):\n",
    "    \"\"\"\n",
    "    reads in all models (for all ROIs & subjects) for a certain stage\n",
    "    tests the models & saves the predicted brain activations\n",
    "    :return: overview over result measures\n",
    "    \"\"\"\n",
    "    root_dir = find_repo_root()\n",
    "    model_dir = os.path.join(root_dir, layer, ROI, sub)\n",
    "    model = load_model(model_dir)\n",
    "    test_corr = model.evaluate(X_test, y_test)\n",
    "    \n",
    "    # ToDo: save the predicted fmris\n",
    "    # pred_fmri = np.zeros_like(fmri_val)\n",
    "    # pred_fmri_save_path = os.path.join(results_dir, ROI + '_val.npy')\n",
    "    \n",
    "    return test_results\n",
    "    "
   ],
   "metadata": {
    "collapsed": false
   },
   "id": "113604f9c2219e45"
  },
  {
   "cell_type": "markdown",
   "source": [
    "### Calculations"
   ],
   "metadata": {
    "collapsed": false
   },
   "id": "b2787b4445fe161d"
  },
  {
   "cell_type": "code",
   "execution_count": null,
   "outputs": [],
   "source": [
    "# specify layer manually: in [\"stage_1\", \"stage_2\", \"stage_3\", \"stage_4\", \"stage_5\", \"final\"]\n",
    "layer = 'stage_4'\n",
    "\n",
    "subs = [\"sub01\",\"sub02\",\"sub03\",\"sub04\",\"sub05\",\"sub06\",\"sub07\",\"sub08\",\"sub09\",\"sub10\"]\n",
    "ROIs = [\"WB\", \"V1\", \"V2\",\"V3\", \"V4\", \"LOC\", \"EBA\", \"FFA\",\"STS\", \"PPA\"]\n",
    "\n",
    "# test results dataframe\n",
    "test_results = pd.DataFrame()\n",
    "\n",
    "for ROI in ROIs:\n",
    "    for sub in subs:\n",
    "        # read in model\n",
    "        X_test =\n",
    "        y_test =\n",
    "        test_results = test_model(layer, ROI, sub, X_test, y_test, test_results)\n",
    "\n",
    "# calculate aggregated scores\n",
    "\n",
    "# save the dataframe"
   ],
   "metadata": {
    "collapsed": false
   },
   "id": "initial_id"
  },
  {
   "cell_type": "code",
   "execution_count": null,
   "outputs": [],
   "source": [],
   "metadata": {
    "collapsed": false
   },
   "id": "8b63f08f3a3bdbd8"
  }
 ],
 "metadata": {
  "kernelspec": {
   "display_name": "Python 3",
   "language": "python",
   "name": "python3"
  },
  "language_info": {
   "codemirror_mode": {
    "name": "ipython",
    "version": 2
   },
   "file_extension": ".py",
   "mimetype": "text/x-python",
   "name": "python",
   "nbconvert_exporter": "python",
   "pygments_lexer": "ipython2",
   "version": "2.7.6"
  }
 },
 "nbformat": 4,
 "nbformat_minor": 5
}
