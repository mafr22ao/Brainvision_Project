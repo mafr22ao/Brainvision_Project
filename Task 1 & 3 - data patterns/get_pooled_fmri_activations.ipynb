{
 "cells": [
  {
   "cell_type": "code",
   "execution_count": 28,
   "id": "initial_id",
   "metadata": {
    "collapsed": true,
    "ExecuteTime": {
     "end_time": "2024-02-24T21:50:34.352938600Z",
     "start_time": "2024-02-24T21:50:34.349195500Z"
    }
   },
   "outputs": [],
   "source": [
    "from fmri_preprocessing import load_dict, get_fmri\n",
    "import numpy as np"
   ]
  },
  {
   "cell_type": "code",
   "execution_count": 30,
   "outputs": [],
   "source": [
    "subs = [\"sub01\", \"sub02\", \"sub03\", \"sub04\", \"sub05\", \"sub06\", \"sub07\", \"sub08\", \"sub09\", \"sub10\"]\n",
    "ROIs = [\"V1\", \"V2\", \"V3\", \"V4\", \"LOC\", \"EBA\", \"FFA\", \"STS\", \"PPA\"]\n",
    "\n",
    "def get_pooled_fmri_per_video(ROIs, subs):\n",
    "    # Initialize a dictionary to store the concatenated activations for each ROI\n",
    "    concatenated_activations = {ROI: None for ROI in ROIs}\n",
    "    \n",
    "    # Loop through each ROI and subject, concatenate activations\n",
    "    for ROI in ROIs:\n",
    "        concatenated_data = []  # Temporary list to hold concatenated data for this ROI\n",
    "        for sub in subs:\n",
    "            fmri_data = get_fmri(sub, ROI)\n",
    "            concatenated_data.append(fmri_data)\n",
    "        # Concatenate along the second axis (features)\n",
    "        concatenated_activations[ROI] = np.concatenate(concatenated_data, axis=1)\n",
    "        \n",
    "    # Compute the mean and max of the concatenated values across the feature dimension for each video\n",
    "    activations_per_video = {}\n",
    "    for ROI, data in concatenated_activations.items():\n",
    "        avg_activation = np.mean(data, axis=1)  # Mean across the feature dimension (axis=1) for each video\n",
    "        max_activation = np.max(data, axis=1)   # Max across the feature dimension (axis=1) for each video\n",
    "        activations_per_video[ROI] = {'avg': avg_activation, 'max': max_activation}\n",
    "    \n",
    "    return activations_per_video"
   ],
   "metadata": {
    "collapsed": false,
    "ExecuteTime": {
     "end_time": "2024-02-24T21:51:03.343937900Z",
     "start_time": "2024-02-24T21:51:03.334423900Z"
    }
   },
   "id": "e9b104a635c5e9cc"
  },
  {
   "cell_type": "code",
   "execution_count": 31,
   "outputs": [
    {
     "name": "stdout",
     "output_type": "stream",
     "text": [
      "ROI: V1, Avg Shape: (1000,), Max Shape: (1000,)\n",
      "ROI: V2, Avg Shape: (1000,), Max Shape: (1000,)\n",
      "ROI: V3, Avg Shape: (1000,), Max Shape: (1000,)\n",
      "ROI: V4, Avg Shape: (1000,), Max Shape: (1000,)\n",
      "ROI: LOC, Avg Shape: (1000,), Max Shape: (1000,)\n",
      "ROI: EBA, Avg Shape: (1000,), Max Shape: (1000,)\n",
      "ROI: FFA, Avg Shape: (1000,), Max Shape: (1000,)\n",
      "ROI: STS, Avg Shape: (1000,), Max Shape: (1000,)\n",
      "ROI: PPA, Avg Shape: (1000,), Max Shape: (1000,)\n"
     ]
    }
   ],
   "source": [
    "activations = get_pooled_fmri_per_video(ROIs, subs)\n",
    "for ROI, activation_data in activations.items():\n",
    "    avg_shape = activation_data['avg'].shape\n",
    "    max_shape = activation_data['max'].shape\n",
    "    print(f\"ROI: {ROI}, Avg Shape: {avg_shape}, Max Shape: {max_shape}\")"
   ],
   "metadata": {
    "collapsed": false,
    "ExecuteTime": {
     "end_time": "2024-02-24T21:52:24.090552800Z",
     "start_time": "2024-02-24T21:52:21.531721700Z"
    }
   },
   "id": "78dc4ec3e5abad81"
  }
 ],
 "metadata": {
  "kernelspec": {
   "display_name": "Python 3",
   "language": "python",
   "name": "python3"
  },
  "language_info": {
   "codemirror_mode": {
    "name": "ipython",
    "version": 2
   },
   "file_extension": ".py",
   "mimetype": "text/x-python",
   "name": "python",
   "nbconvert_exporter": "python",
   "pygments_lexer": "ipython2",
   "version": "2.7.6"
  }
 },
 "nbformat": 4,
 "nbformat_minor": 5
}
