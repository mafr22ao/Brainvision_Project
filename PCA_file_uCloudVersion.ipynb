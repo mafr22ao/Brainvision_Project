{
 "cells": [
  {
   "cell_type": "code",
   "execution_count": 25,
   "id": "9faca7027604e2",
   "metadata": {
    "ExecuteTime": {
     "end_time": "2023-11-26T17:23:58.270182Z",
     "start_time": "2023-11-26T17:23:58.256194900Z"
    },
    "collapsed": false,
    "jupyter": {
     "outputs_hidden": false
    }
   },
   "outputs": [],
   "source": [
    "import os\n",
    "import pickle\n",
    "import numpy as np\n",
    "from sklearn.preprocessing import StandardScaler\n",
    "from sklearn.decomposition import PCA\n",
    "import pandas as pd"
   ]
  },
  {
   "cell_type": "code",
   "execution_count": 26,
   "id": "e55940dce8be960b",
   "metadata": {
    "ExecuteTime": {
     "end_time": "2023-11-26T17:23:58.740177200Z",
     "start_time": "2023-11-26T17:23:58.718563100Z"
    },
    "collapsed": false,
    "jupyter": {
     "outputs_hidden": false
    }
   },
   "outputs": [
    {
     "name": "stdout",
     "output_type": "stream",
     "text": [
      "Repository Root: None\n"
     ]
    }
   ],
   "source": [
    "def find_repo_root(path='.'):\n",
    "    path = os.path.abspath(path)\n",
    "    while not os.path.isdir(os.path.join(path, '.git')):\n",
    "        parent = os.path.dirname(path)\n",
    "        if parent == path:\n",
    "            # We've reached the root of the file system without finding '.git'\n",
    "            return None\n",
    "        path = parent\n",
    "    return path\n",
    "\n",
    "repo_root = find_repo_root()\n",
    "print(\"Repository Root:\", repo_root)"
   ]
  },
  {
   "cell_type": "code",
   "execution_count": 27,
   "id": "295ff56dbac193c4",
   "metadata": {
    "ExecuteTime": {
     "end_time": "2023-11-26T17:23:59.290776500Z",
     "start_time": "2023-11-26T17:23:59.259714400Z"
    },
    "collapsed": false,
    "jupyter": {
     "outputs_hidden": false
    }
   },
   "outputs": [],
   "source": [
    "def get_full_path(relative_path, repo_root):\n",
    "    if not repo_root:\n",
    "        raise ValueError(\"Repository root not found. Ensure you're inside a Git repository.\")\n",
    "\n",
    "    return os.path.join(repo_root, relative_path)\n"
   ]
  },
  {
   "cell_type": "code",
   "execution_count": 28,
   "id": "b1d0d16c1636fca7",
   "metadata": {
    "ExecuteTime": {
     "end_time": "2023-11-26T17:23:59.791697300Z",
     "start_time": "2023-11-26T17:23:59.782189500Z"
    },
    "collapsed": false,
    "jupyter": {
     "outputs_hidden": false
    }
   },
   "outputs": [],
   "source": [
    "# step 1 function\n",
    "def load_and_combine_tensors(stage_name, input_folder, num_videos):\n",
    "    combined_tensor = []\n",
    "    video_indices = {}\n",
    "\n",
    "    for video_id in range(1, num_videos + 1):\n",
    "        filename = f\"{str(video_id).zfill(4)}_{stage_name}.pkl\"\n",
    "        file_path = os.path.join(input_folder, stage_name, filename)\n",
    "\n",
    "        if os.path.exists(file_path):\n",
    "            #print(f\"Loading tensor from: {file_path}\")\n",
    "            with open(file_path, 'rb') as file:\n",
    "                tensor = pickle.load(file)\n",
    "                combined_tensor.append(tensor)\n",
    "                # Track start and end indices for each video\n",
    "                end_index = sum(t.shape[0] for t in combined_tensor)\n",
    "                video_indices[str(video_id).zfill(4)] = (end_index - tensor.shape[0], end_index)\n",
    "\n",
    "    if not combined_tensor:\n",
    "        print(\"No tensors found to combine.\")\n",
    "        return None, None\n",
    "\n",
    "    combined_tensor = np.concatenate(combined_tensor, axis=0)\n",
    "    return combined_tensor, video_indices\n"
   ]
  },
  {
   "cell_type": "code",
   "execution_count": 29,
   "id": "698222bfb9b8029c",
   "metadata": {
    "ExecuteTime": {
     "end_time": "2023-11-26T18:32:24.992294800Z",
     "start_time": "2023-11-26T18:32:24.967592400Z"
    },
    "collapsed": false,
    "jupyter": {
     "outputs_hidden": false
    }
   },
   "outputs": [],
   "source": [
    "# Step 2: globalized standardization (only based on training set)\n",
    "def standardize_tensors(combined_tensor, video_indices, training_end_id='0800'):\n",
    "    reshaped_tensor = combined_tensor.reshape(combined_tensor.shape[0], -1)\n",
    "    scaler = StandardScaler()\n",
    "\n",
    "    # Find the end index of the training set\n",
    "    training_end_index = video_indices[training_end_id][1]\n",
    "\n",
    "    # Fit the scaler only on the training set\n",
    "    scaler.fit(reshaped_tensor[:training_end_index])\n",
    "\n",
    "    # Transform both training and test sets\n",
    "    standardized_data = scaler.transform(reshaped_tensor)\n",
    "    \n",
    "    return standardized_data.reshape(combined_tensor.shape)"
   ]
  },
  {
   "cell_type": "code",
   "execution_count": 30,
   "id": "bd7243f3621ad841",
   "metadata": {
    "ExecuteTime": {
     "end_time": "2023-11-26T18:32:25.577472300Z",
     "start_time": "2023-11-26T18:32:25.575464400Z"
    },
    "editable": true,
    "slideshow": {
     "slide_type": ""
    },
    "tags": []
   },
   "outputs": [],
   "source": [
    "# Step 3: Separate the standardized tensor back into individual tensors\n",
    "def separate_standardized_tensor(standardized_tensor, video_indices):\n",
    "    separated_tensors = {}\n",
    "    for video_id, (start, end) in video_indices.items():\n",
    "        separated_tensors[video_id] = standardized_tensor[start:end, :]\n",
    "    return separated_tensors"
   ]
  },
  {
   "cell_type": "code",
   "execution_count": 31,
   "id": "8674883fa02550c4",
   "metadata": {
    "ExecuteTime": {
     "end_time": "2023-11-26T22:28:51.903002900Z",
     "start_time": "2023-11-26T22:28:51.887381800Z"
    },
    "collapsed": false,
    "jupyter": {
     "outputs_hidden": false
    }
   },
   "outputs": [],
   "source": [
    " # Step 4: Apply PCA to each tensor and save the result\n",
    "def apply_pca_and_save(tensors, stage_name, output_folder, num_components=30):\n",
    "    pca_folder = os.path.join(output_folder, 'PCA', stage_name)\n",
    "    if not os.path.exists(pca_folder):\n",
    "        os.makedirs(pca_folder)\n",
    "\n",
    "    metadata = []\n",
    "    for video_id, tensor in tensors.items():\n",
    "        reshaped_tensor = tensor.reshape(tensor.shape[0], -1)\n",
    "        max_components = min(reshaped_tensor.shape[0], reshaped_tensor.shape[1])\n",
    "\n",
    "        # Adjust the number of components if necessary\n",
    "        components = min(num_components, max_components)\n",
    "\n",
    "        pca = PCA(n_components=components)\n",
    "        tensor_pca = pca.fit_transform(reshaped_tensor)\n",
    "\n",
    "        # Save PCA tensor\n",
    "        pca_filename = os.path.join(pca_folder, f\"{video_id}_pca.pkl\")\n",
    "        with open(pca_filename, 'wb') as file:\n",
    "            pickle.dump(tensor_pca, file)\n",
    "\n",
    "        # Capture variance and metadata\n",
    "        variance = np.sum(pca.explained_variance_ratio_)\n",
    "        pca_shape = tensor_pca.shape\n",
    "\n",
    "        metadata.append({\n",
    "            'video_id': video_id, \n",
    "            'variance_captured': variance,\n",
    "            'num_pcs': components,\n",
    "            'pca_shape': pca_shape\n",
    "        })\n",
    "\n",
    "    return pd.DataFrame(metadata)"
   ]
  },
  {
   "cell_type": "code",
   "execution_count": 32,
   "id": "273094de-3d09-432e-b631-77f632922d71",
   "metadata": {},
   "outputs": [],
   "source": [
    "def process_stage_for_pca(input_folder, output_folder, stage_name, num_components=30):\n",
    "    \"\"\"\n",
    "    Process all videos of a given stage: standardize, apply PCA, and save the PCA-transformed tensors.\n",
    "    Args:\n",
    "    - input_folder: Folder containing the pre-processed videos.\n",
    "    - output_folder: Folder to save PCA results.\n",
    "    - stage_name: Name of the stage to process.\n",
    "    - num_components: Number of PCA components.\n",
    "    Returns:\n",
    "    - DataFrame containing metadata (video ID and variance captured).\n",
    "    \"\"\"\n",
    "     # Use the current working directory or a known absolute path\n",
    "    current_working_directory = os.getcwd()\n",
    "    stage_folder = os.path.join(current_working_directory, input_folder, stage_name)\n",
    "    print(\"Attempting to access:\", stage_folder)\n",
    "\n",
    "    if not os.path.exists(stage_folder):\n",
    "        print(\"Directory not found:\", stage_folder)\n",
    "        return None\n",
    "    # Calculate the number of video files in the folder\n",
    "    num_videos = len([f for f in os.listdir(stage_folder) if os.path.isfile(os.path.join(stage_folder, f))])\n",
    "    print(f\"Number of videos found: {num_videos}\")\n",
    "\n",
    "    # Step 1: Load and combine tensors\n",
    "    combined_tensor, video_indices = load_and_combine_tensors(stage_name, input_folder, num_videos)\n",
    "    print(\"Step 1 done.\")\n",
    "    # Step 2: Globally standardize the tensor\n",
    "    standardized_tensor = standardize_tensors(combined_tensor, video_indices)\n",
    "    print(\"Step 2 done.\")\n",
    "    # Step 3: Separate the standardized tensor back into individual tensors\n",
    "    separated_tensors = separate_standardized_tensor(standardized_tensor, video_indices)\n",
    "    print(\"Step 3 done.\")\n",
    "    # Step 4: Apply PCA to each tensor and save the result\n",
    "    metadata = apply_pca_and_save(separated_tensors, stage_name, output_folder, num_components)\n",
    "    print(\"Step 4 done.\")\n",
    "    return metadata"
   ]
  },
  {
   "cell_type": "code",
   "execution_count": 35,
   "id": "3564ae28383adabb",
   "metadata": {
    "ExecuteTime": {
     "end_time": "2023-11-26T22:28:55.435658800Z",
     "start_time": "2023-11-26T22:28:53.587699400Z"
    },
    "collapsed": false,
    "jupyter": {
     "outputs_hidden": false
    }
   },
   "outputs": [],
   "source": [
    "# Example usage\n",
    "input_folder = '../zip feature maps folder (872906)/preprocessed_videos_30frames'\n",
    "output_folder = 'Brainvision_Project'"
   ]
  },
  {
   "cell_type": "code",
   "execution_count": null,
   "id": "fc8f4a7dfe583730",
   "metadata": {
    "collapsed": false,
    "editable": true,
    "jupyter": {
     "outputs_hidden": false
    },
    "slideshow": {
     "slide_type": ""
    },
    "tags": []
   },
   "outputs": [
    {
     "name": "stdout",
     "output_type": "stream",
     "text": [
      "Processing stage_1...\n",
      "Attempting to access: /work/873067/../zip feature maps folder (872906)/preprocessed_videos_30frames/stage_1\n",
      "Number of videos found: 1000\n",
      "Step 1 done.\n",
      "Step 2 done.\n",
      "Step 3 done.\n",
      "Step 4 done.\n",
      "Saved metadata for stage_1 to Brainvision_Project/PCA_30/metadata_PC30_stage_1.csv\n",
      "Completed processing and cleanup for stage_1.\n",
      "Processing stage_2...\n",
      "Attempting to access: /work/873067/../zip feature maps folder (872906)/preprocessed_videos_30frames/stage_2\n",
      "Number of videos found: 1000\n"
     ]
    }
   ],
   "source": [
    "# Initialize a dictionary to hold metadata dataframes for each stage\n",
    "metadata_dfs = {}\n",
    "\n",
    "# List of stages to process\n",
    "stages = [\"stage_1\", \"stage_2\", \"stage_3\", \"stage_4\", \"stage_5\", \"final\"]\n",
    "\n",
    "# Define the PCA folder path\n",
    "pca_folder = os.path.join(output_folder, 'PCA_30')\n",
    "\n",
    "# Ensure the PCA folder exists\n",
    "if not os.path.exists(pca_folder):\n",
    "    os.makedirs(pca_folder)\n",
    "\n",
    "# Iterate over each stage and process it\n",
    "for stage in stages:\n",
    "    print(f\"Processing {stage}...\")\n",
    "    metadata_df = process_stage_for_pca(input_folder, output_folder, stage)\n",
    "    metadata_dfs[stage] = metadata_df\n",
    "\n",
    "    # Save each stage's metadata to a CSV file in the PCA folder\n",
    "    csv_filename = os.path.join(pca_folder, f\"metadata_PC30_{stage}.csv\")\n",
    "    metadata_df.to_csv(csv_filename, index=False)\n",
    "    print(f\"Saved metadata for {stage} to {csv_filename}\")\n",
    "\n",
    "    # Memory cleanup\n",
    "    del metadata_df\n",
    "    #gc.collect()\n",
    "    print(f\"Completed processing and cleanup for {stage}.\")\n"
   ]
  },
  {
   "cell_type": "code",
   "execution_count": null,
   "id": "c7b5c882aec881df",
   "metadata": {
    "collapsed": false,
    "editable": true,
    "jupyter": {
     "outputs_hidden": false
    },
    "slideshow": {
     "slide_type": ""
    },
    "tags": []
   },
   "outputs": [],
   "source": []
  },
  {
   "cell_type": "code",
   "execution_count": null,
   "id": "9137babfc54cdf4b",
   "metadata": {
    "collapsed": false,
    "jupyter": {
     "outputs_hidden": false
    }
   },
   "outputs": [],
   "source": []
  },
  {
   "cell_type": "code",
   "execution_count": null,
   "id": "51bd158bb567faf7",
   "metadata": {
    "collapsed": false,
    "jupyter": {
     "outputs_hidden": false
    }
   },
   "outputs": [],
   "source": [
    "-----------------------------------------------------------------------"
   ]
  },
  {
   "cell_type": "code",
   "execution_count": 22,
   "id": "793d8cdc5bd27792",
   "metadata": {
    "ExecuteTime": {
     "end_time": "2023-11-26T21:11:08.982133900Z",
     "start_time": "2023-11-26T21:11:07.697242800Z"
    },
    "collapsed": false,
    "jupyter": {
     "outputs_hidden": false
    }
   },
   "outputs": [
    {
     "ename": "FileNotFoundError",
     "evalue": "[Errno 2] No such file or directory: 'C:/Users/celin/PycharmProjects/Brainvision_Project/preprocessed_videos/stage_1'",
     "output_type": "error",
     "traceback": [
      "\u001b[0;31m---------------------------------------------------------------------------\u001b[0m",
      "\u001b[0;31mFileNotFoundError\u001b[0m                         Traceback (most recent call last)",
      "Cell \u001b[0;32mIn[22], line 15\u001b[0m\n\u001b[1;32m     13\u001b[0m \u001b[38;5;66;03m# Example usage\u001b[39;00m\n\u001b[1;32m     14\u001b[0m stage_folder \u001b[38;5;241m=\u001b[39m \u001b[38;5;124m'\u001b[39m\u001b[38;5;124mC:/Users/celin/PycharmProjects/Brainvision_Project/preprocessed_videos/stage_1\u001b[39m\u001b[38;5;124m'\u001b[39m  \u001b[38;5;66;03m# Replace with your actual path\u001b[39;00m\n\u001b[0;32m---> 15\u001b[0m max_components \u001b[38;5;241m=\u001b[39m \u001b[43mmax_pca_components\u001b[49m\u001b[43m(\u001b[49m\u001b[43mstage_folder\u001b[49m\u001b[43m)\u001b[49m\n\u001b[1;32m     16\u001b[0m \u001b[38;5;28;01mfor\u001b[39;00m video, components \u001b[38;5;129;01min\u001b[39;00m max_components\u001b[38;5;241m.\u001b[39mitems():\n\u001b[1;32m     17\u001b[0m     \u001b[38;5;28mprint\u001b[39m(\u001b[38;5;124mf\u001b[39m\u001b[38;5;124m\"\u001b[39m\u001b[38;5;132;01m{\u001b[39;00mvideo\u001b[38;5;132;01m}\u001b[39;00m\u001b[38;5;124m: Maximum \u001b[39m\u001b[38;5;132;01m{\u001b[39;00mcomponents\u001b[38;5;132;01m}\u001b[39;00m\u001b[38;5;124m PCA components\u001b[39m\u001b[38;5;124m\"\u001b[39m)\n",
      "Cell \u001b[0;32mIn[22], line 3\u001b[0m, in \u001b[0;36mmax_pca_components\u001b[0;34m(stage_folder)\u001b[0m\n\u001b[1;32m      1\u001b[0m \u001b[38;5;28;01mdef\u001b[39;00m \u001b[38;5;21mmax_pca_components\u001b[39m(stage_folder):\n\u001b[1;32m      2\u001b[0m     max_components_per_video \u001b[38;5;241m=\u001b[39m {}\n\u001b[0;32m----> 3\u001b[0m     \u001b[38;5;28;01mfor\u001b[39;00m filename \u001b[38;5;129;01min\u001b[39;00m \u001b[43mos\u001b[49m\u001b[38;5;241;43m.\u001b[39;49m\u001b[43mlistdir\u001b[49m\u001b[43m(\u001b[49m\u001b[43mstage_folder\u001b[49m\u001b[43m)\u001b[49m:\n\u001b[1;32m      4\u001b[0m         \u001b[38;5;28;01mif\u001b[39;00m filename\u001b[38;5;241m.\u001b[39mendswith(\u001b[38;5;124m'\u001b[39m\u001b[38;5;124m.pkl\u001b[39m\u001b[38;5;124m'\u001b[39m):\n\u001b[1;32m      5\u001b[0m             file_path \u001b[38;5;241m=\u001b[39m os\u001b[38;5;241m.\u001b[39mpath\u001b[38;5;241m.\u001b[39mjoin(stage_folder, filename)\n",
      "\u001b[0;31mFileNotFoundError\u001b[0m: [Errno 2] No such file or directory: 'C:/Users/celin/PycharmProjects/Brainvision_Project/preprocessed_videos/stage_1'"
     ]
    }
   ],
   "source": [
    "def max_pca_components(stage_folder):\n",
    "    max_components_per_video = {}\n",
    "    for filename in os.listdir(stage_folder):\n",
    "        if filename.endswith('.pkl'):\n",
    "            file_path = os.path.join(stage_folder, filename)\n",
    "            with open(file_path, 'rb') as file:\n",
    "                tensor = pickle.load(file)\n",
    "                num_samples, num_features = tensor.shape[0], tensor.shape[1]  # Assuming 2D tensor\n",
    "                max_components = min(num_samples, num_features)\n",
    "                max_components_per_video[filename] = max_components\n",
    "    return max_components_per_video\n",
    "\n",
    "# Example usage\n",
    "stage_folder = 'C:/Users/celin/PycharmProjects/Brainvision_Project/preprocessed_videos/stage_1'  # Replace with your actual path\n",
    "max_components = max_pca_components(stage_folder)\n",
    "for video, components in max_components.items():\n",
    "    print(f\"{video}: Maximum {components} PCA components\")"
   ]
  },
  {
   "cell_type": "code",
   "execution_count": 1,
   "id": "initial_id",
   "metadata": {
    "ExecuteTime": {
     "start_time": "2023-11-25T12:33:46.658411600Z"
    },
    "collapsed": false,
    "jupyter": {
     "outputs_hidden": false
    }
   },
   "outputs": [],
   "source": [
    "from sklearn.decomposition import PCA\n",
    "\n",
    "def dimension_reduction_pca(video_tensor, n_components=0.95):\n",
    "    \"\"\"\n",
    "    Applies PCA to reduce the dimensions of the video tensor.\n",
    "\n",
    "    Parameters:\n",
    "    video_tensor (numpy.ndarray): The video tensor to be reduced in dimension.\n",
    "    n_components (float or int): Number of components to keep. \n",
    "                                 If 0 < n_components < 1, select the number of components such that \n",
    "                                 the cumulative explained variance ratio is greater than n_components.\n",
    "\n",
    "    Returns:\n",
    "    numpy.ndarray: The transformed video tensor with reduced dimensions.\n",
    "    \"\"\"\n",
    "\n",
    "    # Reshape the video tensor for PCA\n",
    "    # Assuming the shape of the video_tensor is (num_frames, 1, num_features)\n",
    "    # We need to reshape it to (num_frames, num_features)\n",
    "    reshaped_tensor = video_tensor.reshape(video_tensor.shape[0], -1)\n",
    "\n",
    "    # Initialize PCA\n",
    "    pca = PCA(n_components=n_components)\n",
    "\n",
    "    # Apply PCA\n",
    "    reduced_tensor = pca.fit_transform(reshaped_tensor)\n",
    "\n",
    "    return reduced_tensor"
   ]
  },
  {
   "cell_type": "code",
   "execution_count": null,
   "id": "698b2582156e7a34",
   "metadata": {
    "collapsed": false,
    "jupyter": {
     "outputs_hidden": false
    }
   },
   "outputs": [],
   "source": [
    "pca_video_tensor = dimension_reduction_pca(video_tensor)"
   ]
  },
  {
   "cell_type": "code",
   "execution_count": null,
   "id": "1bd7c320cb654027",
   "metadata": {
    "collapsed": false,
    "jupyter": {
     "outputs_hidden": false
    }
   },
   "outputs": [],
   "source": [
    "pca_video_tensor"
   ]
  },
  {
   "cell_type": "code",
   "execution_count": null,
   "id": "134646699329998",
   "metadata": {
    "collapsed": false,
    "jupyter": {
     "outputs_hidden": false
    }
   },
   "outputs": [],
   "source": [
    "# Define the function to apply PCA and save reduced videos\n",
    "def save_reduced_videos(source_folder, target_folder, n_components=0.95):\n",
    "\n",
    "    # Process each tensor in the source folder\n",
    "    for file_name in os.listdir(source_folder):\n",
    "        file_path = os.path.join(source_folder, file_name)\n",
    "        if file_path.endswith('.pkl'):\n",
    "            # Load the video tensor\n",
    "            with open(file_path, 'rb') as file:\n",
    "                video_tensor = pickle.load(file)\n",
    "\n",
    "            # Reduce dimensionality\n",
    "            reduced_tensor = dimension_reduction_pca(video_tensor, n_components)\n",
    "\n",
    "            # Save the reduced data\n",
    "            reduced_file_path = os.path.join(target_folder, file_name.replace('.pkl', '_reduced.pkl'))\n",
    "            with open(reduced_file_path, 'wb') as reduced_file:\n",
    "                pickle.dump(reduced_tensor, reduced_file)\n",
    "                "
   ]
  },
  {
   "cell_type": "code",
   "execution_count": null,
   "id": "c014ad58f1fdb0e9",
   "metadata": {
    "collapsed": false,
    "jupyter": {
     "outputs_hidden": false
    }
   },
   "outputs": [],
   "source": [
    "source_folder = 'preprocessed_videos'\n",
    "target_folder = 'reduced_videos'\n",
    "save_reduced_videos(source_folder, target_folder)"
   ]
  }
 ],
 "metadata": {
  "kernelspec": {
   "display_name": "Python 3 ",
   "language": "python",
   "name": "python3"
  },
  "language_info": {
   "codemirror_mode": {
    "name": "ipython",
    "version": 3
   },
   "file_extension": ".py",
   "mimetype": "text/x-python",
   "name": "python",
   "nbconvert_exporter": "python",
   "pygments_lexer": "ipython3",
   "version": "3.10.12"
  }
 },
 "nbformat": 4,
 "nbformat_minor": 5
}
