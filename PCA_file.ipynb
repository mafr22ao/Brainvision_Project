{
 "cells": [
  {
   "cell_type": "code",
   "execution_count": 42,
   "outputs": [],
   "source": [
    "import os\n",
    "import pickle\n",
    "import numpy as np\n",
    "from sklearn.preprocessing import StandardScaler\n",
    "from sklearn.decomposition import PCA\n",
    "import pandas as pd"
   ],
   "metadata": {
    "collapsed": false,
    "ExecuteTime": {
     "end_time": "2023-11-26T17:23:58.270182Z",
     "start_time": "2023-11-26T17:23:58.256194900Z"
    }
   },
   "id": "9faca7027604e2"
  },
  {
   "cell_type": "code",
   "execution_count": 43,
   "outputs": [
    {
     "name": "stdout",
     "output_type": "stream",
     "text": [
      "Repository Root: C:\\Users\\celin\\PycharmProjects\\Brainvision_Project\n"
     ]
    }
   ],
   "source": [
    "def find_repo_root(path='.'):\n",
    "    path = os.path.abspath(path)\n",
    "    while not os.path.isdir(os.path.join(path, '.git')):\n",
    "        parent = os.path.dirname(path)\n",
    "        if parent == path:\n",
    "            # We've reached the root of the file system without finding '.git'\n",
    "            return None\n",
    "        path = parent\n",
    "    return path\n",
    "\n",
    "repo_root = find_repo_root()\n",
    "print(\"Repository Root:\", repo_root)"
   ],
   "metadata": {
    "collapsed": false,
    "ExecuteTime": {
     "end_time": "2023-11-26T17:23:58.740177200Z",
     "start_time": "2023-11-26T17:23:58.718563100Z"
    }
   },
   "id": "e55940dce8be960b"
  },
  {
   "cell_type": "code",
   "execution_count": 44,
   "outputs": [],
   "source": [
    "def get_full_path(relative_path, repo_root):\n",
    "    if not repo_root:\n",
    "        raise ValueError(\"Repository root not found. Ensure you're inside a Git repository.\")\n",
    "\n",
    "    return os.path.join(repo_root, relative_path)\n"
   ],
   "metadata": {
    "collapsed": false,
    "ExecuteTime": {
     "end_time": "2023-11-26T17:23:59.290776500Z",
     "start_time": "2023-11-26T17:23:59.259714400Z"
    }
   },
   "id": "295ff56dbac193c4"
  },
  {
   "cell_type": "code",
   "execution_count": 70,
   "outputs": [
    {
     "name": "stdout",
     "output_type": "stream",
     "text": [
      "0001_stage_1.pkl: Maximum 1 PCA components\n",
      "0002_stage_1.pkl: Maximum 1 PCA components\n",
      "0003_stage_1.pkl: Maximum 1 PCA components\n",
      "0004_stage_1.pkl: Maximum 1 PCA components\n",
      "0005_stage_1.pkl: Maximum 1 PCA components\n",
      "0006_stage_1.pkl: Maximum 1 PCA components\n",
      "0007_stage_1.pkl: Maximum 1 PCA components\n",
      "0008_stage_1.pkl: Maximum 1 PCA components\n",
      "0009_stage_1.pkl: Maximum 1 PCA components\n",
      "0010_stage_1.pkl: Maximum 1 PCA components\n"
     ]
    }
   ],
   "source": [
    "def max_pca_components(stage_folder):\n",
    "    max_components_per_video = {}\n",
    "    for filename in os.listdir(stage_folder):\n",
    "        if filename.endswith('.pkl'):\n",
    "            file_path = os.path.join(stage_folder, filename)\n",
    "            with open(file_path, 'rb') as file:\n",
    "                tensor = pickle.load(file)\n",
    "                num_samples, num_features = tensor.shape[0], tensor.shape[1]  # Assuming 2D tensor\n",
    "                max_components = min(num_samples, num_features)\n",
    "                max_components_per_video[filename] = max_components\n",
    "    return max_components_per_video\n",
    "\n",
    "# Example usage\n",
    "stage_folder = 'C:/Users/celin/PycharmProjects/Brainvision_Project/preprocessed_videos/stage_1'  # Replace with your actual path\n",
    "max_components = max_pca_components(stage_folder)\n",
    "for video, components in max_components.items():\n",
    "    print(f\"{video}: Maximum {components} PCA components\")"
   ],
   "metadata": {
    "collapsed": false,
    "ExecuteTime": {
     "end_time": "2023-11-26T21:11:08.982133900Z",
     "start_time": "2023-11-26T21:11:07.697242800Z"
    }
   },
   "id": "793d8cdc5bd27792"
  },
  {
   "cell_type": "code",
   "execution_count": 45,
   "outputs": [],
   "source": [
    "# step 1 function\n",
    "def load_and_combine_tensors(stage_name, relative_input_folder, num_videos=10):\n",
    "    repo_root = find_repo_root()\n",
    "    if not repo_root:\n",
    "        raise ValueError(\"Repository root not found. Ensure you're inside a Git repository.\")\n",
    "\n",
    "    combined_tensor = []\n",
    "    video_indices = {}\n",
    "\n",
    "    for video_id in range(1, num_videos + 1):\n",
    "        filename = f\"{str(video_id).zfill(4)}_{stage_name}.pkl\"\n",
    "        # Construct the full path\n",
    "        file_path = os.path.join(repo_root, relative_input_folder, stage_name, filename)\n",
    "\n",
    "        if os.path.exists(file_path):\n",
    "            with open(file_path, 'rb') as file:\n",
    "                tensor = pickle.load(file)\n",
    "                combined_tensor.append(tensor)\n",
    "                \n",
    "                end_index = sum(t.shape[0] for t in combined_tensor)\n",
    "                video_indices[str(video_id).zfill(4)] = (end_index - tensor.shape[0], end_index)\n",
    "        else:\n",
    "            print(f\"File not found: {file_path}\")  # Optional: Print a message if a file is not found\n",
    "\n",
    "    if combined_tensor:\n",
    "        combined_tensor = np.concatenate(combined_tensor, axis=0)\n",
    "    else:\n",
    "        print(\"No tensors found to combine.\")\n",
    "        return None, None\n",
    "\n",
    "    return combined_tensor, video_indices\n"
   ],
   "metadata": {
    "collapsed": false,
    "ExecuteTime": {
     "end_time": "2023-11-26T17:23:59.791697300Z",
     "start_time": "2023-11-26T17:23:59.782189500Z"
    }
   },
   "id": "b1d0d16c1636fca7"
  },
  {
   "cell_type": "code",
   "execution_count": 46,
   "outputs": [
    {
     "name": "stdout",
     "output_type": "stream",
     "text": [
      "False\n"
     ]
    }
   ],
   "source": [
    "test_path = 'Brainvision_Project/preprocessed_videos/stage_1/0001_stage_1.pkl'\n",
    "print(os.path.exists(test_path))"
   ],
   "metadata": {
    "collapsed": false,
    "ExecuteTime": {
     "end_time": "2023-11-26T17:24:00.443488100Z",
     "start_time": "2023-11-26T17:24:00.411915400Z"
    }
   },
   "id": "49a6769e56b1e993"
  },
  {
   "cell_type": "code",
   "execution_count": 63,
   "outputs": [
    {
     "name": "stdout",
     "output_type": "stream",
     "text": [
      "Loading tensor from: C:\\Users\\celin\\PycharmProjects\\Brainvision_Project\\preprocessed_videos\\stage_1\\0001_stage_1.pkl\n",
      "Loading tensor from: C:\\Users\\celin\\PycharmProjects\\Brainvision_Project\\preprocessed_videos\\stage_1\\0002_stage_1.pkl\n",
      "Loading tensor from: C:\\Users\\celin\\PycharmProjects\\Brainvision_Project\\preprocessed_videos\\stage_1\\0003_stage_1.pkl\n",
      "Loading tensor from: C:\\Users\\celin\\PycharmProjects\\Brainvision_Project\\preprocessed_videos\\stage_1\\0004_stage_1.pkl\n",
      "Loading tensor from: C:\\Users\\celin\\PycharmProjects\\Brainvision_Project\\preprocessed_videos\\stage_1\\0005_stage_1.pkl\n",
      "Loading tensor from: C:\\Users\\celin\\PycharmProjects\\Brainvision_Project\\preprocessed_videos\\stage_1\\0006_stage_1.pkl\n",
      "Loading tensor from: C:\\Users\\celin\\PycharmProjects\\Brainvision_Project\\preprocessed_videos\\stage_1\\0007_stage_1.pkl\n",
      "Loading tensor from: C:\\Users\\celin\\PycharmProjects\\Brainvision_Project\\preprocessed_videos\\stage_1\\0008_stage_1.pkl\n",
      "Loading tensor from: C:\\Users\\celin\\PycharmProjects\\Brainvision_Project\\preprocessed_videos\\stage_1\\0009_stage_1.pkl\n",
      "Loading tensor from: C:\\Users\\celin\\PycharmProjects\\Brainvision_Project\\preprocessed_videos\\stage_1\\0010_stage_1.pkl\n"
     ]
    }
   ],
   "source": [
    "import os\n",
    "import pickle\n",
    "import numpy as np\n",
    "\n",
    "def load_and_combine_tensors(stage_name, input_folder, num_videos=10):\n",
    "    combined_tensor = []\n",
    "    video_indices = {}\n",
    "\n",
    "    for video_id in range(1, num_videos + 1):\n",
    "        filename = f\"{str(video_id).zfill(4)}_{stage_name}.pkl\"\n",
    "        file_path = os.path.join(repo_root, input_folder, stage_name, filename)\n",
    "\n",
    "        if os.path.exists(file_path):\n",
    "            print(f\"Loading tensor from: {file_path}\")  # Print the file being loaded\n",
    "            with open(file_path, 'rb') as file:\n",
    "                tensor = pickle.load(file)\n",
    "                combined_tensor.append(tensor)\n",
    "                end_index = sum(t.shape[0] for t in combined_tensor)\n",
    "                video_indices[str(video_id).zfill(4)] = (end_index - tensor.shape[0], end_index)\n",
    "        else:\n",
    "            print(f\"File not found: {file_path}\")  # Indicate if a file is not found\n",
    "\n",
    "    if combined_tensor:\n",
    "        combined_tensor = np.concatenate(combined_tensor, axis=0)\n",
    "    else:\n",
    "        print(\"No tensors found to combine.\")\n",
    "        return None, None\n",
    "\n",
    "    return combined_tensor, video_indices\n",
    "\n",
    "# Example usage\n",
    "input_folder = 'preprocessed_videos'  # Replace with the correct path\n",
    "stage_name = 'stage_1'\n",
    "combined_tensor, video_indices = load_and_combine_tensors(stage_name, input_folder)\n"
   ],
   "metadata": {
    "collapsed": false,
    "ExecuteTime": {
     "end_time": "2023-11-26T18:32:06.923035Z",
     "start_time": "2023-11-26T18:32:06.574011400Z"
    }
   },
   "id": "4b0c638a8b45c165"
  },
  {
   "cell_type": "code",
   "execution_count": 64,
   "outputs": [],
   "source": [
    "# Step 2: globalized standardization\n",
    "def standardize_tensor(tensor):\n",
    "    reshaped_tensor = tensor.reshape(tensor.shape[0], -1)\n",
    "    scaler = StandardScaler()\n",
    "    standardized_data = scaler.fit_transform(reshaped_tensor)\n",
    "    return standardized_data.reshape(tensor.shape)"
   ],
   "metadata": {
    "collapsed": false,
    "ExecuteTime": {
     "end_time": "2023-11-26T18:32:24.992294800Z",
     "start_time": "2023-11-26T18:32:24.967592400Z"
    }
   },
   "id": "698222bfb9b8029c"
  },
  {
   "cell_type": "code",
   "execution_count": 65,
   "outputs": [],
   "source": [
    "# Step 3: Separate the standardized tensor back into individual tensors\n",
    "def separate_standardized_tensor(standardized_tensor, video_indices):\n",
    "    separated_tensors = {}\n",
    "    for video_id, (start, end) in video_indices.items():\n",
    "        separated_tensors[video_id] = standardized_tensor[start:end, :]\n",
    "    return separated_tensors"
   ],
   "metadata": {
    "collapsed": false,
    "ExecuteTime": {
     "end_time": "2023-11-26T18:32:25.577472300Z",
     "start_time": "2023-11-26T18:32:25.575464400Z"
    }
   },
   "id": "bd7243f3621ad841"
  },
  {
   "cell_type": "code",
   "execution_count": 74,
   "outputs": [],
   "source": [
    " # Step 4: Apply PCA to each tensor and save the result\n",
    "def apply_pca_and_save(tensors, stage_name, output_folder, num_components=30):\n",
    "    pca_folder = os.path.join(output_folder, 'PCA', stage_name)\n",
    "    if not os.path.exists(pca_folder):\n",
    "        os.makedirs(pca_folder)\n",
    "\n",
    "    metadata = []\n",
    "    for video_id, tensor in tensors.items():\n",
    "        pca = PCA(n_components=num_components)\n",
    "        tensor_reshaped = tensor.reshape(tensor.shape[0], -1)\n",
    "        tensor_pca = pca.fit_transform(tensor_reshaped)\n",
    "\n",
    "        # Save PCA tensor\n",
    "        pca_filename = os.path.join(pca_folder, f\"{video_id}_pca.pkl\")\n",
    "        with open(pca_filename, 'wb') as file:\n",
    "            pickle.dump(tensor_pca, file)\n",
    "\n",
    "        # Capture variance and metadata\n",
    "        variance = np.sum(pca.explained_variance_ratio_)\n",
    "        metadata.append({'video_id': video_id, 'variance_captured': variance})\n",
    "\n",
    "    return pd.DataFrame(metadata)"
   ],
   "metadata": {
    "collapsed": false,
    "ExecuteTime": {
     "end_time": "2023-11-26T22:28:51.903002900Z",
     "start_time": "2023-11-26T22:28:51.887381800Z"
    }
   },
   "id": "8674883fa02550c4"
  },
  {
   "cell_type": "code",
   "execution_count": 75,
   "outputs": [],
   "source": [
    "\n",
    "def process_stage_for_pca(input_folder, output_folder, stage_name, num_components=100):\n",
    "    \"\"\"\n",
    "    Process all videos of a given stage: standardize, apply PCA, and save the PCA-transformed tensors.\n",
    "    Args:\n",
    "    - input_folder: Folder containing the pre-processed videos.\n",
    "    - output_folder: Folder to save PCA results.\n",
    "    - stage_name: Name of the stage to process.\n",
    "    - num_components: Number of PCA components.\n",
    "    Returns:\n",
    "    - DataFrame containing metadata (video ID and variance captured).\n",
    "    \"\"\"\n",
    "\n",
    "    repo_root = find_repo_root()\n",
    "    if not repo_root:\n",
    "        raise ValueError(\"Repository root not found. Ensure you're inside a Git repository.\")\n",
    "\n",
    "    stage_folder = os.path.join(repo_root, input_folder, stage_name)\n",
    "    print(\"Attempting to access:\", stage_folder)\n",
    "\n",
    "    if not os.path.exists(stage_folder):\n",
    "        print(\"Directory not found:\", stage_folder)\n",
    "        return None\n",
    "    \n",
    "    # Calculate the number of video files in the folder\n",
    "    num_videos = len([f for f in os.listdir(stage_folder) if os.path.isfile(os.path.join(stage_folder, f))])\n",
    "    print(f\"Number of videos found: {num_videos}\")\n",
    "\n",
    "    # Step 1: Load and combine tensors\n",
    "    combined_tensor, video_indices = load_and_combine_tensors(stage_name, input_folder, num_videos)\n",
    "\n",
    "    # Step 2: Globally standardize the tensor\n",
    "    standardized_tensor = standardize_tensor(combined_tensor)\n",
    "\n",
    "    # Step 3: Separate the standardized tensor back into individual tensors\n",
    "    separated_tensors = separate_standardized_tensor(standardized_tensor, video_indices)\n",
    "\n",
    "    # Step 4: Apply PCA to each tensor and save the result\n",
    "    metadata = apply_pca_and_save(separated_tensors, stage_name, output_folder, num_components)\n",
    "\n",
    "    return metadata"
   ],
   "metadata": {
    "collapsed": false,
    "ExecuteTime": {
     "end_time": "2023-11-26T22:28:52.807265600Z",
     "start_time": "2023-11-26T22:28:52.775638500Z"
    }
   },
   "id": "ae5310eb2d6f14c6"
  },
  {
   "cell_type": "code",
   "execution_count": 76,
   "outputs": [
    {
     "name": "stdout",
     "output_type": "stream",
     "text": [
      "Attempting to access: C:\\Users\\celin\\PycharmProjects\\Brainvision_Project\\preprocessed_videos\\stage_1\n",
      "Number of videos found: 10\n",
      "Loading tensor from: C:\\Users\\celin\\PycharmProjects\\Brainvision_Project\\preprocessed_videos\\stage_1\\0001_stage_1.pkl\n",
      "Loading tensor from: C:\\Users\\celin\\PycharmProjects\\Brainvision_Project\\preprocessed_videos\\stage_1\\0002_stage_1.pkl\n",
      "Loading tensor from: C:\\Users\\celin\\PycharmProjects\\Brainvision_Project\\preprocessed_videos\\stage_1\\0003_stage_1.pkl\n",
      "Loading tensor from: C:\\Users\\celin\\PycharmProjects\\Brainvision_Project\\preprocessed_videos\\stage_1\\0004_stage_1.pkl\n",
      "Loading tensor from: C:\\Users\\celin\\PycharmProjects\\Brainvision_Project\\preprocessed_videos\\stage_1\\0005_stage_1.pkl\n",
      "Loading tensor from: C:\\Users\\celin\\PycharmProjects\\Brainvision_Project\\preprocessed_videos\\stage_1\\0006_stage_1.pkl\n",
      "Loading tensor from: C:\\Users\\celin\\PycharmProjects\\Brainvision_Project\\preprocessed_videos\\stage_1\\0007_stage_1.pkl\n",
      "Loading tensor from: C:\\Users\\celin\\PycharmProjects\\Brainvision_Project\\preprocessed_videos\\stage_1\\0008_stage_1.pkl\n",
      "Loading tensor from: C:\\Users\\celin\\PycharmProjects\\Brainvision_Project\\preprocessed_videos\\stage_1\\0009_stage_1.pkl\n",
      "Loading tensor from: C:\\Users\\celin\\PycharmProjects\\Brainvision_Project\\preprocessed_videos\\stage_1\\0010_stage_1.pkl\n"
     ]
    },
    {
     "ename": "ValueError",
     "evalue": "n_components=100 must be between 0 and min(n_samples, n_features)=45 with svd_solver='full'",
     "output_type": "error",
     "traceback": [
      "\u001B[1;31m---------------------------------------------------------------------------\u001B[0m",
      "\u001B[1;31mValueError\u001B[0m                                Traceback (most recent call last)",
      "Input \u001B[1;32mIn [76]\u001B[0m, in \u001B[0;36m<cell line: 6>\u001B[1;34m()\u001B[0m\n\u001B[0;32m      3\u001B[0m output_folder \u001B[38;5;241m=\u001B[39m \u001B[38;5;124m'\u001B[39m\u001B[38;5;124mBrainvision_Project\u001B[39m\u001B[38;5;124m'\u001B[39m\n\u001B[0;32m      4\u001B[0m stage_name \u001B[38;5;241m=\u001B[39m \u001B[38;5;124m'\u001B[39m\u001B[38;5;124mstage_1\u001B[39m\u001B[38;5;124m'\u001B[39m\n\u001B[1;32m----> 6\u001B[0m metadata_df \u001B[38;5;241m=\u001B[39m \u001B[43mprocess_stage_for_pca\u001B[49m\u001B[43m(\u001B[49m\u001B[43minput_folder\u001B[49m\u001B[43m,\u001B[49m\u001B[43m \u001B[49m\u001B[43moutput_folder\u001B[49m\u001B[43m,\u001B[49m\u001B[43m \u001B[49m\u001B[43mstage_name\u001B[49m\u001B[43m)\u001B[49m\n",
      "Input \u001B[1;32mIn [75]\u001B[0m, in \u001B[0;36mprocess_stage_for_pca\u001B[1;34m(input_folder, output_folder, stage_name, num_components)\u001B[0m\n\u001B[0;32m     35\u001B[0m separated_tensors \u001B[38;5;241m=\u001B[39m separate_standardized_tensor(standardized_tensor, video_indices)\n\u001B[0;32m     37\u001B[0m \u001B[38;5;66;03m# Step 4: Apply PCA to each tensor and save the result\u001B[39;00m\n\u001B[1;32m---> 38\u001B[0m metadata \u001B[38;5;241m=\u001B[39m \u001B[43mapply_pca_and_save\u001B[49m\u001B[43m(\u001B[49m\u001B[43mseparated_tensors\u001B[49m\u001B[43m,\u001B[49m\u001B[43m \u001B[49m\u001B[43mstage_name\u001B[49m\u001B[43m,\u001B[49m\u001B[43m \u001B[49m\u001B[43moutput_folder\u001B[49m\u001B[43m,\u001B[49m\u001B[43m \u001B[49m\u001B[43mnum_components\u001B[49m\u001B[43m)\u001B[49m\n\u001B[0;32m     40\u001B[0m \u001B[38;5;28;01mreturn\u001B[39;00m metadata\n",
      "Input \u001B[1;32mIn [74]\u001B[0m, in \u001B[0;36mapply_pca_and_save\u001B[1;34m(tensors, stage_name, output_folder, num_components)\u001B[0m\n\u001B[0;32m      9\u001B[0m pca \u001B[38;5;241m=\u001B[39m PCA(n_components\u001B[38;5;241m=\u001B[39mnum_components)\n\u001B[0;32m     10\u001B[0m tensor_reshaped \u001B[38;5;241m=\u001B[39m tensor\u001B[38;5;241m.\u001B[39mreshape(tensor\u001B[38;5;241m.\u001B[39mshape[\u001B[38;5;241m0\u001B[39m], \u001B[38;5;241m-\u001B[39m\u001B[38;5;241m1\u001B[39m)\n\u001B[1;32m---> 11\u001B[0m tensor_pca \u001B[38;5;241m=\u001B[39m \u001B[43mpca\u001B[49m\u001B[38;5;241;43m.\u001B[39;49m\u001B[43mfit_transform\u001B[49m\u001B[43m(\u001B[49m\u001B[43mtensor_reshaped\u001B[49m\u001B[43m)\u001B[49m\n\u001B[0;32m     13\u001B[0m \u001B[38;5;66;03m# Save PCA tensor\u001B[39;00m\n\u001B[0;32m     14\u001B[0m pca_filename \u001B[38;5;241m=\u001B[39m os\u001B[38;5;241m.\u001B[39mpath\u001B[38;5;241m.\u001B[39mjoin(pca_folder, \u001B[38;5;124mf\u001B[39m\u001B[38;5;124m\"\u001B[39m\u001B[38;5;132;01m{\u001B[39;00mvideo_id\u001B[38;5;132;01m}\u001B[39;00m\u001B[38;5;124m_pca.pkl\u001B[39m\u001B[38;5;124m\"\u001B[39m)\n",
      "File \u001B[1;32m~\\anaconda3\\lib\\site-packages\\sklearn\\decomposition\\_pca.py:407\u001B[0m, in \u001B[0;36mPCA.fit_transform\u001B[1;34m(self, X, y)\u001B[0m\n\u001B[0;32m    385\u001B[0m \u001B[38;5;28;01mdef\u001B[39;00m \u001B[38;5;21mfit_transform\u001B[39m(\u001B[38;5;28mself\u001B[39m, X, y\u001B[38;5;241m=\u001B[39m\u001B[38;5;28;01mNone\u001B[39;00m):\n\u001B[0;32m    386\u001B[0m     \u001B[38;5;124;03m\"\"\"Fit the model with X and apply the dimensionality reduction on X.\u001B[39;00m\n\u001B[0;32m    387\u001B[0m \n\u001B[0;32m    388\u001B[0m \u001B[38;5;124;03m    Parameters\u001B[39;00m\n\u001B[1;32m   (...)\u001B[0m\n\u001B[0;32m    405\u001B[0m \u001B[38;5;124;03m    C-ordered array, use 'np.ascontiguousarray'.\u001B[39;00m\n\u001B[0;32m    406\u001B[0m \u001B[38;5;124;03m    \"\"\"\u001B[39;00m\n\u001B[1;32m--> 407\u001B[0m     U, S, Vt \u001B[38;5;241m=\u001B[39m \u001B[38;5;28;43mself\u001B[39;49m\u001B[38;5;241;43m.\u001B[39;49m\u001B[43m_fit\u001B[49m\u001B[43m(\u001B[49m\u001B[43mX\u001B[49m\u001B[43m)\u001B[49m\n\u001B[0;32m    408\u001B[0m     U \u001B[38;5;241m=\u001B[39m U[:, : \u001B[38;5;28mself\u001B[39m\u001B[38;5;241m.\u001B[39mn_components_]\n\u001B[0;32m    410\u001B[0m     \u001B[38;5;28;01mif\u001B[39;00m \u001B[38;5;28mself\u001B[39m\u001B[38;5;241m.\u001B[39mwhiten:\n\u001B[0;32m    411\u001B[0m         \u001B[38;5;66;03m# X_new = X * V / S * sqrt(n_samples) = U * sqrt(n_samples)\u001B[39;00m\n",
      "File \u001B[1;32m~\\anaconda3\\lib\\site-packages\\sklearn\\decomposition\\_pca.py:457\u001B[0m, in \u001B[0;36mPCA._fit\u001B[1;34m(self, X)\u001B[0m\n\u001B[0;32m    455\u001B[0m \u001B[38;5;66;03m# Call different fits for either full or truncated SVD\u001B[39;00m\n\u001B[0;32m    456\u001B[0m \u001B[38;5;28;01mif\u001B[39;00m \u001B[38;5;28mself\u001B[39m\u001B[38;5;241m.\u001B[39m_fit_svd_solver \u001B[38;5;241m==\u001B[39m \u001B[38;5;124m\"\u001B[39m\u001B[38;5;124mfull\u001B[39m\u001B[38;5;124m\"\u001B[39m:\n\u001B[1;32m--> 457\u001B[0m     \u001B[38;5;28;01mreturn\u001B[39;00m \u001B[38;5;28;43mself\u001B[39;49m\u001B[38;5;241;43m.\u001B[39;49m\u001B[43m_fit_full\u001B[49m\u001B[43m(\u001B[49m\u001B[43mX\u001B[49m\u001B[43m,\u001B[49m\u001B[43m \u001B[49m\u001B[43mn_components\u001B[49m\u001B[43m)\u001B[49m\n\u001B[0;32m    458\u001B[0m \u001B[38;5;28;01melif\u001B[39;00m \u001B[38;5;28mself\u001B[39m\u001B[38;5;241m.\u001B[39m_fit_svd_solver \u001B[38;5;129;01min\u001B[39;00m [\u001B[38;5;124m\"\u001B[39m\u001B[38;5;124marpack\u001B[39m\u001B[38;5;124m\"\u001B[39m, \u001B[38;5;124m\"\u001B[39m\u001B[38;5;124mrandomized\u001B[39m\u001B[38;5;124m\"\u001B[39m]:\n\u001B[0;32m    459\u001B[0m     \u001B[38;5;28;01mreturn\u001B[39;00m \u001B[38;5;28mself\u001B[39m\u001B[38;5;241m.\u001B[39m_fit_truncated(X, n_components, \u001B[38;5;28mself\u001B[39m\u001B[38;5;241m.\u001B[39m_fit_svd_solver)\n",
      "File \u001B[1;32m~\\anaconda3\\lib\\site-packages\\sklearn\\decomposition\\_pca.py:475\u001B[0m, in \u001B[0;36mPCA._fit_full\u001B[1;34m(self, X, n_components)\u001B[0m\n\u001B[0;32m    471\u001B[0m         \u001B[38;5;28;01mraise\u001B[39;00m \u001B[38;5;167;01mValueError\u001B[39;00m(\n\u001B[0;32m    472\u001B[0m             \u001B[38;5;124m\"\u001B[39m\u001B[38;5;124mn_components=\u001B[39m\u001B[38;5;124m'\u001B[39m\u001B[38;5;124mmle\u001B[39m\u001B[38;5;124m'\u001B[39m\u001B[38;5;124m is only supported if n_samples >= n_features\u001B[39m\u001B[38;5;124m\"\u001B[39m\n\u001B[0;32m    473\u001B[0m         )\n\u001B[0;32m    474\u001B[0m \u001B[38;5;28;01melif\u001B[39;00m \u001B[38;5;129;01mnot\u001B[39;00m \u001B[38;5;241m0\u001B[39m \u001B[38;5;241m<\u001B[39m\u001B[38;5;241m=\u001B[39m n_components \u001B[38;5;241m<\u001B[39m\u001B[38;5;241m=\u001B[39m \u001B[38;5;28mmin\u001B[39m(n_samples, n_features):\n\u001B[1;32m--> 475\u001B[0m     \u001B[38;5;28;01mraise\u001B[39;00m \u001B[38;5;167;01mValueError\u001B[39;00m(\n\u001B[0;32m    476\u001B[0m         \u001B[38;5;124m\"\u001B[39m\u001B[38;5;124mn_components=\u001B[39m\u001B[38;5;132;01m%r\u001B[39;00m\u001B[38;5;124m must be between 0 and \u001B[39m\u001B[38;5;124m\"\u001B[39m\n\u001B[0;32m    477\u001B[0m         \u001B[38;5;124m\"\u001B[39m\u001B[38;5;124mmin(n_samples, n_features)=\u001B[39m\u001B[38;5;132;01m%r\u001B[39;00m\u001B[38;5;124m with \u001B[39m\u001B[38;5;124m\"\u001B[39m\n\u001B[0;32m    478\u001B[0m         \u001B[38;5;124m\"\u001B[39m\u001B[38;5;124msvd_solver=\u001B[39m\u001B[38;5;124m'\u001B[39m\u001B[38;5;124mfull\u001B[39m\u001B[38;5;124m'\u001B[39m\u001B[38;5;124m\"\u001B[39m \u001B[38;5;241m%\u001B[39m (n_components, \u001B[38;5;28mmin\u001B[39m(n_samples, n_features))\n\u001B[0;32m    479\u001B[0m     )\n\u001B[0;32m    480\u001B[0m \u001B[38;5;28;01melif\u001B[39;00m n_components \u001B[38;5;241m>\u001B[39m\u001B[38;5;241m=\u001B[39m \u001B[38;5;241m1\u001B[39m:\n\u001B[0;32m    481\u001B[0m     \u001B[38;5;28;01mif\u001B[39;00m \u001B[38;5;129;01mnot\u001B[39;00m \u001B[38;5;28misinstance\u001B[39m(n_components, numbers\u001B[38;5;241m.\u001B[39mIntegral):\n",
      "\u001B[1;31mValueError\u001B[0m: n_components=100 must be between 0 and min(n_samples, n_features)=45 with svd_solver='full'"
     ]
    }
   ],
   "source": [
    "# Example usage\n",
    "input_folder = 'preprocessed_videos'\n",
    "output_folder = 'Brainvision_Project'\n",
    "stage_name = 'stage_1'\n",
    "\n",
    "metadata_df = process_stage_for_pca(input_folder, output_folder, stage_name)"
   ],
   "metadata": {
    "collapsed": false,
    "ExecuteTime": {
     "end_time": "2023-11-26T22:28:55.435658800Z",
     "start_time": "2023-11-26T22:28:53.587699400Z"
    }
   },
   "id": "3564ae28383adabb"
  },
  {
   "cell_type": "code",
   "execution_count": null,
   "outputs": [],
   "source": [],
   "metadata": {
    "collapsed": false
   },
   "id": "39590d29a42c161f"
  },
  {
   "cell_type": "code",
   "execution_count": null,
   "outputs": [],
   "source": [],
   "metadata": {
    "collapsed": false
   },
   "id": "fc8f4a7dfe583730"
  },
  {
   "cell_type": "code",
   "execution_count": null,
   "outputs": [],
   "source": [],
   "metadata": {
    "collapsed": false
   },
   "id": "c7b5c882aec881df"
  },
  {
   "cell_type": "code",
   "execution_count": null,
   "outputs": [],
   "source": [],
   "metadata": {
    "collapsed": false
   },
   "id": "9137babfc54cdf4b"
  },
  {
   "cell_type": "markdown",
   "source": [
    "-----------------------------------------------------------------------"
   ],
   "metadata": {
    "collapsed": false
   },
   "id": "d58173a8abc21c8d"
  },
  {
   "cell_type": "code",
   "execution_count": 1,
   "outputs": [],
   "source": [
    "from sklearn.decomposition import PCA\n",
    "\n",
    "def dimension_reduction_pca(video_tensor, n_components=0.95):\n",
    "    \"\"\"\n",
    "    Applies PCA to reduce the dimensions of the video tensor.\n",
    "\n",
    "    Parameters:\n",
    "    video_tensor (numpy.ndarray): The video tensor to be reduced in dimension.\n",
    "    n_components (float or int): Number of components to keep. \n",
    "                                 If 0 < n_components < 1, select the number of components such that \n",
    "                                 the cumulative explained variance ratio is greater than n_components.\n",
    "\n",
    "    Returns:\n",
    "    numpy.ndarray: The transformed video tensor with reduced dimensions.\n",
    "    \"\"\"\n",
    "\n",
    "    # Reshape the video tensor for PCA\n",
    "    # Assuming the shape of the video_tensor is (num_frames, 1, num_features)\n",
    "    # We need to reshape it to (num_frames, num_features)\n",
    "    reshaped_tensor = video_tensor.reshape(video_tensor.shape[0], -1)\n",
    "\n",
    "    # Initialize PCA\n",
    "    pca = PCA(n_components=n_components)\n",
    "\n",
    "    # Apply PCA\n",
    "    reduced_tensor = pca.fit_transform(reshaped_tensor)\n",
    "\n",
    "    return reduced_tensor"
   ],
   "metadata": {
    "collapsed": false,
    "ExecuteTime": {
     "start_time": "2023-11-25T12:33:46.658411600Z"
    }
   },
   "id": "initial_id"
  },
  {
   "cell_type": "code",
   "execution_count": null,
   "outputs": [],
   "source": [
    "pca_video_tensor = dimension_reduction_pca(video_tensor)"
   ],
   "metadata": {
    "collapsed": false
   },
   "id": "698b2582156e7a34"
  },
  {
   "cell_type": "code",
   "execution_count": null,
   "outputs": [],
   "source": [
    "pca_video_tensor"
   ],
   "metadata": {
    "collapsed": false
   },
   "id": "1bd7c320cb654027"
  },
  {
   "cell_type": "code",
   "execution_count": null,
   "outputs": [],
   "source": [
    "# Define the function to apply PCA and save reduced videos\n",
    "def save_reduced_videos(source_folder, target_folder, n_components=0.95):\n",
    "\n",
    "    # Process each tensor in the source folder\n",
    "    for file_name in os.listdir(source_folder):\n",
    "        file_path = os.path.join(source_folder, file_name)\n",
    "        if file_path.endswith('.pkl'):\n",
    "            # Load the video tensor\n",
    "            with open(file_path, 'rb') as file:\n",
    "                video_tensor = pickle.load(file)\n",
    "\n",
    "            # Reduce dimensionality\n",
    "            reduced_tensor = dimension_reduction_pca(video_tensor, n_components)\n",
    "\n",
    "            # Save the reduced data\n",
    "            reduced_file_path = os.path.join(target_folder, file_name.replace('.pkl', '_reduced.pkl'))\n",
    "            with open(reduced_file_path, 'wb') as reduced_file:\n",
    "                pickle.dump(reduced_tensor, reduced_file)\n",
    "                "
   ],
   "metadata": {
    "collapsed": false
   },
   "id": "134646699329998"
  },
  {
   "cell_type": "code",
   "execution_count": null,
   "outputs": [],
   "source": [
    "source_folder = 'preprocessed_videos'\n",
    "target_folder = 'reduced_videos'\n",
    "save_reduced_videos(source_folder, target_folder)"
   ],
   "metadata": {
    "collapsed": false
   },
   "id": "c014ad58f1fdb0e9"
  }
 ],
 "metadata": {
  "kernelspec": {
   "display_name": "Python 3",
   "language": "python",
   "name": "python3"
  },
  "language_info": {
   "codemirror_mode": {
    "name": "ipython",
    "version": 2
   },
   "file_extension": ".py",
   "mimetype": "text/x-python",
   "name": "python",
   "nbconvert_exporter": "python",
   "pygments_lexer": "ipython2",
   "version": "2.7.6"
  }
 },
 "nbformat": 4,
 "nbformat_minor": 5
}
