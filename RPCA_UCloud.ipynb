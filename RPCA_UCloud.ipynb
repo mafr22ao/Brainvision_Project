{
 "cells": [
  {
   "cell_type": "markdown",
   "id": "fb579d9c64e8fbff",
   "metadata": {
    "collapsed": false
   },
   "source": [
    "Channel PCA captures most significant patterns across frames for each channel, potentially highlighting the most prominent changes or features in the video content for that specific channel.\n",
    "**Do we want that or are there better ways to capture spatial features per frame?**"
   ]
  },
  {
   "cell_type": "code",
   "execution_count": 1,
   "id": "9faca7027604e2",
   "metadata": {
    "collapsed": false,
    "ExecuteTime": {
     "end_time": "2023-12-31T12:10:11.758618100Z",
     "start_time": "2023-12-31T12:10:10.081549600Z"
    }
   },
   "outputs": [],
   "source": [
    "import os\n",
    "import pickle\n",
    "import numpy as np\n",
    "from sklearn.preprocessing import StandardScaler\n",
    "from sklearn.decomposition import PCA, IncrementalPCA\n",
    "from tqdm import tqdm"
   ]
  },
  {
   "cell_type": "code",
   "execution_count": 7,
   "id": "e55940dce8be960b",
   "metadata": {
    "collapsed": false,
    "ExecuteTime": {
     "end_time": "2023-12-31T12:12:56.221625800Z",
     "start_time": "2023-12-31T12:12:56.202526200Z"
    }
   },
   "outputs": [
    {
     "name": "stdout",
     "output_type": "stream",
     "text": [
      "Repository Root: C:\\Users\\marce\\PycharmProjects\\Brainvision_Project\n"
     ]
    }
   ],
   "source": [
    "def find_repo_root(path='.'):\n",
    "    path = os.path.abspath(path)\n",
    "    while not os.path.isdir(os.path.join(path, '.git')):\n",
    "        parent = os.path.dirname(path)\n",
    "        if parent == path:\n",
    "            # We've reached the root of the file system without finding '.git'\n",
    "            return None\n",
    "        path = parent\n",
    "    return path\n",
    "\n",
    "repo_root = find_repo_root()\n",
    "print(\"Repository Root:\", repo_root)"
   ]
  },
  {
   "cell_type": "code",
   "execution_count": 8,
   "id": "295ff56dbac193c4",
   "metadata": {
    "collapsed": false,
    "ExecuteTime": {
     "end_time": "2023-12-31T12:12:56.359941600Z",
     "start_time": "2023-12-31T12:12:56.356928700Z"
    }
   },
   "outputs": [],
   "source": [
    "def get_full_path(relative_path, repo_root):\n",
    "    if not repo_root:\n",
    "        raise ValueError(\"Repository root not found. Ensure you're inside a Git repository.\")\n",
    "\n",
    "    return os.path.join(repo_root, relative_path)\n"
   ]
  },
  {
   "cell_type": "code",
   "execution_count": 9,
   "id": "b1d0d16c1636fca7",
   "metadata": {
    "collapsed": false,
    "ExecuteTime": {
     "end_time": "2023-12-31T12:12:56.503325500Z",
     "start_time": "2023-12-31T12:12:56.485879200Z"
    }
   },
   "outputs": [],
   "source": [
    "# step 1 function\n",
    "def load_and_combine_tensors(stage_name, input_folder, num_videos):\n",
    "    combined_tensor = []\n",
    "    video_indices = {}\n",
    "\n",
    "    for video_id in range(1, num_videos + 1):\n",
    "        filename = f\"{str(video_id).zfill(4)}_{stage_name}.pkl\"\n",
    "        file_path = os.path.join(input_folder, stage_name, filename)\n",
    "\n",
    "        if os.path.exists(file_path):\n",
    "            #print(f\"Loading tensor from: {file_path}\")\n",
    "            with open(file_path, 'rb') as file:\n",
    "                tensor = pickle.load(file)\n",
    "                combined_tensor.append(tensor)\n",
    "                # Track start and end indices for each video\n",
    "                end_index = sum(t.shape[0] for t in combined_tensor)\n",
    "                video_indices[str(video_id).zfill(4)] = (end_index - tensor.shape[0], end_index)\n",
    "\n",
    "    if not combined_tensor:\n",
    "        print(\"No tensors found to combine.\")\n",
    "        return None, None\n",
    "\n",
    "    combined_tensor = np.concatenate(combined_tensor, axis=0)\n",
    "    return combined_tensor, video_indices\n"
   ]
  },
  {
   "cell_type": "code",
   "execution_count": 10,
   "id": "698222bfb9b8029c",
   "metadata": {
    "collapsed": false,
    "ExecuteTime": {
     "end_time": "2023-12-31T12:12:56.927488Z",
     "start_time": "2023-12-31T12:12:56.911448500Z"
    }
   },
   "outputs": [],
   "source": [
    "# Step 2: globalized standardization (only based on training set)\n",
    "def standardize_tensors(combined_tensor, video_indices, training_end_id='0005'):\n",
    "    reshaped_tensor = combined_tensor.reshape(combined_tensor.shape[0], -1)\n",
    "    scaler = StandardScaler()\n",
    "\n",
    "    # Find the end index of the training set\n",
    "    training_end_index = video_indices[training_end_id][1]\n",
    "\n",
    "    # Fit the scaler only on the training set\n",
    "    scaler.fit(reshaped_tensor[:training_end_index])\n",
    "\n",
    "    # Transform both training and test sets\n",
    "    standardized_data = scaler.transform(reshaped_tensor)\n",
    "    \n",
    "    return standardized_data.reshape(combined_tensor.shape)"
   ]
  },
  {
   "cell_type": "code",
   "execution_count": 11,
   "id": "c6666d9a44e22014",
   "metadata": {
    "collapsed": false,
    "ExecuteTime": {
     "end_time": "2023-12-31T12:12:57.322881900Z",
     "start_time": "2023-12-31T12:12:57.319987900Z"
    }
   },
   "outputs": [],
   "source": [
    "# Function to slice feature maps into four equal parts\n",
    "def slice_feature_maps(feature_maps):\n",
    "    _, _, height, width, _ = feature_maps.shape\n",
    "\n",
    "    # Calculate midpoints\n",
    "    mid_height = height // 2\n",
    "    mid_width = width // 2\n",
    "\n",
    "    # Slicing the feature maps into four equal parts\n",
    "    top_left = feature_maps[:, :, :mid_height, :mid_width, :]\n",
    "    top_right = feature_maps[:, :, :mid_height, mid_width:, :]\n",
    "    bottom_left = feature_maps[:, :, mid_height:, :mid_width, :]\n",
    "    bottom_right = feature_maps[:, :, mid_height:, mid_width:, :]\n",
    "\n",
    "    return [top_left, top_right, bottom_left, bottom_right]"
   ]
  },
  {
   "cell_type": "code",
   "execution_count": 12,
   "id": "9fa3a70ead172079",
   "metadata": {
    "collapsed": false,
    "ExecuteTime": {
     "end_time": "2023-12-31T12:14:52.116317800Z",
     "start_time": "2023-12-31T12:14:52.116317800Z"
    }
   },
   "outputs": [],
   "source": [
    "def apply_rpca_and_save(sliced_tensors, stage_name, output_folder, n_components, training_end_id=5, seed=42):\n",
    "    \n",
    "    pca_results = []\n",
    "    for idx , feature_maps in enumerate(tqdm(sliced_tensors, desc=\"Performing PCA...\")):\n",
    "        # Reshape the slice to 2D array, concatenate the feature maps for each 30-frame segment\n",
    "        n_videos = feature_maps.shape[0] // 30\n",
    "        reshaped_data = np.zeros((n_videos, feature_maps.shape[2] * feature_maps.shape[3] * feature_maps.shape[4] * 30))\n",
    "\n",
    "        for i in range(n_videos):\n",
    "            # Flatten and concatenate the feature maps for each segment\n",
    "            video = feature_maps[i*30:(i+1)*30].reshape(-1)\n",
    "            reshaped_data[i, :] = video\n",
    "        \n",
    "        print(f\"Shape of flattened slice {idx}: {reshaped_data.shape}\")\n",
    "        \n",
    "        # Apply PCA\n",
    "        # stage_2 and stage_3 need incremental PCA bc of RAM restrictions\n",
    "        if stage_name in [\"stage_2\", \"stage_3\"]:\n",
    "            # Apply Incremental PCA with increasing number of components until 95% variance is reached\n",
    "            print(\"Fitting IPCA...\")\n",
    "            \n",
    "            n_components_ratio = n_components\n",
    "            cumulative_variance = 1.0\n",
    "            n_components = 800\n",
    "\n",
    "            batch_size = 2  # Example batch size, adjust based on your memory constraints\n",
    "            n_batches = training_end_id // batch_size\n",
    "            \n",
    "            while cumulative_variance >= n_components_ratio:\n",
    "                n_components -= 1\n",
    "                ipca = IncrementalPCA(n_components=n_components)\n",
    "                \n",
    "                for batch_idx in range(n_batches):\n",
    "                    start_idx = batch_idx * batch_size\n",
    "                    end_idx = start_idx + batch_size\n",
    "                    ipca.partial_fit(reshaped_data[start_idx:end_idx, :])\n",
    "\n",
    "                cumulative_variance = sum(ipca.explained_variance_ratio_)\n",
    "                print(f\"Variance with {n_components} components: {cumulative_variance}\")\n",
    "\n",
    "            pca = ipca\n",
    "            print(\"Transforming IPCA...\")\n",
    "        \n",
    "        else:\n",
    "            pca = PCA(n_components=n_components, random_state=seed)\n",
    "            print(\"Fitting PCA...\")\n",
    "            pca.fit(reshaped_data[:training_end_id, :])\n",
    "            print(\"Transforming PCA...\")\n",
    "\n",
    "        pca_result = pca.transform(reshaped_data)\n",
    "        print(f\"Number of PCs in slice {idx}: {pca_result.shape}\")\n",
    "        print(f\"Variance captured by PCs: {sum(pca.explained_variance_ratio_)}\")\n",
    "        # Append the PCA result\n",
    "        pca_results.append(pca_result)\n",
    "\n",
    "    # Concatenate the PCA results from all slices\n",
    "    final_pca_results = np.concatenate(pca_results, axis=1)\n",
    "    print(final_pca_results.shape)\n",
    "    # save PCA results\n",
    "    pca_folder = os.path.join(output_folder, f\"PCA_slice_{n_components}\", stage_name)\n",
    "    if not os.path.exists(pca_folder):\n",
    "        os.makedirs(pca_folder)\n",
    "    \n",
    "    stage_number = stage_name[-1]\n",
    "    file_path = os.path.join(pca_folder, f'layer_{stage_number}_pca.pkl')\n",
    "    with open(file_path, 'wb') as f:\n",
    "        pickle.dump(final_pca_results, f)\n",
    "    \n",
    "    print(f\"{stage_name} PCs stored in: {file_path}\")"
   ]
  },
  {
   "cell_type": "code",
   "execution_count": 13,
   "id": "273094de-3d09-432e-b631-77f632922d71",
   "metadata": {
    "collapsed": false,
    "ExecuteTime": {
     "end_time": "2023-12-31T12:14:52.348945Z",
     "start_time": "2023-12-31T12:14:52.348438200Z"
    }
   },
   "outputs": [],
   "source": [
    "def process_stage_for_pca(input_folder, output_folder, stage_name):\n",
    "    \"\"\"\n",
    "    Process all videos of a given stage: standardize, apply PCA, and save the PCA-transformed tensors.\n",
    "    Args:\n",
    "    - input_folder: Folder containing the pre-processed videos.\n",
    "    - output_folder: Folder to save PCA results.\n",
    "    - stage_name: Name of the stage to process.\n",
    "    Returns:\n",
    "    - DataFrame containing metadata (video ID and variance captured).\n",
    "    \"\"\"\n",
    "     # Use the current working directory or a known absolute path\n",
    "    current_working_directory = os.getcwd()\n",
    "    stage_folder = os.path.join(current_working_directory, input_folder, stage_name)\n",
    "    print(\"Attempting to access:\", stage_folder)\n",
    "\n",
    "    if not os.path.exists(stage_folder):\n",
    "        print(\"Directory not found:\", stage_folder)\n",
    "        return None\n",
    "    # Calculate the number of video files in the folder\n",
    "    num_videos = 5 # len([f for f in os.listdir(stage_folder) if os.path.isfile(os.path.join(stage_folder, f))])\n",
    "    print(f\"Number of videos found: {num_videos}\")\n",
    "\n",
    "    # Step 1: Load and combine tensors\n",
    "    if stage_name != \"stage_2\":\n",
    "        combined_tensor, video_indices = load_and_combine_tensors(stage_name, input_folder, num_videos)\n",
    "    print(\"Step 1 done.\")\n",
    "    \n",
    "    # Step 2: Globally standardize the tensor\n",
    "    if stage_name == \"stage_2\":\n",
    "        st_folder = os.path.join(output_folder, f\"fm_standardized\", stage_name)\n",
    "        file_path = os.path.join(st_folder, f'fm_standardized_{stage_name}.pkl')\n",
    "        with open(file_path, 'rb') as f:\n",
    "            standardized_tensor = pickle.load(f)\n",
    "    else:\n",
    "        standardized_tensor = standardize_tensors(combined_tensor, video_indices)\n",
    "    # # save standardized tensors\n",
    "    # st_folder = os.path.join(output_folder, f\"fm_standardized\", stage_name)\n",
    "    # if not os.path.exists(st_folder):\n",
    "    #     os.makedirs(st_folder)\n",
    "    # file_path = os.path.join(st_folder, f'fm_standardized_{stage_name}.pkl')\n",
    "    # with open(file_path, 'wb') as f:\n",
    "    #     pickle.dump(standardized_tensor, f)\n",
    "    # print(f\"{stage_name} standardized tensors stored in: {file_path}\")\n",
    "    del combined_tensor, video_indices\n",
    "    print(\"Step 2 done.\")\n",
    "\n",
    "    # Step 3: Apply PCA to each tensor and save the result\n",
    "    sliced_tensors = slice_feature_maps(standardized_tensor)\n",
    "    del standardized_tensor\n",
    "    apply_rpca_and_save(sliced_tensors, stage_name, output_folder, n_components)\n",
    "    print(\"Step 3 done.\")"
   ]
  },
  {
   "cell_type": "code",
   "execution_count": 14,
   "id": "38a2182002e8f9b0",
   "metadata": {
    "collapsed": false,
    "ExecuteTime": {
     "end_time": "2023-12-31T12:14:53.339136900Z",
     "start_time": "2023-12-31T12:14:53.307601Z"
    }
   },
   "outputs": [
    {
     "name": "stdout",
     "output_type": "stream",
     "text": [
      "C:\\Users\\marce\\PycharmProjects\\Brainvision_Project\n",
      "C:\\Users\\marce\\PycharmProjects\\Brainvision_Project\n"
     ]
    }
   ],
   "source": [
    "print(os.getcwd())\n",
    "print(repo_root)"
   ]
  },
  {
   "cell_type": "code",
   "execution_count": 15,
   "id": "fc8f4a7dfe583730",
   "metadata": {
    "collapsed": false,
    "ExecuteTime": {
     "end_time": "2023-12-31T12:14:57.196261Z",
     "start_time": "2023-12-31T12:14:54.832404500Z"
    }
   },
   "outputs": [
    {
     "name": "stdout",
     "output_type": "stream",
     "text": [
      "Processing stage_3...\n",
      "Attempting to access: C:\\Users\\marce\\PycharmProjects\\Brainvision_Project\\preprocessed_videos_30frames\\stage_3\n",
      "Number of videos found: 5\n",
      "Step 1 done.\n",
      "Step 2 done.\n"
     ]
    },
    {
     "name": "stderr",
     "output_type": "stream",
     "text": [
      "Performing PCA...:   0%|          | 0/4 [00:00<?, ?it/s]"
     ]
    },
    {
     "name": "stdout",
     "output_type": "stream",
     "text": [
      "Shape of flattened slice 0: (5, 3010560)\n",
      "Fitting IPCA...\n"
     ]
    },
    {
     "name": "stderr",
     "output_type": "stream",
     "text": [
      "\n"
     ]
    },
    {
     "ename": "ValueError",
     "evalue": "n_components=799 must be less or equal to the batch number of samples 2.",
     "output_type": "error",
     "traceback": [
      "\u001B[1;31m---------------------------------------------------------------------------\u001B[0m",
      "\u001B[1;31mValueError\u001B[0m                                Traceback (most recent call last)",
      "Cell \u001B[1;32mIn[15], line 10\u001B[0m\n\u001B[0;32m      8\u001B[0m \u001B[38;5;28;01mfor\u001B[39;00m stage \u001B[38;5;129;01min\u001B[39;00m stages:\n\u001B[0;32m      9\u001B[0m     \u001B[38;5;28mprint\u001B[39m(\u001B[38;5;124mf\u001B[39m\u001B[38;5;124m\"\u001B[39m\u001B[38;5;124mProcessing \u001B[39m\u001B[38;5;132;01m{\u001B[39;00mstage\u001B[38;5;132;01m}\u001B[39;00m\u001B[38;5;124m...\u001B[39m\u001B[38;5;124m\"\u001B[39m)\n\u001B[1;32m---> 10\u001B[0m     process_stage_for_pca(input_folder, output_folder, stage)\n",
      "Cell \u001B[1;32mIn[13], line 50\u001B[0m, in \u001B[0;36mprocess_stage_for_pca\u001B[1;34m(input_folder, output_folder, stage_name)\u001B[0m\n\u001B[0;32m     48\u001B[0m sliced_tensors \u001B[38;5;241m=\u001B[39m slice_feature_maps(standardized_tensor)\n\u001B[0;32m     49\u001B[0m \u001B[38;5;28;01mdel\u001B[39;00m standardized_tensor\n\u001B[1;32m---> 50\u001B[0m apply_rpca_and_save(sliced_tensors, stage_name, output_folder, n_components)\n\u001B[0;32m     51\u001B[0m \u001B[38;5;28mprint\u001B[39m(\u001B[38;5;124m\"\u001B[39m\u001B[38;5;124mStep 3 done.\u001B[39m\u001B[38;5;124m\"\u001B[39m)\n",
      "Cell \u001B[1;32mIn[12], line 36\u001B[0m, in \u001B[0;36mapply_rpca_and_save\u001B[1;34m(sliced_tensors, stage_name, output_folder, n_components, training_end_id, seed)\u001B[0m\n\u001B[0;32m     34\u001B[0m     start_idx \u001B[38;5;241m=\u001B[39m batch_idx \u001B[38;5;241m*\u001B[39m batch_size\n\u001B[0;32m     35\u001B[0m     end_idx \u001B[38;5;241m=\u001B[39m start_idx \u001B[38;5;241m+\u001B[39m batch_size\n\u001B[1;32m---> 36\u001B[0m     ipca\u001B[38;5;241m.\u001B[39mpartial_fit(reshaped_data[start_idx:end_idx, :])\n\u001B[0;32m     38\u001B[0m cumulative_variance \u001B[38;5;241m=\u001B[39m \u001B[38;5;28msum\u001B[39m(ipca\u001B[38;5;241m.\u001B[39mexplained_variance_ratio_)\n\u001B[0;32m     39\u001B[0m \u001B[38;5;28mprint\u001B[39m(\u001B[38;5;124mf\u001B[39m\u001B[38;5;124m\"\u001B[39m\u001B[38;5;124mVariance with \u001B[39m\u001B[38;5;132;01m{\u001B[39;00mn_components\u001B[38;5;132;01m}\u001B[39;00m\u001B[38;5;124m components: \u001B[39m\u001B[38;5;132;01m{\u001B[39;00mcumulative_variance\u001B[38;5;132;01m}\u001B[39;00m\u001B[38;5;124m\"\u001B[39m)\n",
      "File \u001B[1;32m~\\anaconda3\\Lib\\site-packages\\sklearn\\base.py:1151\u001B[0m, in \u001B[0;36m_fit_context.<locals>.decorator.<locals>.wrapper\u001B[1;34m(estimator, *args, **kwargs)\u001B[0m\n\u001B[0;32m   1144\u001B[0m     estimator\u001B[38;5;241m.\u001B[39m_validate_params()\n\u001B[0;32m   1146\u001B[0m \u001B[38;5;28;01mwith\u001B[39;00m config_context(\n\u001B[0;32m   1147\u001B[0m     skip_parameter_validation\u001B[38;5;241m=\u001B[39m(\n\u001B[0;32m   1148\u001B[0m         prefer_skip_nested_validation \u001B[38;5;129;01mor\u001B[39;00m global_skip_validation\n\u001B[0;32m   1149\u001B[0m     )\n\u001B[0;32m   1150\u001B[0m ):\n\u001B[1;32m-> 1151\u001B[0m     \u001B[38;5;28;01mreturn\u001B[39;00m fit_method(estimator, \u001B[38;5;241m*\u001B[39margs, \u001B[38;5;241m*\u001B[39m\u001B[38;5;241m*\u001B[39mkwargs)\n",
      "File \u001B[1;32m~\\anaconda3\\Lib\\site-packages\\sklearn\\decomposition\\_incremental_pca.py:296\u001B[0m, in \u001B[0;36mIncrementalPCA.partial_fit\u001B[1;34m(self, X, y, check_input)\u001B[0m\n\u001B[0;32m    290\u001B[0m     \u001B[38;5;28;01mraise\u001B[39;00m \u001B[38;5;167;01mValueError\u001B[39;00m(\n\u001B[0;32m    291\u001B[0m         \u001B[38;5;124m\"\u001B[39m\u001B[38;5;124mn_components=\u001B[39m\u001B[38;5;132;01m%r\u001B[39;00m\u001B[38;5;124m invalid for n_features=\u001B[39m\u001B[38;5;132;01m%d\u001B[39;00m\u001B[38;5;124m, need \u001B[39m\u001B[38;5;124m\"\u001B[39m\n\u001B[0;32m    292\u001B[0m         \u001B[38;5;124m\"\u001B[39m\u001B[38;5;124mmore rows than columns for IncrementalPCA \u001B[39m\u001B[38;5;124m\"\u001B[39m\n\u001B[0;32m    293\u001B[0m         \u001B[38;5;124m\"\u001B[39m\u001B[38;5;124mprocessing\u001B[39m\u001B[38;5;124m\"\u001B[39m \u001B[38;5;241m%\u001B[39m (\u001B[38;5;28mself\u001B[39m\u001B[38;5;241m.\u001B[39mn_components, n_features)\n\u001B[0;32m    294\u001B[0m     )\n\u001B[0;32m    295\u001B[0m \u001B[38;5;28;01melif\u001B[39;00m \u001B[38;5;129;01mnot\u001B[39;00m \u001B[38;5;28mself\u001B[39m\u001B[38;5;241m.\u001B[39mn_components \u001B[38;5;241m<\u001B[39m\u001B[38;5;241m=\u001B[39m n_samples:\n\u001B[1;32m--> 296\u001B[0m     \u001B[38;5;28;01mraise\u001B[39;00m \u001B[38;5;167;01mValueError\u001B[39;00m(\n\u001B[0;32m    297\u001B[0m         \u001B[38;5;124m\"\u001B[39m\u001B[38;5;124mn_components=\u001B[39m\u001B[38;5;132;01m%r\u001B[39;00m\u001B[38;5;124m must be less or equal to \u001B[39m\u001B[38;5;124m\"\u001B[39m\n\u001B[0;32m    298\u001B[0m         \u001B[38;5;124m\"\u001B[39m\u001B[38;5;124mthe batch number of samples \u001B[39m\u001B[38;5;124m\"\u001B[39m\n\u001B[0;32m    299\u001B[0m         \u001B[38;5;124m\"\u001B[39m\u001B[38;5;132;01m%d\u001B[39;00m\u001B[38;5;124m.\u001B[39m\u001B[38;5;124m\"\u001B[39m \u001B[38;5;241m%\u001B[39m (\u001B[38;5;28mself\u001B[39m\u001B[38;5;241m.\u001B[39mn_components, n_samples)\n\u001B[0;32m    300\u001B[0m     )\n\u001B[0;32m    301\u001B[0m \u001B[38;5;28;01melse\u001B[39;00m:\n\u001B[0;32m    302\u001B[0m     \u001B[38;5;28mself\u001B[39m\u001B[38;5;241m.\u001B[39mn_components_ \u001B[38;5;241m=\u001B[39m \u001B[38;5;28mself\u001B[39m\u001B[38;5;241m.\u001B[39mn_components\n",
      "\u001B[1;31mValueError\u001B[0m: n_components=799 must be less or equal to the batch number of samples 2."
     ]
    }
   ],
   "source": [
    "# Example usage\n",
    "input_folder = 'preprocessed_videos_30frames'\n",
    "output_folder = os.getcwd()\n",
    "stages = [\"stage_3\"] # [\"stage_2\", \"stage_3\", \"stage_4\", \"stage_5\"] # success: [\"stage_1\"]\n",
    "n_components = 0.95\n",
    "\n",
    "# Iterate over each stage and process it\n",
    "for stage in stages:\n",
    "    print(f\"Processing {stage}...\")\n",
    "    process_stage_for_pca(input_folder, output_folder, stage)"
   ]
  },
  {
   "cell_type": "code",
   "execution_count": null,
   "id": "86cc8acd-0956-45fa-af18-6382c96b6687",
   "metadata": {},
   "outputs": [],
   "source": []
  },
  {
   "cell_type": "code",
   "execution_count": null,
   "id": "51bd158bb567faf7",
   "metadata": {
    "collapsed": false
   },
   "outputs": [],
   "source": [
    "#-----------------------------------------------------------------------"
   ]
  },
  {
   "cell_type": "code",
   "execution_count": null,
   "id": "3616d500-552d-47d7-9c62-96ed13a329b9",
   "metadata": {},
   "outputs": [],
   "source": [
    "# zip pca folder\n",
    "directory_to_zip = \"PCA_slice_\"  # Replace with your directory name\n",
    "output_filename = \"PCA_channel_0.95_dataset\"  # Replace with your desired output name\n",
    "output_path = os.path.join(os.getcwd(), output_filename)\n",
    "shutil.make_archive(output_path, 'zip', directory_to_zip)"
   ]
  },
  {
   "cell_type": "code",
   "execution_count": null,
   "id": "ac1b70e6-f2c7-48a3-81d9-545f19b1fa7b",
   "metadata": {},
   "outputs": [],
   "source": []
  },
  {
   "cell_type": "code",
   "execution_count": null,
   "id": "c2d27f12-d1e8-48a2-bac8-3a4d7c631f23",
   "metadata": {},
   "outputs": [],
   "source": [
    "stage = \"stage_1\"\n",
    "stage_nr = stage[-1]\n",
    "path = f\"PCA_slice_0.95/{stage}/layer_{stage_nr}_pca.pkl\"\n",
    "with open(path, 'rb') as f:\n",
    "    pcs = pickle.load(f)\n",
    "\n",
    "print(pcs.shape)"
   ]
  }
 ],
 "metadata": {
  "kernelspec": {
   "display_name": "Python 3 ",
   "language": "python",
   "name": "python3"
  },
  "language_info": {
   "codemirror_mode": {
    "name": "ipython",
    "version": 3
   },
   "file_extension": ".py",
   "mimetype": "text/x-python",
   "name": "python",
   "nbconvert_exporter": "python",
   "pygments_lexer": "ipython3",
   "version": "3.10.12"
  }
 },
 "nbformat": 4,
 "nbformat_minor": 5
}
