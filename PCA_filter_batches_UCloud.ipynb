{
 "cells": [
  {
   "cell_type": "markdown",
   "id": "fb579d9c64e8fbff",
   "metadata": {
    "collapsed": false
   },
   "source": [
    "Channel PCA captures most significant patterns across frames for each channel, potentially highlighting the most prominent changes or features in the video content for that specific channel.\n",
    "**Do we want that or are there better ways to capture spatial features per frame?**"
   ]
  },
  {
   "cell_type": "code",
   "execution_count": 1,
   "id": "9faca7027604e2",
   "metadata": {
    "collapsed": false,
    "ExecuteTime": {
     "end_time": "2023-12-30T10:14:41.403172900Z",
     "start_time": "2023-12-30T10:14:29.417193700Z"
    }
   },
   "outputs": [],
   "source": [
    "import os\n",
    "import pickle\n",
    "import numpy as np\n",
    "from sklearn.preprocessing import StandardScaler\n",
    "from sklearn.decomposition import PCA\n",
    "from tqdm import tqdm"
   ]
  },
  {
   "cell_type": "code",
   "execution_count": 2,
   "id": "e55940dce8be960b",
   "metadata": {
    "collapsed": false,
    "ExecuteTime": {
     "end_time": "2023-12-30T10:14:41.412582800Z",
     "start_time": "2023-12-30T10:14:41.403172900Z"
    }
   },
   "outputs": [
    {
     "name": "stdout",
     "output_type": "stream",
     "text": [
      "Repository Root: C:\\Users\\marce\\PycharmProjects\\Brainvision_Project\n"
     ]
    }
   ],
   "source": [
    "def find_repo_root(path='.'):\n",
    "    path = os.path.abspath(path)\n",
    "    while not os.path.isdir(os.path.join(path, '.git')):\n",
    "        parent = os.path.dirname(path)\n",
    "        if parent == path:\n",
    "            # We've reached the root of the file system without finding '.git'\n",
    "            return None\n",
    "        path = parent\n",
    "    return path\n",
    "\n",
    "repo_root = find_repo_root()\n",
    "print(\"Repository Root:\", repo_root)"
   ]
  },
  {
   "cell_type": "code",
   "execution_count": 3,
   "id": "295ff56dbac193c4",
   "metadata": {
    "collapsed": false,
    "ExecuteTime": {
     "end_time": "2023-12-30T10:14:41.425980500Z",
     "start_time": "2023-12-30T10:14:41.412582800Z"
    }
   },
   "outputs": [],
   "source": [
    "def get_full_path(relative_path, repo_root):\n",
    "    if not repo_root:\n",
    "        raise ValueError(\"Repository root not found. Ensure you're inside a Git repository.\")\n",
    "\n",
    "    return os.path.join(repo_root, relative_path)\n"
   ]
  },
  {
   "cell_type": "code",
   "execution_count": 4,
   "id": "b1d0d16c1636fca7",
   "metadata": {
    "collapsed": false,
    "ExecuteTime": {
     "end_time": "2023-12-30T10:14:41.471268300Z",
     "start_time": "2023-12-30T10:14:41.425980500Z"
    }
   },
   "outputs": [],
   "source": [
    "# step 1 function\n",
    "def load_and_combine_tensors(stage_name, input_folder, num_videos):\n",
    "    combined_tensor = []\n",
    "    video_indices = {}\n",
    "\n",
    "    for video_id in range(1, num_videos + 1):\n",
    "        filename = f\"{str(video_id).zfill(4)}_{stage_name}.pkl\"\n",
    "        file_path = os.path.join(input_folder, stage_name, filename)\n",
    "\n",
    "        if os.path.exists(file_path):\n",
    "            #print(f\"Loading tensor from: {file_path}\")\n",
    "            with open(file_path, 'rb') as file:\n",
    "                tensor = pickle.load(file)\n",
    "                combined_tensor.append(tensor)\n",
    "                # Track start and end indices for each video\n",
    "                end_index = sum(t.shape[0] for t in combined_tensor)\n",
    "                video_indices[str(video_id).zfill(4)] = (end_index - tensor.shape[0], end_index)\n",
    "\n",
    "    if not combined_tensor:\n",
    "        print(\"No tensors found to combine.\")\n",
    "        return None, None\n",
    "\n",
    "    combined_tensor = np.concatenate(combined_tensor, axis=0)\n",
    "    return combined_tensor, video_indices\n"
   ]
  },
  {
   "cell_type": "code",
   "execution_count": 5,
   "id": "698222bfb9b8029c",
   "metadata": {
    "collapsed": false,
    "ExecuteTime": {
     "end_time": "2023-12-30T10:14:41.471268300Z",
     "start_time": "2023-12-30T10:14:41.439839Z"
    }
   },
   "outputs": [],
   "source": [
    "# Step 2: globalized standardization (only based on training set)\n",
    "def standardize_tensors(combined_tensor, video_indices, training_end_id='0005'):\n",
    "    reshaped_tensor = combined_tensor.reshape(combined_tensor.shape[0], -1)\n",
    "    scaler = StandardScaler()\n",
    "\n",
    "    # Find the end index of the training set\n",
    "    training_end_index = video_indices[training_end_id][1]\n",
    "\n",
    "    # Fit the scaler only on the training set\n",
    "    scaler.fit(reshaped_tensor[:training_end_index])\n",
    "\n",
    "    # Transform both training and test sets\n",
    "    standardized_data = scaler.transform(reshaped_tensor)\n",
    "    \n",
    "    return standardized_data.reshape(combined_tensor.shape)"
   ]
  },
  {
   "cell_type": "code",
   "execution_count": 7,
   "outputs": [
    {
     "name": "stdout",
     "output_type": "stream",
     "text": [
      "Attempting to access: C:\\Users\\marce\\PycharmProjects\\Brainvision_Project\\preprocessed_videos_30frames\\stage_5\n",
      "Number of videos found: 5\n",
      "Step 1 done.\n"
     ]
    }
   ],
   "source": [
    "input_folder = 'preprocessed_videos_30frames'\n",
    "output_folder = os.getcwd()\n",
    "stages = [\"stage_5\"] # [\"stage_2\", \"stage_3\", \"stage_4\", \"stage_5\"] # success: [\"stage_1\"]\n",
    "n_components = 0.95\n",
    "stage_name = \"stage_5\"\n",
    "\n",
    "\n",
    "current_working_directory = os.getcwd()\n",
    "stage_folder = os.path.join(current_working_directory, input_folder, stage_name)\n",
    "print(\"Attempting to access:\", stage_folder)\n",
    "\n",
    "if not os.path.exists(stage_folder):\n",
    "    print(\"Directory not found:\", stage_folder)\n",
    "\n",
    "# Calculate the number of video files in the folder\n",
    "num_videos = 5 # len([f for f in os.listdir(stage_folder) if os.path.isfile(os.path.join(stage_folder, f))])\n",
    "print(f\"Number of videos found: {num_videos}\")\n",
    "\n",
    "# Step 1: Load and combine tensors\n",
    "combined_tensor, video_indices = load_and_combine_tensors(stage_name, input_folder, num_videos)\n",
    "print(\"Step 1 done.\")\n",
    "\n",
    "# Step 2: Globally standardize the tensor\n",
    "standardized_tensor = standardize_tensors(combined_tensor, video_indices)"
   ],
   "metadata": {
    "collapsed": false,
    "ExecuteTime": {
     "end_time": "2023-12-30T10:31:59.919709200Z",
     "start_time": "2023-12-30T10:31:59.630218600Z"
    }
   },
   "id": "604e3308525ea559"
  },
  {
   "cell_type": "code",
   "execution_count": 8,
   "outputs": [
    {
     "data": {
      "text/plain": "(150, 1, 7, 7, 2048)"
     },
     "execution_count": 8,
     "metadata": {},
     "output_type": "execute_result"
    }
   ],
   "source": [
    "standardized_tensor.shape"
   ],
   "metadata": {
    "collapsed": false,
    "ExecuteTime": {
     "end_time": "2023-12-30T10:32:09.376353300Z",
     "start_time": "2023-12-30T10:32:09.360642600Z"
    }
   },
   "id": "5e34d0ff383dd535"
  },
  {
   "cell_type": "code",
   "execution_count": 17,
   "id": "9fa3a70ead172079",
   "metadata": {
    "collapsed": false,
    "ExecuteTime": {
     "end_time": "2023-12-30T11:42:28.109150600Z",
     "start_time": "2023-12-30T11:42:28.109150600Z"
    }
   },
   "outputs": [],
   "source": [
    "def apply_fpca_and_save(standardized_tensor, stage_name, output_folder, n_components, training_end_id=800, seed=42):\n",
    "    # create filter batches for pca\n",
    "    num_batches = 8\n",
    "    batch_size = standardized_tensor.shape[-1] // num_batches\n",
    "    # Calculate the product of the spatial dimensions\n",
    "    spatial_dims_prod = np.prod(standardized_tensor.shape[2:4])\n",
    "    \n",
    "    pca_results = []\n",
    "\n",
    "    for i in range(num_batches):\n",
    "        # Extract the batch\n",
    "        batch = standardized_tensor[..., i*batch_size : (i+1)*batch_size]\n",
    "        # Reshape the batch for PCA: flattening the spatial dimensions and channels\n",
    "        reshaped_batch = batch.reshape(-1, spatial_dims_prod*batch_size)\n",
    "        print(f\"Shape of flattened filter batch {i}: {reshaped_batch.shape}\")\n",
    "\n",
    "        # Apply PCA\n",
    "        pca = PCA(n_components=n_components, random_state=seed)\n",
    "        pca.fit(reshaped_batch[:training_end_id, :])\n",
    "        pca_result = pca.transform(reshaped_batch)\n",
    "        print(f\"Number of PCs in filter batch {i}: {pca_result.shape}\")\n",
    "        # Append the PCA result\n",
    "        pca_results.append(pca_result)\n",
    "        \n",
    "        # print(len(pca_results))\n",
    "\n",
    "    # Concatenate the PCA results from all slices\n",
    "    final_pca_results = np.concatenate(pca_results, axis=1)\n",
    "    print(final_pca_results.shape)\n",
    "    # save PCA results\n",
    "    pca_folder = os.path.join(output_folder, f\"PCA_filter_{n_components}\", stage_name)\n",
    "    if not os.path.exists(pca_folder):\n",
    "        os.makedirs(pca_folder)\n",
    "    \n",
    "    stage_number = stage_name[-1]\n",
    "    file_path = os.path.join(pca_folder, f'layer_{stage_number}_pca.pkl')\n",
    "    with open(file_path, 'wb') as f:\n",
    "        pickle.dump(final_pca_results, f)\n",
    "    \n",
    "    print(f\"{stage_name} PCs stored in: {file_path}\")"
   ]
  },
  {
   "cell_type": "code",
   "execution_count": 19,
   "id": "273094de-3d09-432e-b631-77f632922d71",
   "metadata": {
    "collapsed": false,
    "ExecuteTime": {
     "end_time": "2023-12-30T11:42:36.999889400Z",
     "start_time": "2023-12-30T11:42:36.999383200Z"
    }
   },
   "outputs": [],
   "source": [
    "def process_stage_for_pca(input_folder, output_folder, stage_name):\n",
    "    \"\"\"\n",
    "    Process all videos of a given stage: standardize, apply PCA, and save the PCA-transformed tensors.\n",
    "    Args:\n",
    "    - input_folder: Folder containing the pre-processed videos.\n",
    "    - output_folder: Folder to save PCA results.\n",
    "    - stage_name: Name of the stage to process.\n",
    "    Returns:\n",
    "    - DataFrame containing metadata (video ID and variance captured).\n",
    "    \"\"\"\n",
    "     # Use the current working directory or a known absolute path\n",
    "    current_working_directory = os.getcwd()\n",
    "    stage_folder = os.path.join(current_working_directory, input_folder, stage_name)\n",
    "    print(\"Attempting to access:\", stage_folder)\n",
    "\n",
    "    if not os.path.exists(stage_folder):\n",
    "        print(\"Directory not found:\", stage_folder)\n",
    "        return None\n",
    "    # Calculate the number of video files in the folder\n",
    "    num_videos = 5 # len([f for f in os.listdir(stage_folder) if os.path.isfile(os.path.join(stage_folder, f))])\n",
    "    print(f\"Number of videos found: {num_videos}\")\n",
    "\n",
    "    # Step 1: Load and combine tensors\n",
    "    combined_tensor, video_indices = load_and_combine_tensors(stage_name, input_folder, num_videos)\n",
    "    print(\"Step 1 done.\")\n",
    "    \n",
    "    # Step 2: Globally standardize the tensor\n",
    "    standardized_tensor = standardize_tensors(combined_tensor, video_indices)\n",
    "    \n",
    "    # # save standardized tensors\n",
    "    # st_folder = os.path.join(output_folder, f\"fm_standardized\", stage_name)\n",
    "    # if not os.path.exists(st_folder):\n",
    "    #     os.makedirs(st_folder)\n",
    "    # file_path = os.path.join(st_folder, f'fm_standardized_{stage_name}.pkl')\n",
    "    # with open(file_path, 'wb') as f:\n",
    "    #     pickle.dump(standardized_tensor, f)\n",
    "    # print(f\"{stage_name} standardized tensors stored in: {file_path}\")\n",
    "    \n",
    "    print(\"Step 2 done.\")\n",
    "\n",
    "    # Step 3: Apply PCA to each tensor and save the result\n",
    "    apply_fpca_and_save(standardized_tensor, stage_name, output_folder, n_components)\n",
    "    print(\"Step 3 done.\")"
   ]
  },
  {
   "cell_type": "code",
   "execution_count": 21,
   "id": "38a2182002e8f9b0",
   "metadata": {
    "ExecuteTime": {
     "end_time": "2023-12-29T11:48:09.183904300Z",
     "start_time": "2023-12-29T11:48:09.173940600Z"
    },
    "collapsed": false
   },
   "outputs": [
    {
     "name": "stdout",
     "output_type": "stream",
     "text": [
      "/work\n",
      "None\n"
     ]
    }
   ],
   "source": [
    "print(os.getcwd())\n",
    "print(repo_root)"
   ]
  },
  {
   "cell_type": "code",
   "execution_count": 20,
   "id": "fc8f4a7dfe583730",
   "metadata": {
    "collapsed": false,
    "ExecuteTime": {
     "end_time": "2023-12-30T11:43:15.850476300Z",
     "start_time": "2023-12-30T11:43:14.652194Z"
    }
   },
   "outputs": [
    {
     "name": "stdout",
     "output_type": "stream",
     "text": [
      "Processing stage_5...\n",
      "Attempting to access: C:\\Users\\marce\\PycharmProjects\\Brainvision_Project\\preprocessed_videos_30frames\\stage_5\n",
      "Number of videos found: 5\n",
      "Step 1 done.\n",
      "Step 2 done.\n",
      "Shape of flattened filter batch 0: (150, 12544)\n",
      "Number of PCs in filter batch 0: (150, 112)\n",
      "Shape of flattened filter batch 1: (150, 12544)\n",
      "Number of PCs in filter batch 1: (150, 112)\n",
      "Shape of flattened filter batch 2: (150, 12544)\n",
      "Number of PCs in filter batch 2: (150, 113)\n",
      "Shape of flattened filter batch 3: (150, 12544)\n",
      "Number of PCs in filter batch 3: (150, 113)\n",
      "Shape of flattened filter batch 4: (150, 12544)\n",
      "Number of PCs in filter batch 4: (150, 111)\n",
      "Shape of flattened filter batch 5: (150, 12544)\n",
      "Number of PCs in filter batch 5: (150, 113)\n",
      "Shape of flattened filter batch 6: (150, 12544)\n",
      "Number of PCs in filter batch 6: (150, 114)\n",
      "Shape of flattened filter batch 7: (150, 12544)\n",
      "Number of PCs in filter batch 7: (150, 113)\n",
      "(150, 901)\n",
      "stage_5 PCs stored in: C:\\Users\\marce\\PycharmProjects\\Brainvision_Project\\PCA_filter_0.95\\stage_5\\layer_5_pca.pkl\n",
      "Step 3 done.\n"
     ]
    }
   ],
   "source": [
    "# Example usage\n",
    "input_folder = 'preprocessed_videos_30frames'\n",
    "output_folder = os.getcwd()\n",
    "stages = [\"stage_5\"] # [\"stage_2\", \"stage_3\", \"stage_4\", \"stage_5\"] # success: [\"stage_1\"]\n",
    "n_components = 0.95\n",
    "\n",
    "# Iterate over each stage and process it\n",
    "for stage in stages:\n",
    "    print(f\"Processing {stage}...\")\n",
    "    process_stage_for_pca(input_folder, output_folder, stage)\n"
   ]
  },
  {
   "cell_type": "code",
   "execution_count": null,
   "id": "86cc8acd-0956-45fa-af18-6382c96b6687",
   "metadata": {},
   "outputs": [],
   "source": []
  },
  {
   "cell_type": "code",
   "execution_count": null,
   "id": "51bd158bb567faf7",
   "metadata": {
    "collapsed": false
   },
   "outputs": [],
   "source": [
    "#-----------------------------------------------------------------------"
   ]
  },
  {
   "cell_type": "code",
   "execution_count": null,
   "id": "3616d500-552d-47d7-9c62-96ed13a329b9",
   "metadata": {},
   "outputs": [],
   "source": [
    "# zip pca folder\n",
    "directory_to_zip = \"PCA_slice_\"  # Replace with your directory name\n",
    "output_filename = \"PCA_channel_0.95_dataset\"  # Replace with your desired output name\n",
    "output_path = os.path.join(os.getcwd(), output_filename)\n",
    "shutil.make_archive(output_path, 'zip', directory_to_zip)"
   ]
  },
  {
   "cell_type": "code",
   "execution_count": null,
   "id": "ac1b70e6-f2c7-48a3-81d9-545f19b1fa7b",
   "metadata": {},
   "outputs": [],
   "source": []
  },
  {
   "cell_type": "code",
   "execution_count": 13,
   "id": "c2d27f12-d1e8-48a2-bac8-3a4d7c631f23",
   "metadata": {},
   "outputs": [
    {
     "name": "stdout",
     "output_type": "stream",
     "text": [
      "(1000, 187)\n"
     ]
    }
   ],
   "source": [
    "stage = \"stage_1\"\n",
    "stage_nr = stage[-1]\n",
    "path = f\"PCA_slice_0.95/{stage}/layer_{stage_nr}_pca.pkl\"\n",
    "with open(path, 'rb') as f:\n",
    "    pcs = pickle.load(f)\n",
    "\n",
    "print(pcs.shape)"
   ]
  }
 ],
 "metadata": {
  "kernelspec": {
   "display_name": "Python 3 ",
   "language": "python",
   "name": "python3"
  },
  "language_info": {
   "codemirror_mode": {
    "name": "ipython",
    "version": 3
   },
   "file_extension": ".py",
   "mimetype": "text/x-python",
   "name": "python",
   "nbconvert_exporter": "python",
   "pygments_lexer": "ipython3",
   "version": "3.10.12"
  }
 },
 "nbformat": 4,
 "nbformat_minor": 5
}
