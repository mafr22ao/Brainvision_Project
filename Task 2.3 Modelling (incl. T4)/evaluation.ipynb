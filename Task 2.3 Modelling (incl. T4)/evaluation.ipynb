{
 "cells": [
  {
   "cell_type": "code",
   "execution_count": 1,
   "id": "876bbbf7b46895a",
   "metadata": {
    "collapsed": false,
    "jupyter": {
     "outputs_hidden": false
    }
   },
   "outputs": [],
   "source": [
    "# !pip install -r requirements.txt --quiet"
   ]
  },
  {
   "cell_type": "code",
   "execution_count": 2,
   "id": "b3f0dec9-890e-4060-b5c7-3937139db7fc",
   "metadata": {},
   "outputs": [],
   "source": [
    "!pip install tensorflow --quiet"
   ]
  },
  {
   "cell_type": "code",
   "execution_count": 3,
   "id": "fe5b3e1fa23587bc",
   "metadata": {
    "ExecuteTime": {
     "end_time": "2023-12-05T09:12:47.463629400Z",
     "start_time": "2023-12-05T09:12:47.457105100Z"
    },
    "collapsed": false,
    "jupyter": {
     "outputs_hidden": false
    }
   },
   "outputs": [
    {
     "name": "stderr",
     "output_type": "stream",
     "text": [
      "/tmp/ipykernel_221/3345060064.py:2: DeprecationWarning: \n",
      "Pyarrow will become a required dependency of pandas in the next major release of pandas (pandas 3.0),\n",
      "(to allow more performant data types, such as the Arrow string type, and better interoperability with other libraries)\n",
      "but was not found to be installed on your system.\n",
      "If this would cause problems for you,\n",
      "please provide us feedback at https://github.com/pandas-dev/pandas/issues/54466\n",
      "        \n",
      "  import pandas as pd\n"
     ]
    }
   ],
   "source": [
    "import os\n",
    "import pandas as pd\n",
    "import numpy as np\n",
    "import tensorflow as tf\n",
    "from keras.models import load_model\n",
    "from evaluation_utils import run_evaluation_pipeline"
   ]
  },
  {
   "cell_type": "markdown",
   "id": "b2787b4445fe161d",
   "metadata": {
    "collapsed": false,
    "jupyter": {
     "outputs_hidden": false
    }
   },
   "source": [
    "### Model Evaluation"
   ]
  },
  {
   "cell_type": "code",
   "execution_count": 4,
   "id": "initial_id",
   "metadata": {
    "ExecuteTime": {
     "end_time": "2023-12-05T10:27:11.920245500Z",
     "start_time": "2023-12-05T10:24:57.640279600Z"
    },
    "collapsed": false,
    "jupyter": {
     "outputs_hidden": false
    }
   },
   "outputs": [
    {
     "name": "stdout",
     "output_type": "stream",
     "text": [
      "base_train shape:  (800, 5748)\n",
      "base_val shape:  (100, 5748)\n",
      "motion_train shape:  (800, 3136)\n",
      "motion_val shape:  (100, 3136)\n"
     ]
    },
    {
     "name": "stderr",
     "output_type": "stream",
     "text": [
      "/opt/conda/lib/python3.10/site-packages/numpy/core/_methods.py:176: RuntimeWarning: overflow encountered in multiply\n",
      "  x = um.multiply(x, x, out=x)\n"
     ]
    },
    {
     "name": "stdout",
     "output_type": "stream",
     "text": [
      "ROI_train shape:  (800, 18222)\n",
      "ROI_val shape:  (100, 18222)\n",
      "8\n",
      "testing model:  model_hidden_1_lr_0.0001_dropout_0.2_l2_0.001.keras\n",
      "4/4 [==============================] - 0s 59ms/step\n",
      "testing model:  model_hidden_2_lr_0.0001_dropout_0.4_l2_0.0001.keras\n"
     ]
    },
    {
     "name": "stderr",
     "output_type": "stream",
     "text": [
      "/work/brainvision_modelling/evaluation_utils.py:70: FutureWarning: The behavior of DataFrame concatenation with empty or all-NA entries is deprecated. In a future version, this will no longer exclude empty or all-NA columns when determining the result dtypes. To retain the old behavior, exclude the relevant entries before the concat operation.\n",
      "  df = pd.concat([df, new_values], ignore_index=True)\n"
     ]
    },
    {
     "name": "stdout",
     "output_type": "stream",
     "text": [
      "4/4 [==============================] - 0s 93ms/step\n",
      "testing model:  model_hidden_2_lr_0.0001_dropout_0.2_l2_0.0001.keras\n",
      "4/4 [==============================] - 0s 95ms/step\n",
      "testing model:  model_hidden_2_lr_0.0001_dropout_0.2_l2_0.001.keras\n",
      "4/4 [==============================] - 1s 88ms/step\n",
      "testing model:  model_hidden_1_lr_0.0001_dropout_0.4_l2_0.0001.keras\n",
      "4/4 [==============================] - 0s 58ms/step\n",
      "testing model:  model_hidden_2_lr_0.0001_dropout_0.4_l2_0.001.keras\n",
      "4/4 [==============================] - 1s 93ms/step\n",
      "testing model:  model_hidden_1_lr_0.0001_dropout_0.4_l2_0.001.keras\n",
      "4/4 [==============================] - 0s 60ms/step\n",
      "testing model:  model_hidden_1_lr_0.0001_dropout_0.2_l2_0.0001.keras\n",
      "4/4 [==============================] - 0s 59ms/step\n",
      "finished testing sub: sub01, ROI: WB\n",
      "ROI_train shape:  (800, 232)\n",
      "ROI_val shape:  (100, 232)\n",
      "Execution for sub01 ended at V1\n",
      "ROI_train shape:  (800, 21573)\n",
      "ROI_val shape:  (100, 21573)\n",
      "8\n",
      "testing model:  model_hidden_2_lr_0.0001_dropout_0.4_l2_0.0001.keras\n",
      "4/4 [==============================] - 1s 103ms/step\n",
      "testing model:  model_hidden_1_lr_0.0001_dropout_0.4_l2_0.001.keras\n",
      "4/4 [==============================] - 0s 70ms/step\n",
      "testing model:  model_hidden_1_lr_0.0001_dropout_0.2_l2_0.001.keras\n",
      "4/4 [==============================] - 0s 68ms/step\n",
      "testing model:  model_hidden_2_lr_0.0001_dropout_0.4_l2_0.001.keras\n",
      "4/4 [==============================] - 1s 102ms/step\n",
      "testing model:  model_hidden_1_lr_0.0001_dropout_0.4_l2_0.0001.keras\n",
      "4/4 [==============================] - 0s 71ms/step\n",
      "testing model:  model_hidden_2_lr_0.0001_dropout_0.2_l2_0.0001.keras\n",
      "4/4 [==============================] - 1s 112ms/step\n",
      "testing model:  model_hidden_2_lr_0.0001_dropout_0.2_l2_0.001.keras\n",
      "4/4 [==============================] - 2s 161ms/step\n",
      "testing model:  model_hidden_1_lr_0.0001_dropout_0.2_l2_0.0001.keras\n",
      "4/4 [==============================] - 0s 78ms/step\n",
      "finished testing sub: sub02, ROI: WB\n",
      "ROI_train shape:  (800, 285)\n",
      "ROI_val shape:  (100, 285)\n",
      "Execution for sub02 ended at V1\n",
      "ROI_train shape:  (800, 15225)\n",
      "ROI_val shape:  (100, 15225)\n",
      "8\n",
      "testing model:  model_hidden_1_lr_0.0001_dropout_0.2_l2_0.001.keras\n",
      "4/4 [==============================] - 0s 57ms/step\n",
      "testing model:  model_hidden_1_lr_0.0001_dropout_0.4_l2_0.0001.keras\n",
      "4/4 [==============================] - 0s 55ms/step\n",
      "testing model:  model_hidden_1_lr_0.0001_dropout_0.2_l2_0.0001.keras\n",
      "4/4 [==============================] - 0s 59ms/step\n",
      "testing model:  model_hidden_1_lr_0.0001_dropout_0.4_l2_0.001.keras\n",
      "4/4 [==============================] - 0s 58ms/step\n",
      "testing model:  model_hidden_2_lr_0.0001_dropout_0.2_l2_0.001.keras\n",
      "4/4 [==============================] - 0s 91ms/step\n",
      "testing model:  model_hidden_2_lr_0.0001_dropout_0.4_l2_0.0001.keras\n",
      "4/4 [==============================] - 1s 90ms/step\n",
      "testing model:  model_hidden_2_lr_0.0001_dropout_0.2_l2_0.0001.keras\n",
      "4/4 [==============================] - 1s 87ms/step\n",
      "testing model:  model_hidden_2_lr_0.0001_dropout_0.4_l2_0.001.keras\n",
      "4/4 [==============================] - 1s 97ms/step\n",
      "finished testing sub: sub03, ROI: WB\n",
      "ROI_train shape:  (800, 164)\n",
      "ROI_val shape:  (100, 164)\n",
      "Execution for sub03 ended at V1\n",
      "ROI_train shape:  (800, 19445)\n",
      "ROI_val shape:  (100, 19445)\n",
      "8\n",
      "testing model:  model_hidden_2_lr_0.0001_dropout_0.4_l2_0.0001.keras\n",
      "4/4 [==============================] - 1s 96ms/step\n",
      "testing model:  model_hidden_1_lr_0.0001_dropout_0.4_l2_0.001.keras\n",
      "4/4 [==============================] - 1s 101ms/step\n",
      "testing model:  model_hidden_1_lr_0.0001_dropout_0.4_l2_0.0001.keras\n",
      "4/4 [==============================] - 0s 71ms/step\n",
      "testing model:  model_hidden_2_lr_0.0001_dropout_0.4_l2_0.001.keras\n",
      "4/4 [==============================] - 2s 157ms/step\n",
      "testing model:  model_hidden_1_lr_0.0001_dropout_0.2_l2_0.001.keras\n",
      "4/4 [==============================] - 0s 71ms/step\n",
      "testing model:  model_hidden_1_lr_0.0001_dropout_0.2_l2_0.0001.keras\n",
      "4/4 [==============================] - 1s 71ms/step\n",
      "testing model:  model_hidden_2_lr_0.0001_dropout_0.2_l2_0.001.keras\n",
      "4/4 [==============================] - 1s 101ms/step\n",
      "testing model:  model_hidden_2_lr_0.0001_dropout_0.2_l2_0.0001.keras\n",
      "4/4 [==============================] - 0s 102ms/step\n",
      "finished testing sub: sub04, ROI: WB\n",
      "ROI_train shape:  (800, 176)\n",
      "ROI_val shape:  (100, 176)\n",
      "Execution for sub04 ended at V1\n",
      "ROI_train shape:  (800, 13340)\n",
      "ROI_val shape:  (100, 13340)\n",
      "8\n",
      "testing model:  model_hidden_2_lr_0.0001_dropout_0.4_l2_0.001.keras\n",
      "4/4 [==============================] - 0s 74ms/step\n",
      "testing model:  model_hidden_1_lr_0.0001_dropout_0.4_l2_0.001.keras\n",
      "4/4 [==============================] - 0s 55ms/step\n",
      "testing model:  model_hidden_1_lr_0.0001_dropout_0.2_l2_0.0001.keras\n",
      "4/4 [==============================] - 0s 51ms/step\n",
      "testing model:  model_hidden_1_lr_0.0001_dropout_0.4_l2_0.0001.keras\n",
      "4/4 [==============================] - 0s 52ms/step\n",
      "testing model:  model_hidden_2_lr_0.0001_dropout_0.2_l2_0.0001.keras\n",
      "4/4 [==============================] - 0s 76ms/step\n",
      "testing model:  model_hidden_1_lr_0.0001_dropout_0.2_l2_0.001.keras\n",
      "4/4 [==============================] - 0s 51ms/step\n",
      "testing model:  model_hidden_2_lr_0.0001_dropout_0.4_l2_0.0001.keras\n",
      "4/4 [==============================] - 0s 75ms/step\n",
      "testing model:  model_hidden_2_lr_0.0001_dropout_0.2_l2_0.001.keras\n",
      "4/4 [==============================] - 0s 79ms/step\n",
      "finished testing sub: sub05, ROI: WB\n",
      "ROI_train shape:  (800, 326)\n",
      "ROI_val shape:  (100, 326)\n",
      "Execution for sub05 ended at V1\n",
      "ROI_train shape:  (800, 19818)\n",
      "ROI_val shape:  (100, 19818)\n",
      "8\n",
      "testing model:  model_hidden_2_lr_0.0001_dropout_0.2_l2_0.001.keras\n",
      "4/4 [==============================] - 1s 104ms/step\n",
      "testing model:  model_hidden_1_lr_0.0001_dropout_0.2_l2_0.0001.keras\n",
      "4/4 [==============================] - 0s 72ms/step\n",
      "testing model:  model_hidden_2_lr_0.0001_dropout_0.4_l2_0.0001.keras\n",
      "4/4 [==============================] - 1s 103ms/step\n",
      "testing model:  model_hidden_2_lr_0.0001_dropout_0.4_l2_0.001.keras\n",
      "4/4 [==============================] - 0s 100ms/step\n",
      "testing model:  model_hidden_2_lr_0.0001_dropout_0.2_l2_0.0001.keras\n",
      "4/4 [==============================] - 1s 110ms/step\n",
      "testing model:  model_hidden_1_lr_0.0001_dropout_0.4_l2_0.0001.keras\n",
      "4/4 [==============================] - 0s 66ms/step\n",
      "testing model:  model_hidden_1_lr_0.0001_dropout_0.4_l2_0.001.keras\n",
      "4/4 [==============================] - 1s 69ms/step\n",
      "testing model:  model_hidden_1_lr_0.0001_dropout_0.2_l2_0.001.keras\n",
      "4/4 [==============================] - 1s 78ms/step\n",
      "finished testing sub: sub06, ROI: WB\n",
      "ROI_train shape:  (800, 286)\n",
      "ROI_val shape:  (100, 286)\n",
      "Execution for sub06 ended at V1\n",
      "ROI_train shape:  (800, 10836)\n",
      "ROI_val shape:  (100, 10836)\n",
      "8\n",
      "testing model:  model_hidden_1_lr_0.0001_dropout_0.4_l2_0.0001.keras\n",
      "4/4 [==============================] - 0s 40ms/step\n",
      "testing model:  model_hidden_1_lr_0.0001_dropout_0.4_l2_0.001.keras\n",
      "4/4 [==============================] - 0s 41ms/step\n",
      "testing model:  model_hidden_2_lr_0.0001_dropout_0.4_l2_0.001.keras\n",
      "4/4 [==============================] - 1s 65ms/step\n",
      "testing model:  model_hidden_2_lr_0.0001_dropout_0.4_l2_0.0001.keras\n",
      "4/4 [==============================] - 1s 62ms/step\n",
      "testing model:  model_hidden_2_lr_0.0001_dropout_0.2_l2_0.001.keras\n",
      "4/4 [==============================] - 0s 59ms/step\n",
      "testing model:  model_hidden_2_lr_0.0001_dropout_0.2_l2_0.0001.keras\n",
      "4/4 [==============================] - 0s 59ms/step\n",
      "testing model:  model_hidden_1_lr_0.0001_dropout_0.2_l2_0.001.keras\n",
      "4/4 [==============================] - 0s 41ms/step\n",
      "testing model:  model_hidden_1_lr_0.0001_dropout_0.2_l2_0.0001.keras\n",
      "4/4 [==============================] - 0s 38ms/step\n",
      "finished testing sub: sub07, ROI: WB\n",
      "ROI_train shape:  (800, 195)\n",
      "ROI_val shape:  (100, 195)\n",
      "Execution for sub07 ended at V1\n",
      "ROI_train shape:  (800, 12347)\n",
      "ROI_val shape:  (100, 12347)\n",
      "8\n",
      "testing model:  model_hidden_2_lr_0.0001_dropout_0.2_l2_0.0001.keras\n",
      "4/4 [==============================] - 0s 68ms/step\n",
      "testing model:  model_hidden_1_lr_0.0001_dropout_0.4_l2_0.0001.keras\n",
      "4/4 [==============================] - 0s 46ms/step\n",
      "testing model:  model_hidden_1_lr_0.0001_dropout_0.2_l2_0.0001.keras\n",
      "4/4 [==============================] - 0s 48ms/step\n",
      "testing model:  model_hidden_2_lr_0.0001_dropout_0.4_l2_0.0001.keras\n",
      "4/4 [==============================] - 0s 70ms/step\n",
      "testing model:  model_hidden_2_lr_0.0001_dropout_0.2_l2_0.001.keras\n",
      "4/4 [==============================] - 0s 70ms/step\n",
      "testing model:  model_hidden_1_lr_0.0001_dropout_0.4_l2_0.001.keras\n",
      "4/4 [==============================] - 0s 50ms/step\n",
      "testing model:  model_hidden_2_lr_0.0001_dropout_0.4_l2_0.001.keras\n",
      "4/4 [==============================] - 0s 69ms/step\n",
      "testing model:  model_hidden_1_lr_0.0001_dropout_0.2_l2_0.001.keras\n",
      "4/4 [==============================] - 0s 48ms/step\n",
      "finished testing sub: sub08, ROI: WB\n",
      "ROI_train shape:  (800, 300)\n",
      "ROI_val shape:  (100, 300)\n",
      "Execution for sub08 ended at V1\n",
      "ROI_train shape:  (800, 17570)\n",
      "ROI_val shape:  (100, 17570)\n",
      "8\n",
      "testing model:  model_hidden_2_lr_0.0001_dropout_0.2_l2_0.0001.keras\n",
      "4/4 [==============================] - 0s 95ms/step\n",
      "testing model:  model_hidden_2_lr_0.0001_dropout_0.4_l2_0.0001.keras\n",
      "4/4 [==============================] - 1s 96ms/step\n",
      "testing model:  model_hidden_1_lr_0.0001_dropout_0.4_l2_0.0001.keras\n",
      "4/4 [==============================] - 0s 62ms/step\n",
      "testing model:  model_hidden_1_lr_0.0001_dropout_0.2_l2_0.001.keras\n",
      "4/4 [==============================] - 0s 57ms/step\n",
      "testing model:  model_hidden_2_lr_0.0001_dropout_0.4_l2_0.001.keras\n",
      "4/4 [==============================] - 0s 90ms/step\n",
      "testing model:  model_hidden_2_lr_0.0001_dropout_0.2_l2_0.001.keras\n",
      "4/4 [==============================] - 0s 87ms/step\n",
      "testing model:  model_hidden_1_lr_0.0001_dropout_0.4_l2_0.001.keras\n",
      "4/4 [==============================] - 0s 57ms/step\n",
      "testing model:  model_hidden_1_lr_0.0001_dropout_0.2_l2_0.0001.keras\n",
      "4/4 [==============================] - 0s 58ms/step\n",
      "finished testing sub: sub09, ROI: WB\n",
      "ROI_train shape:  (800, 271)\n",
      "ROI_val shape:  (100, 271)\n",
      "Execution for sub09 ended at V1\n",
      "ROI_train shape:  (800, 12950)\n",
      "ROI_val shape:  (100, 12950)\n",
      "8\n",
      "testing model:  model_hidden_1_lr_0.0001_dropout_0.2_l2_0.001.keras\n",
      "4/4 [==============================] - 0s 50ms/step\n",
      "testing model:  model_hidden_2_lr_0.0001_dropout_0.4_l2_0.001.keras\n",
      "4/4 [==============================] - 0s 73ms/step\n",
      "testing model:  model_hidden_2_lr_0.0001_dropout_0.2_l2_0.0001.keras\n",
      "4/4 [==============================] - 0s 72ms/step\n",
      "testing model:  model_hidden_1_lr_0.0001_dropout_0.4_l2_0.001.keras\n",
      "4/4 [==============================] - 0s 48ms/step\n",
      "testing model:  model_hidden_2_lr_0.0001_dropout_0.2_l2_0.001.keras\n",
      "4/4 [==============================] - 1s 74ms/step\n",
      "testing model:  model_hidden_2_lr_0.0001_dropout_0.4_l2_0.0001.keras\n",
      "4/4 [==============================] - 0s 75ms/step\n",
      "testing model:  model_hidden_1_lr_0.0001_dropout_0.4_l2_0.0001.keras\n",
      "4/4 [==============================] - 0s 52ms/step\n",
      "testing model:  model_hidden_1_lr_0.0001_dropout_0.2_l2_0.0001.keras\n",
      "4/4 [==============================] - 0s 52ms/step\n",
      "finished testing sub: sub10, ROI: WB\n",
      "ROI_train shape:  (800, 238)\n",
      "ROI_val shape:  (100, 238)\n",
      "Execution for sub10 ended at V1\n"
     ]
    },
    {
     "name": "stderr",
     "output_type": "stream",
     "text": [
      "/work/brainvision_modelling/evaluation_utils.py:140: FutureWarning: The provided callable <function mean at 0x7f35a05cd3f0> is currently using SeriesGroupBy.mean. In a future version of pandas, the provided callable will be used directly. To keep current behavior pass the string \"mean\" instead.\n",
      "  )[\"correlation_score\"].agg(\n",
      "/work/brainvision_modelling/evaluation_utils.py:146: FutureWarning: The provided callable <function mean at 0x7f35a05cd3f0> is currently using SeriesGroupBy.mean. In a future version of pandas, the provided callable will be used directly. To keep current behavior pass the string \"mean\" instead.\n",
      "  ])[\"correlation_score\"].agg(\n"
     ]
    }
   ],
   "source": [
    "run_evaluation_pipeline(\"stage_4\", data_mode=\"val\")"
   ]
  },
  {
   "cell_type": "code",
   "execution_count": 5,
   "id": "1a33ec2e-1761-429d-85b9-3e2f8a014dc4",
   "metadata": {
    "collapsed": false,
    "jupyter": {
     "outputs_hidden": false
    }
   },
   "outputs": [
    {
     "ename": "SyntaxError",
     "evalue": "invalid syntax. Perhaps you forgot a comma? (2642115589.py, line 4)",
     "output_type": "error",
     "traceback": [
      "\u001b[0;36m  Cell \u001b[0;32mIn[5], line 4\u001b[0;36m\u001b[0m\n\u001b[0;31m    file_path = os.path.join(\"test_sco\"re, stage_name, \"test_results_aggregated.csv\")\u001b[0m\n\u001b[0m                             ^\u001b[0m\n\u001b[0;31mSyntaxError\u001b[0m\u001b[0;31m:\u001b[0m invalid syntax. Perhaps you forgot a comma?\n"
     ]
    }
   ],
   "source": [
    "# show best models\n",
    "stage_name = \"stage_4\"\r\n",
    "\r\n",
    "file_path = os.path.join(\"test_sco\"re, stage_name, \"test_results_aggregated.csv\")\r\n",
    "results = pd.read_csv(file_path)\r\n",
    "results.head()\r\n",
    "\r\n",
    "best_models = results.loc[results.groupby('ROI')['correlation_score'].idxmax()]\r\n",
    "best_models"
   ]
  }
 ],
 "metadata": {
  "kernelspec": {
   "display_name": "Python 3 ",
   "language": "python",
   "name": "python3"
  },
  "language_info": {
   "codemirror_mode": {
    "name": "ipython",
    "version": 3
   },
   "file_extension": ".py",
   "mimetype": "text/x-python",
   "name": "python",
   "nbconvert_exporter": "python",
   "pygments_lexer": "ipython3",
   "version": "3.10.13"
  }
 },
 "nbformat": 4,
 "nbformat_minor": 5
}
