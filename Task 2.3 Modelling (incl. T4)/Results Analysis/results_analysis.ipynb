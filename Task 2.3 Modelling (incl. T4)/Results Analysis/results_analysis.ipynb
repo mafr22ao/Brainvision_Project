{
 "cells": [
  {
   "cell_type": "markdown",
   "source": [
    "### Results Mapping"
   ],
   "metadata": {
    "collapsed": false
   },
   "id": "b0840d31ab60038f"
  },
  {
   "cell_type": "markdown",
   "source": [
    "Takes the finalized predictions (as excel tables created during training) and the mappings of the ROIs on the whole brain as an input and verifies that the ROI voxels in the WB models deliver the same prediction results as the separate ROI models."
   ],
   "metadata": {
    "collapsed": false
   },
   "id": "f9cef7a2ed156cb9"
  },
  {
   "cell_type": "code",
   "outputs": [],
   "source": [
    "import pandas as pd\n",
    "import numpy as np\n",
    "import os"
   ],
   "metadata": {
    "collapsed": false,
    "ExecuteTime": {
     "end_time": "2024-02-28T08:12:41.816202Z",
     "start_time": "2024-02-28T08:12:41.812854Z"
    }
   },
   "id": "2a934102472f8dd0",
   "execution_count": 5
  },
  {
   "cell_type": "code",
   "outputs": [],
   "source": [
    "# load the excel\n",
    "r_agg = pd.read_excel('slice_hpo.xlsx')"
   ],
   "metadata": {
    "collapsed": false,
    "ExecuteTime": {
     "end_time": "2024-02-24T16:16:01.979285200Z",
     "start_time": "2024-02-24T16:16:01.866136Z"
    }
   },
   "id": "e8d2e64f163ad304",
   "execution_count": 46
  },
  {
   "cell_type": "code",
   "outputs": [],
   "source": [
    "# filter the dataframe on the best model for each ROI and stage\n",
    "r_agg = r_agg.loc[r_agg.groupby(['ROI', 'stage'])['correlation_score'].idxmax()]"
   ],
   "metadata": {
    "collapsed": false,
    "ExecuteTime": {
     "end_time": "2024-02-24T16:16:02.860644400Z",
     "start_time": "2024-02-24T16:16:02.838126300Z"
    }
   },
   "id": "2463814696c290bd",
   "execution_count": 47
  },
  {
   "cell_type": "code",
   "outputs": [
    {
     "name": "stdout",
     "output_type": "stream",
     "text": [
      "4945164\n"
     ]
    }
   ],
   "source": [
    "# aggregate all files in the \"slice_results_non_aggregated\" folder (results from different server sessions)\n",
    "folder_path = \"slice_results_non_aggregated\"\n",
    "dfs= []\n",
    "\n",
    "# iterate through all files in the folder\n",
    "for filename in os.listdir(folder_path):\n",
    "    filepath = os.path.join(folder_path, filename)\n",
    "    # Check if the path is a file and if it has a .xlsx extension\n",
    "    if os.path.isfile(filepath) and filename.endswith(\".csv\"):\n",
    "        # Read the Excel file into a DataFrame and append it to the list\n",
    "        df = pd.read_csv(filepath)\n",
    "        dfs.append(df)\n",
    "\n",
    "# concatenate dfs\n",
    "results = pd.concat(dfs, ignore_index=True)\n",
    "print(len(results))"
   ],
   "metadata": {
    "collapsed": false,
    "ExecuteTime": {
     "end_time": "2024-02-26T20:37:03.971262200Z",
     "start_time": "2024-02-26T20:37:00.061834200Z"
    }
   },
   "id": "1d5bb4090775768b",
   "execution_count": 133
  },
  {
   "cell_type": "code",
   "outputs": [],
   "source": [
    "# filter the results on the best model for every ROI and layer\n",
    "results = pd.merge(results, r_agg, on=['stage', 'ROI', 'num_hidden_layers', 'learning_rate', 'dropout', 'l2_reg'], how='inner')"
   ],
   "metadata": {
    "collapsed": false,
    "ExecuteTime": {
     "end_time": "2024-02-19T13:50:44.263675Z",
     "start_time": "2024-02-19T13:50:43.190948500Z"
    }
   },
   "id": "8b56fb24a9f2ab75",
   "execution_count": 18
  },
  {
   "cell_type": "code",
   "outputs": [
    {
     "data": {
      "text/plain": "        voxel    stage  ROI    sub  num_hidden_layers  learning_rate  dropout  \\\n0           1  stage_5   WB  sub01                  2         0.0001      0.4   \n1           2  stage_5   WB  sub01                  2         0.0001      0.4   \n2           3  stage_5   WB  sub01                  2         0.0001      0.4   \n3           4  stage_5   WB  sub01                  2         0.0001      0.4   \n4           5  stage_5   WB  sub01                  2         0.0001      0.4   \n...       ...      ...  ...    ...                ...            ...      ...   \n459543     29  stage_5  PPA  sub07                  2         0.0001      0.2   \n459544     30  stage_5  PPA  sub07                  2         0.0001      0.2   \n459545     31  stage_5  PPA  sub07                  2         0.0001      0.2   \n459546     32  stage_5  PPA  sub07                  2         0.0001      0.2   \n459547     33  stage_5  PPA  sub07                  2         0.0001      0.2   \n\n        l2_reg  correlation_score  correlation_score_total  \n0       0.0001           0.038696                 0.087514  \n1       0.0001           0.083954                 0.087514  \n2       0.0001           0.245570                 0.087514  \n3       0.0001           0.031497                 0.087514  \n4       0.0001           0.060791                 0.087514  \n...        ...                ...                      ...  \n459543  0.0010           0.011449                 0.146699  \n459544  0.0010           0.063641                 0.146699  \n459545  0.0010           0.082361                 0.146699  \n459546  0.0010          -0.009263                 0.146699  \n459547  0.0010           0.052069                 0.146699  \n\n[459548 rows x 10 columns]",
      "text/html": "<div>\n<style scoped>\n    .dataframe tbody tr th:only-of-type {\n        vertical-align: middle;\n    }\n\n    .dataframe tbody tr th {\n        vertical-align: top;\n    }\n\n    .dataframe thead th {\n        text-align: right;\n    }\n</style>\n<table border=\"1\" class=\"dataframe\">\n  <thead>\n    <tr style=\"text-align: right;\">\n      <th></th>\n      <th>voxel</th>\n      <th>stage</th>\n      <th>ROI</th>\n      <th>sub</th>\n      <th>num_hidden_layers</th>\n      <th>learning_rate</th>\n      <th>dropout</th>\n      <th>l2_reg</th>\n      <th>correlation_score</th>\n      <th>correlation_score_total</th>\n    </tr>\n  </thead>\n  <tbody>\n    <tr>\n      <th>0</th>\n      <td>1</td>\n      <td>stage_5</td>\n      <td>WB</td>\n      <td>sub01</td>\n      <td>2</td>\n      <td>0.0001</td>\n      <td>0.4</td>\n      <td>0.0001</td>\n      <td>0.038696</td>\n      <td>0.087514</td>\n    </tr>\n    <tr>\n      <th>1</th>\n      <td>2</td>\n      <td>stage_5</td>\n      <td>WB</td>\n      <td>sub01</td>\n      <td>2</td>\n      <td>0.0001</td>\n      <td>0.4</td>\n      <td>0.0001</td>\n      <td>0.083954</td>\n      <td>0.087514</td>\n    </tr>\n    <tr>\n      <th>2</th>\n      <td>3</td>\n      <td>stage_5</td>\n      <td>WB</td>\n      <td>sub01</td>\n      <td>2</td>\n      <td>0.0001</td>\n      <td>0.4</td>\n      <td>0.0001</td>\n      <td>0.245570</td>\n      <td>0.087514</td>\n    </tr>\n    <tr>\n      <th>3</th>\n      <td>4</td>\n      <td>stage_5</td>\n      <td>WB</td>\n      <td>sub01</td>\n      <td>2</td>\n      <td>0.0001</td>\n      <td>0.4</td>\n      <td>0.0001</td>\n      <td>0.031497</td>\n      <td>0.087514</td>\n    </tr>\n    <tr>\n      <th>4</th>\n      <td>5</td>\n      <td>stage_5</td>\n      <td>WB</td>\n      <td>sub01</td>\n      <td>2</td>\n      <td>0.0001</td>\n      <td>0.4</td>\n      <td>0.0001</td>\n      <td>0.060791</td>\n      <td>0.087514</td>\n    </tr>\n    <tr>\n      <th>...</th>\n      <td>...</td>\n      <td>...</td>\n      <td>...</td>\n      <td>...</td>\n      <td>...</td>\n      <td>...</td>\n      <td>...</td>\n      <td>...</td>\n      <td>...</td>\n      <td>...</td>\n    </tr>\n    <tr>\n      <th>459543</th>\n      <td>29</td>\n      <td>stage_5</td>\n      <td>PPA</td>\n      <td>sub07</td>\n      <td>2</td>\n      <td>0.0001</td>\n      <td>0.2</td>\n      <td>0.0010</td>\n      <td>0.011449</td>\n      <td>0.146699</td>\n    </tr>\n    <tr>\n      <th>459544</th>\n      <td>30</td>\n      <td>stage_5</td>\n      <td>PPA</td>\n      <td>sub07</td>\n      <td>2</td>\n      <td>0.0001</td>\n      <td>0.2</td>\n      <td>0.0010</td>\n      <td>0.063641</td>\n      <td>0.146699</td>\n    </tr>\n    <tr>\n      <th>459545</th>\n      <td>31</td>\n      <td>stage_5</td>\n      <td>PPA</td>\n      <td>sub07</td>\n      <td>2</td>\n      <td>0.0001</td>\n      <td>0.2</td>\n      <td>0.0010</td>\n      <td>0.082361</td>\n      <td>0.146699</td>\n    </tr>\n    <tr>\n      <th>459546</th>\n      <td>32</td>\n      <td>stage_5</td>\n      <td>PPA</td>\n      <td>sub07</td>\n      <td>2</td>\n      <td>0.0001</td>\n      <td>0.2</td>\n      <td>0.0010</td>\n      <td>-0.009263</td>\n      <td>0.146699</td>\n    </tr>\n    <tr>\n      <th>459547</th>\n      <td>33</td>\n      <td>stage_5</td>\n      <td>PPA</td>\n      <td>sub07</td>\n      <td>2</td>\n      <td>0.0001</td>\n      <td>0.2</td>\n      <td>0.0010</td>\n      <td>0.052069</td>\n      <td>0.146699</td>\n    </tr>\n  </tbody>\n</table>\n<p>459548 rows × 10 columns</p>\n</div>"
     },
     "execution_count": 20,
     "metadata": {},
     "output_type": "execute_result"
    }
   ],
   "source": [
    "results = results.rename(columns={\"correlation_score_x\": \"correlation_score\", \"correlation_score_y\": \"correlation_score_total\"})\n",
    "results"
   ],
   "metadata": {
    "collapsed": false,
    "ExecuteTime": {
     "end_time": "2024-02-19T13:51:23.780041300Z",
     "start_time": "2024-02-19T13:51:23.758860500Z"
    }
   },
   "id": "b03118196558c3d1",
   "execution_count": 20
  },
  {
   "cell_type": "code",
   "outputs": [],
   "source": [
    "# get scores for each ROI - aggregate ROIs per subject\n",
    "r_agg_roi = r_agg[~(r_agg[\"ROI\"] == \"WB\")]"
   ],
   "metadata": {
    "collapsed": false,
    "ExecuteTime": {
     "end_time": "2024-02-19T13:55:14.273457300Z",
     "start_time": "2024-02-19T13:55:14.265527300Z"
    }
   },
   "id": "d41278586695e872",
   "execution_count": 22
  },
  {
   "cell_type": "code",
   "outputs": [],
   "source": [
    "# retrieve the scores for the ROIs from the WB model\n",
    "r_wb = []\n",
    "# Iterate over unique stages\n",
    "for stage in results['stage'].unique():\n",
    "    # Filter results for the given stage and ROI 'WB'\n",
    "    filtered_df = results[(results['stage'] == stage) & (results['ROI'] == 'WB')]\n",
    "    # Iterate over the list of ROIs\n",
    "    for roi in [\"V1\", \"V2\", \"V3\", \"V4\", \"LOC\", \"EBA\", \"FFA\", \"STS\", \"PPA\"]:\n",
    "        # Iterate over unique subjects\n",
    "        for sub in filtered_df['sub'].unique():\n",
    "            voxel_path = f\"roi_maps/{sub}/{roi}_indices.npy\"\n",
    "            if os.path.exists(voxel_path):\n",
    "                voxels = np.load(voxel_path)\n",
    "                filtered_df_sub = filtered_df[(filtered_df[\"sub\"] == sub) & (filtered_df['voxel'].isin(voxels))]\n",
    "                avg_correlation_score = filtered_df_sub['correlation_score'].mean()\n",
    "                # Append the result to the list\n",
    "                r_wb.append({\n",
    "                    'stage': stage,\n",
    "                    'ROI': roi,\n",
    "                    'sub': sub,\n",
    "                    'correlation_score': avg_correlation_score\n",
    "                })\n",
    "            else:\n",
    "                print(f\"Error: File not found at {voxel_path}\")"
   ],
   "metadata": {
    "collapsed": false,
    "ExecuteTime": {
     "end_time": "2024-02-19T15:01:54.428610800Z",
     "start_time": "2024-02-19T15:01:52.548606600Z"
    }
   },
   "id": "f01e1188c2f9df56",
   "execution_count": 33
  },
  {
   "cell_type": "code",
   "outputs": [],
   "source": [
    "r_wb = pd.DataFrame(r_wb)\n",
    "# group over subs\n",
    "agg_results = results.groupby(['stage', 'ROI'])['correlation_score'].mean().reset_index()\n",
    "\n",
    "# Join aggregated correlation scores to r_agg_roi\n",
    "r_agg_overview = pd.merge(r_agg_roi, agg_results, on=['stage', 'ROI'], how='left')\n",
    "r_agg_overview = r_agg_overview.rename(columns={\"correlation_score_x\": \"correlation_score_ROI_model\",\n",
    "                                                \"correlation_score_y\": \"correlation_score_WB_model\"})\n",
    "\n",
    "# # analysis was finalized in excel\n",
    "r_agg_overview.to_excel(\"correlation_score_comparison.xlsx\")"
   ],
   "metadata": {
    "collapsed": false,
    "ExecuteTime": {
     "end_time": "2024-02-19T15:08:05.968769800Z",
     "start_time": "2024-02-19T15:08:05.891303Z"
    }
   },
   "id": "8496d528f28b51d0",
   "execution_count": 39
  },
  {
   "cell_type": "code",
   "outputs": [],
   "source": [
    "# results variance over subjects\n",
    "r_wb.to_excel(\"results_per_subject.xlsx\")"
   ],
   "metadata": {
    "collapsed": false,
    "ExecuteTime": {
     "end_time": "2024-02-24T16:04:47.536805800Z",
     "start_time": "2024-02-24T16:04:47.492177900Z"
    }
   },
   "id": "b65f08b720702bd3",
   "execution_count": 42
  },
  {
   "cell_type": "markdown",
   "source": [
    "### WB results by subject"
   ],
   "metadata": {
    "collapsed": false
   },
   "id": "dd7df6035888f1bd"
  },
  {
   "cell_type": "code",
   "outputs": [],
   "source": [
    "results = pd.read_csv(\"test_results_best_models.csv\")"
   ],
   "metadata": {
    "collapsed": false,
    "ExecuteTime": {
     "end_time": "2024-02-28T08:13:03.999304Z",
     "start_time": "2024-02-28T08:13:03.881233Z"
    }
   },
   "id": "af72f3d570a4e58",
   "execution_count": 9
  },
  {
   "cell_type": "code",
   "outputs": [],
   "source": [
    "results_wb = results[results[\"ROI\"] == \"WB\"]"
   ],
   "metadata": {
    "collapsed": false,
    "ExecuteTime": {
     "end_time": "2024-02-28T08:13:04.090641Z",
     "start_time": "2024-02-28T08:13:04.068716Z"
    }
   },
   "id": "d9b797561415c708",
   "execution_count": 10
  },
  {
   "cell_type": "code",
   "outputs": [
    {
     "data": {
      "text/plain": "       correlation_score\nsub                     \nsub01           0.102095\nsub02           0.112156\nsub03           0.080866\nsub04           0.085402\nsub05           0.095312\nsub06           0.072887\nsub07           0.046896\nsub08           0.125918\nsub09           0.077751\nsub10           0.118798",
      "text/html": "<div>\n<style scoped>\n    .dataframe tbody tr th:only-of-type {\n        vertical-align: middle;\n    }\n\n    .dataframe tbody tr th {\n        vertical-align: top;\n    }\n\n    .dataframe thead th {\n        text-align: right;\n    }\n</style>\n<table border=\"1\" class=\"dataframe\">\n  <thead>\n    <tr style=\"text-align: right;\">\n      <th></th>\n      <th>correlation_score</th>\n    </tr>\n    <tr>\n      <th>sub</th>\n      <th></th>\n    </tr>\n  </thead>\n  <tbody>\n    <tr>\n      <th>sub01</th>\n      <td>0.102095</td>\n    </tr>\n    <tr>\n      <th>sub02</th>\n      <td>0.112156</td>\n    </tr>\n    <tr>\n      <th>sub03</th>\n      <td>0.080866</td>\n    </tr>\n    <tr>\n      <th>sub04</th>\n      <td>0.085402</td>\n    </tr>\n    <tr>\n      <th>sub05</th>\n      <td>0.095312</td>\n    </tr>\n    <tr>\n      <th>sub06</th>\n      <td>0.072887</td>\n    </tr>\n    <tr>\n      <th>sub07</th>\n      <td>0.046896</td>\n    </tr>\n    <tr>\n      <th>sub08</th>\n      <td>0.125918</td>\n    </tr>\n    <tr>\n      <th>sub09</th>\n      <td>0.077751</td>\n    </tr>\n    <tr>\n      <th>sub10</th>\n      <td>0.118798</td>\n    </tr>\n  </tbody>\n</table>\n</div>"
     },
     "execution_count": 11,
     "metadata": {},
     "output_type": "execute_result"
    }
   ],
   "source": [
    "# # best model\n",
    "# results_wb = results_wb[(results_wb['stage'] == 'stage_5') &\n",
    "#                                   (results_wb['num_hidden_layers'] == 1) &\n",
    "#                                   (results_wb['dropout'] == 0.4) &\n",
    "#                                   (results_wb['l2_reg'] == 0.0001)]\n",
    "\n",
    "# group results per subject\n",
    "results_wb = results_wb.groupby(\"sub\").agg({\"correlation_score\": \"mean\"})\n",
    "results_wb"
   ],
   "metadata": {
    "collapsed": false,
    "ExecuteTime": {
     "end_time": "2024-02-28T08:13:05.521713Z",
     "start_time": "2024-02-28T08:13:05.475079Z"
    }
   },
   "id": "32dbcadd64dc27f5",
   "execution_count": 11
  },
  {
   "cell_type": "code",
   "outputs": [
    {
     "data": {
      "text/plain": "0.09180806761249095"
     },
     "execution_count": 12,
     "metadata": {},
     "output_type": "execute_result"
    }
   ],
   "source": [
    "results_wb[\"correlation_score\"].mean()"
   ],
   "metadata": {
    "collapsed": false,
    "ExecuteTime": {
     "end_time": "2024-02-28T08:13:59.565613Z",
     "start_time": "2024-02-28T08:13:59.560471Z"
    }
   },
   "id": "b7b995342094430e",
   "execution_count": 12
  },
  {
   "cell_type": "markdown",
   "source": [
    "### Distribution of Voxel Prediction Scores"
   ],
   "metadata": {
    "collapsed": false
   },
   "id": "e11e2944e8519b8b"
  },
  {
   "cell_type": "code",
   "outputs": [],
   "source": [
    "results = pd.read_csv(\"test_results_best_models.csv\")"
   ],
   "metadata": {
    "collapsed": false,
    "ExecuteTime": {
     "end_time": "2024-02-28T08:35:42.396359Z",
     "start_time": "2024-02-28T08:35:42.296201Z"
    }
   },
   "id": "20ed6969ebbbf8f2",
   "execution_count": 16
  },
  {
   "cell_type": "code",
   "outputs": [],
   "source": [
    "results_wb = results[results[\"ROI\"] == \"WB\"]"
   ],
   "metadata": {
    "collapsed": false,
    "ExecuteTime": {
     "end_time": "2024-02-28T08:35:42.692794Z",
     "start_time": "2024-02-28T08:35:42.672447Z"
    }
   },
   "id": "e8b002864a84cb7b",
   "execution_count": 17
  },
  {
   "cell_type": "code",
   "outputs": [
    {
     "name": "stdout",
     "output_type": "stream",
     "text": [
      "3859\n",
      "3143\n",
      "3155\n",
      "3068\n",
      "2975\n",
      "3076\n",
      "2033\n",
      "2764\n",
      "3265\n",
      "2285\n"
     ]
    }
   ],
   "source": [
    "def check_if_roi(row):\n",
    "    if row[\"sub\"] == sub:  # Check if the current row's subject matches the loop's subject\n",
    "        return 1 if (row[\"voxel\"] in all_roi_voxels and row[\"is_roi\"] == 0) else row[\"is_roi\"]\n",
    "    else:\n",
    "        return row[\"is_roi\"]\n",
    "# find if voxel is ROI or not\n",
    "results_wb[\"is_roi\"] = 0\n",
    "for sub in results_wb[\"sub\"].unique():\n",
    "    all_roi_voxels = np.empty(0)\n",
    "    for roi in [\"V1\", \"V2\", \"V3\", \"V4\", \"LOC\", \"EBA\", \"FFA\", \"STS\", \"PPA\"]:\n",
    "        voxel_path = f\"roi_maps/{sub}/{roi}_indices.npy\"\n",
    "        voxels = np.load(voxel_path)\n",
    "        all_roi_voxels = np.concatenate((all_roi_voxels, voxels))\n",
    "    print(len(all_roi_voxels))\n",
    "    results_wb[\"is_roi\"] = results_wb.apply(check_if_roi, axis=1)"
   ],
   "metadata": {
    "collapsed": false,
    "ExecuteTime": {
     "end_time": "2024-02-28T08:35:52.907248Z",
     "start_time": "2024-02-28T08:35:43.169581Z"
    }
   },
   "id": "2b44a5df4476701e",
   "execution_count": 18
  },
  {
   "cell_type": "code",
   "outputs": [
    {
     "data": {
      "text/plain": "is_roi\n0    131703\n1     29623\nName: count, dtype: int64"
     },
     "execution_count": 19,
     "metadata": {},
     "output_type": "execute_result"
    }
   ],
   "source": [
    "results_wb[\"is_roi\"].value_counts()"
   ],
   "metadata": {
    "collapsed": false,
    "ExecuteTime": {
     "end_time": "2024-02-28T08:35:52.919574Z",
     "start_time": "2024-02-28T08:35:52.908390Z"
    }
   },
   "id": "228861be437fe72f",
   "execution_count": 19
  },
  {
   "cell_type": "code",
   "outputs": [
    {
     "name": "stdout",
     "output_type": "stream",
     "text": [
      "0.16765346288652802\n",
      "0.07508313503519036\n"
     ]
    },
    {
     "data": {
      "text/plain": "<Figure size 1000x600 with 1 Axes>",
      "image/png": "[encoded data removed]"
     },
     "metadata": {},
     "output_type": "display_data"
    }
   ],
   "source": [
    "import matplotlib.pyplot as plt\n",
    "import seaborn as sns\n",
    "\n",
    "roi_data = results_wb[results_wb['is_roi'] == 1]['correlation_score']\n",
    "print(roi_data.mean())\n",
    "non_roi_data = results_wb[results_wb['is_roi'] == 0]['correlation_score']\n",
    "print(non_roi_data.mean())\n",
    "\n",
    "\n",
    "plt.figure(figsize=(10, 6))\n",
    "sns.histplot(roi_data, color='blue', label='ROI voxels', kde=True, stat=\"count\", linewidth=0)\n",
    "sns.histplot(non_roi_data, color='red', label='no ROI voxels', kde=True, stat=\"count\", linewidth=0)\n",
    "plt.xlabel('Correlation Score')\n",
    "plt.ylabel('Count')\n",
    "plt.legend()\n",
    "\n",
    "# save\n",
    "plt.savefig('correlation_scores_distribution.png')\n",
    "\n",
    "# plot\n",
    "plt.show()"
   ],
   "metadata": {
    "collapsed": false,
    "ExecuteTime": {
     "end_time": "2024-02-28T08:35:54.947521Z",
     "start_time": "2024-02-28T08:35:52.920686Z"
    }
   },
   "id": "b5e3c053a32b9d06",
   "execution_count": 20
  },
  {
   "cell_type": "code",
   "outputs": [],
   "source": [],
   "metadata": {
    "collapsed": false
   },
   "id": "6100cc40d40b5c84"
  }
 ],
 "metadata": {
  "kernelspec": {
   "display_name": "Python 3",
   "language": "python",
   "name": "python3"
  },
  "language_info": {
   "codemirror_mode": {
    "name": "ipython",
    "version": 2
   },
   "file_extension": ".py",
   "mimetype": "text/x-python",
   "name": "python",
   "nbconvert_exporter": "python",
   "pygments_lexer": "ipython2",
   "version": "2.7.6"
  }
 },
 "nbformat": 4,
 "nbformat_minor": 5
}
