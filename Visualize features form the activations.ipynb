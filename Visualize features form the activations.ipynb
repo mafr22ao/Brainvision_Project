{
 "cells": [
  {
   "cell_type": "code",
   "execution_count": 63,
   "outputs": [
    {
     "name": "stdout",
     "output_type": "stream",
     "text": [
      "[0.19799384 0.00854491 0.2050874  0.11829776 0.10109706 0.07546824\n",
      " 0.08697619 0.13541684 0.18199717 0.14084454 0.13298084 0.05878827\n",
      " 0.04483781 0.01490873 0.10577372 0.         0.32638314 0.03376349\n",
      " 0.264885   0.17267556 0.10108141 0.07321033 0.16575208 0.24017182\n",
      " 0.16923407 0.15588936 0.23445663 0.1839484  0.24179134 0.01990126\n",
      " 0.16474321 0.03215045 0.05497479 0.15121904 0.1262584  0.0598501\n",
      " 0.06522013 0.12667713 0.09172568 0.10786588 0.17080817 0.323608\n",
      " 0.1716373  0.1766457  0.1277792  0.02592631 0.06994322 0.00473828\n",
      " 0.11497904 0.         0.17060745 0.05865172 0.08754051 0.14331216\n",
      " 0.14811894 0.05541131 0.18654314 0.06797893 0.09991335 0.0677651\n",
      " 0.07718837 0.01674293 0.26912782 0.0186559  0.5603399  0.10123856\n",
      " 0.29983133 0.11401799 0.28904277 0.09196613 0.11514705 0.22366242\n",
      " 0.2428233  0.38819644 0.35092244 0.14876063 0.05664894 0.12722111\n",
      " 0.16453847 0.14115487 0.28106982 0.02999927 0.21421745 0.1033318\n",
      " 0.14086807 0.08622567 0.12209273 0.12619509 0.14477907 0.5038858\n",
      " 0.16841295 0.06388381 0.1373498  0.11370935 0.38220504 0.07093124\n",
      " 0.30996674 0.13475865 0.34657636 0.21251479 0.20763199 0.168876\n",
      " 0.16230653 0.24734214 0.15022537 0.20096299 0.25836954 0.19931087\n",
      " 0.1593744  0.1517163  0.33211276 0.02156385 0.28265673 0.09670764\n",
      " 0.24856077 0.21684983 0.16105519 0.2342519  0.1255026  0.19304572\n",
      " 0.2355333  0.22662017 0.2249431  0.24922964 0.1633518  0.06044983\n",
      " 0.23576501 0.17345482 0.4976136  0.08014828 0.28647208 0.0657938\n",
      " 0.17952956 0.2938769  0.14419505 0.20037618 0.10510966 0.16400583\n",
      " 0.22346155 0.24712501 0.16897234 0.10655902 0.22304115 0.12127793\n",
      " 0.32467878 0.08717611 0.24883732 0.15961978 0.2106133  0.20945886\n",
      " 0.22467463 0.09014703 0.04226827 0.08932137 0.13492239 0.21471143\n",
      " 0.2197112  0.15759853 0.2350257  0.11828877 0.23641312 0.11144195\n",
      " 0.2077522  0.11784723 0.55411726 0.34372628 0.18031248 0.11245661\n",
      " 0.03038885 0.37295443 0.3876114  0.5605213  0.16439739 0.09943579\n",
      " 0.20876113 0.08125803 0.20771427 0.06244089 0.21993858 0.18520118\n",
      " 0.2502761  0.11640155 0.20247053 0.20467621 0.38672423 0.3645187\n",
      " 0.12693116 0.31660426 0.13960588 0.02936124 0.28884557 0.07874045\n",
      " 0.41841292 0.14849178 0.33058393 0.22408985 0.49000618 0.2512523\n",
      " 0.22030096 0.23451337]\n"
     ]
    }
   ],
   "source": [
    "import numpy as np\n",
    "import matplotlib.pyplot as plt\n",
    "\n",
    "# Load the NPZ file\n",
    "data = np.load(r\"C:\\Users\\andre\\OneDrive\\Documents\\GitHub\\Brainvision_Project\\Motion_files\\activation_layers_data\\0001_flow_layer_slow_pathway_3.npy\")\n",
    "\n",
    "print(data[:200])  "
   ],
   "metadata": {
    "collapsed": false,
    "ExecuteTime": {
     "end_time": "2023-11-29T15:30:49.576072400Z",
     "start_time": "2023-11-29T15:30:49.561479500Z"
    }
   },
   "id": "617ac0e10b458c47"
  },
  {
   "cell_type": "code",
   "execution_count": 64,
   "outputs": [
    {
     "data": {
      "text/plain": "(262144,)"
     },
     "execution_count": 64,
     "metadata": {},
     "output_type": "execute_result"
    }
   ],
   "source": [
    "data.shape"
   ],
   "metadata": {
    "collapsed": false,
    "ExecuteTime": {
     "end_time": "2023-11-29T15:30:51.691370Z",
     "start_time": "2023-11-29T15:30:51.688253500Z"
    }
   },
   "id": "48ddeaad037b4708"
  },
  {
   "cell_type": "code",
   "execution_count": 65,
   "outputs": [
    {
     "ename": "ValueError",
     "evalue": "not enough values to unpack (expected 2, got 1)",
     "output_type": "error",
     "traceback": [
      "\u001B[1;31m---------------------------------------------------------------------------\u001B[0m",
      "\u001B[1;31mValueError\u001B[0m                                Traceback (most recent call last)",
      "Cell \u001B[1;32mIn[65], line 2\u001B[0m\n\u001B[0;32m      1\u001B[0m \u001B[38;5;66;03m# Create a heatmap-like plot using matshow\u001B[39;00m\n\u001B[1;32m----> 2\u001B[0m \u001B[43mplt\u001B[49m\u001B[38;5;241;43m.\u001B[39;49m\u001B[43mmatshow\u001B[49m\u001B[43m(\u001B[49m\u001B[43mdata\u001B[49m\u001B[43m,\u001B[49m\u001B[43m \u001B[49m\u001B[43mcmap\u001B[49m\u001B[38;5;241;43m=\u001B[39;49m\u001B[38;5;124;43m'\u001B[39;49m\u001B[38;5;124;43mviridis\u001B[39;49m\u001B[38;5;124;43m'\u001B[39;49m\u001B[43m)\u001B[49m  \u001B[38;5;66;03m# You can choose a colormap (e.g., 'viridis')\u001B[39;00m\n\u001B[0;32m      3\u001B[0m plt\u001B[38;5;241m.\u001B[39mcolorbar(label\u001B[38;5;241m=\u001B[39m\u001B[38;5;124m'\u001B[39m\u001B[38;5;124mColorbar Label\u001B[39m\u001B[38;5;124m'\u001B[39m)  \u001B[38;5;66;03m# Add a colorbar with a label\u001B[39;00m\n\u001B[0;32m      5\u001B[0m \u001B[38;5;66;03m# Customize plot labels, title, and other settings\u001B[39;00m\n",
      "File \u001B[1;32mC:\\venv39\\lib\\site-packages\\matplotlib\\pyplot.py:2441\u001B[0m, in \u001B[0;36mmatshow\u001B[1;34m(A, fignum, **kwargs)\u001B[0m\n\u001B[0;32m   2437\u001B[0m     ax \u001B[38;5;241m=\u001B[39m gca()\n\u001B[0;32m   2438\u001B[0m \u001B[38;5;28;01melse\u001B[39;00m:\n\u001B[0;32m   2439\u001B[0m     \u001B[38;5;66;03m# Extract actual aspect ratio of array and make appropriately sized\u001B[39;00m\n\u001B[0;32m   2440\u001B[0m     \u001B[38;5;66;03m# figure.\u001B[39;00m\n\u001B[1;32m-> 2441\u001B[0m     fig \u001B[38;5;241m=\u001B[39m figure(fignum, figsize\u001B[38;5;241m=\u001B[39m\u001B[43mfigaspect\u001B[49m\u001B[43m(\u001B[49m\u001B[43mA\u001B[49m\u001B[43m)\u001B[49m)\n\u001B[0;32m   2442\u001B[0m     ax \u001B[38;5;241m=\u001B[39m fig\u001B[38;5;241m.\u001B[39madd_axes((\u001B[38;5;241m0.15\u001B[39m, \u001B[38;5;241m0.09\u001B[39m, \u001B[38;5;241m0.775\u001B[39m, \u001B[38;5;241m0.775\u001B[39m))\n\u001B[0;32m   2443\u001B[0m im \u001B[38;5;241m=\u001B[39m ax\u001B[38;5;241m.\u001B[39mmatshow(A, \u001B[38;5;241m*\u001B[39m\u001B[38;5;241m*\u001B[39mkwargs)\n",
      "File \u001B[1;32mC:\\venv39\\lib\\site-packages\\matplotlib\\figure.py:3606\u001B[0m, in \u001B[0;36mfigaspect\u001B[1;34m(arg)\u001B[0m\n\u001B[0;32m   3604\u001B[0m \u001B[38;5;66;03m# Extract the aspect ratio of the array\u001B[39;00m\n\u001B[0;32m   3605\u001B[0m \u001B[38;5;28;01mif\u001B[39;00m isarray:\n\u001B[1;32m-> 3606\u001B[0m     nr, nc \u001B[38;5;241m=\u001B[39m arg\u001B[38;5;241m.\u001B[39mshape[:\u001B[38;5;241m2\u001B[39m]\n\u001B[0;32m   3607\u001B[0m     arr_ratio \u001B[38;5;241m=\u001B[39m nr \u001B[38;5;241m/\u001B[39m nc\n\u001B[0;32m   3608\u001B[0m \u001B[38;5;28;01melse\u001B[39;00m:\n",
      "\u001B[1;31mValueError\u001B[0m: not enough values to unpack (expected 2, got 1)"
     ]
    }
   ],
   "source": [
    "# Create a heatmap-like plot using matshow\n",
    "plt.matshow(data, cmap='viridis')  # You can choose a colormap (e.g., 'viridis')\n",
    "plt.colorbar(label='Colorbar Label')  # Add a colorbar with a label\n",
    "\n",
    "# Customize plot labels, title, and other settings\n",
    "plt.xlabel('X-axis Label')\n",
    "plt.ylabel('Y-axis Label')\n",
    "plt.title('Matshow Plot')\n",
    "plt.grid(False)  # Turn off grid lines if desired\n",
    "\n",
    "# Show the plot\n",
    "plt.show()"
   ],
   "metadata": {
    "collapsed": false,
    "ExecuteTime": {
     "end_time": "2023-11-29T15:30:52.398330600Z",
     "start_time": "2023-11-29T15:30:52.364294600Z"
    }
   },
   "id": "9d05d11accc46a3d"
  },
  {
   "cell_type": "code",
   "execution_count": null,
   "outputs": [],
   "source": [],
   "metadata": {
    "collapsed": false
   },
   "id": "bf42b4d9bad2afa0"
  }
 ],
 "metadata": {
  "kernelspec": {
   "display_name": "Python 3",
   "language": "python",
   "name": "python3"
  },
  "language_info": {
   "codemirror_mode": {
    "name": "ipython",
    "version": 2
   },
   "file_extension": ".py",
   "mimetype": "text/x-python",
   "name": "python",
   "nbconvert_exporter": "python",
   "pygments_lexer": "ipython2",
   "version": "2.7.6"
  }
 },
 "nbformat": 4,
 "nbformat_minor": 5
}
