{
 "cells": [
  {
   "cell_type": "markdown",
   "source": [
    "Channel PCA captures most significant patterns across frames for each channel, potentially highlighting the most prominent changes or features in the video content for that specific channel.\n",
    "**Do we want that or are there better ways to capture spatial features per frame?**"
   ],
   "metadata": {
    "collapsed": false
   },
   "id": "fb579d9c64e8fbff"
  },
  {
   "cell_type": "code",
   "execution_count": 76,
   "outputs": [],
   "source": [
    "import os\n",
    "import pickle\n",
    "import numpy as np\n",
    "from sklearn.preprocessing import StandardScaler\n",
    "from sklearn.decomposition import PCA\n",
    "from tqdm import tqdm"
   ],
   "metadata": {
    "collapsed": false,
    "ExecuteTime": {
     "end_time": "2023-12-22T13:00:54.541902600Z",
     "start_time": "2023-12-22T13:00:54.535218700Z"
    }
   },
   "id": "9faca7027604e2"
  },
  {
   "cell_type": "code",
   "execution_count": 77,
   "outputs": [
    {
     "name": "stdout",
     "output_type": "stream",
     "text": [
      "Repository Root: C:\\Users\\marce\\PycharmProjects\\Brainvision_Project\n"
     ]
    }
   ],
   "source": [
    "def find_repo_root(path='.'):\n",
    "    path = os.path.abspath(path)\n",
    "    while not os.path.isdir(os.path.join(path, '.git')):\n",
    "        parent = os.path.dirname(path)\n",
    "        if parent == path:\n",
    "            # We've reached the root of the file system without finding '.git'\n",
    "            return None\n",
    "        path = parent\n",
    "    return path\n",
    "\n",
    "repo_root = find_repo_root()\n",
    "print(\"Repository Root:\", repo_root)"
   ],
   "metadata": {
    "collapsed": false,
    "ExecuteTime": {
     "end_time": "2023-12-22T13:00:55.226552300Z",
     "start_time": "2023-12-22T13:00:55.221598Z"
    }
   },
   "id": "e55940dce8be960b"
  },
  {
   "cell_type": "code",
   "execution_count": 78,
   "outputs": [],
   "source": [
    "def get_full_path(relative_path, repo_root):\n",
    "    if not repo_root:\n",
    "        raise ValueError(\"Repository root not found. Ensure you're inside a Git repository.\")\n",
    "\n",
    "    return os.path.join(repo_root, relative_path)\n"
   ],
   "metadata": {
    "collapsed": false,
    "ExecuteTime": {
     "end_time": "2023-12-22T13:00:55.921143800Z",
     "start_time": "2023-12-22T13:00:55.919630Z"
    }
   },
   "id": "295ff56dbac193c4"
  },
  {
   "cell_type": "code",
   "execution_count": 84,
   "outputs": [],
   "source": [
    "# step 1 function\n",
    "def load_and_combine_tensors(stage_name, input_folder, num_videos):\n",
    "    combined_tensor = []\n",
    "    video_indices = {}\n",
    "\n",
    "    for video_id in range(1, num_videos + 1):\n",
    "        filename = f\"{str(video_id).zfill(4)}_{stage_name}.pkl\"\n",
    "        file_path = os.path.join(input_folder, stage_name, filename)\n",
    "\n",
    "        if os.path.exists(file_path):\n",
    "            #print(f\"Loading tensor from: {file_path}\")\n",
    "            with open(file_path, 'rb') as file:\n",
    "                tensor = pickle.load(file)\n",
    "                combined_tensor.append(tensor)\n",
    "                # Track start and end indices for each video\n",
    "                end_index = sum(t.shape[0] for t in combined_tensor)\n",
    "                video_indices[str(video_id).zfill(4)] = (end_index - tensor.shape[0], end_index)\n",
    "\n",
    "    if not combined_tensor:\n",
    "        print(\"No tensors found to combine.\")\n",
    "        return None, None\n",
    "\n",
    "    combined_tensor = np.concatenate(combined_tensor, axis=0)\n",
    "    print(combined_tensor.shape)\n",
    "    return combined_tensor, video_indices\n"
   ],
   "metadata": {
    "collapsed": false,
    "ExecuteTime": {
     "end_time": "2023-12-22T13:04:39.243272800Z",
     "start_time": "2023-12-22T13:04:39.227305400Z"
    }
   },
   "id": "b1d0d16c1636fca7"
  },
  {
   "cell_type": "code",
   "execution_count": 85,
   "outputs": [],
   "source": [
    "# Step 2: globalized standardization (only based on training set)\n",
    "def standardize_tensors(combined_tensor, video_indices, training_end_id='0005'):\n",
    "    reshaped_tensor = combined_tensor.reshape(combined_tensor.shape[0], -1)\n",
    "    scaler = StandardScaler()\n",
    "\n",
    "    # Find the end index of the training set\n",
    "    training_end_index = video_indices[training_end_id][1]\n",
    "\n",
    "    # Fit the scaler only on the training set\n",
    "    scaler.fit(reshaped_tensor[:training_end_index])\n",
    "\n",
    "    # Transform both training and test sets\n",
    "    standardized_data = scaler.transform(reshaped_tensor)\n",
    "    print(standardized_data.reshape(combined_tensor.shape).shape)\n",
    "    return standardized_data.reshape(combined_tensor.shape)"
   ],
   "metadata": {
    "collapsed": false,
    "ExecuteTime": {
     "end_time": "2023-12-22T13:04:39.544230200Z",
     "start_time": "2023-12-22T13:04:39.524070900Z"
    }
   },
   "id": "698222bfb9b8029c"
  },
  {
   "cell_type": "code",
   "execution_count": 86,
   "outputs": [],
   "source": [
    "# Step 3: Separate the standardized tensor back into individual tensors\n",
    "def separate_standardized_tensor(standardized_tensor, video_indices):\n",
    "    separated_tensors = {}\n",
    "    for video_id, (start, end) in video_indices.items():\n",
    "        separated_tensors[video_id] = standardized_tensor[start:end, :]\n",
    "        print(separated_tensors[video_id].shape)\n",
    "    return separated_tensors"
   ],
   "metadata": {
    "collapsed": false,
    "ExecuteTime": {
     "end_time": "2023-12-22T13:04:40.054915100Z",
     "start_time": "2023-12-22T13:04:40.031253Z"
    }
   },
   "id": "bd7243f3621ad841"
  },
  {
   "cell_type": "code",
   "execution_count": 103,
   "outputs": [],
   "source": [
    "# to get same number of PCs for each video: fit PCA on all videos with a given variance threshold. Find max number of components. Fit and transform PCA with max number of components. -> makes sure that variance captured in each video is >= variance_ratio.\n",
    "\n",
    "def apply_fmpca_and_save(separated_tensors, stage_name, output_folder, variance_ratio):\n",
    "    # Assuming 'separated_tensors' is your dictionary with video IDs as keys and feature maps as values\n",
    "    \n",
    "    # Initialize a dictionary to store the final PCA results for each video\n",
    "    final_pca_results = {}\n",
    "    # Determine the spatial dimensions product from the first tensor\n",
    "    first_feature_map = next(iter(separated_tensors.values()))\n",
    "    spatial_dims_product = np.prod(first_feature_map.shape[2:4])  # Assuming spatial dimensions are in 3rd and 4th place\n",
    "    \n",
    "    # Step 1: Determine the maximum number of components needed\n",
    "    max_components = 0\n",
    "    for feature_maps in tqdm(separated_tensors.values(), desc=\"Finding max. number of PCs...\"):\n",
    "\n",
    "        for channel in range(feature_maps.shape[-1]):\n",
    "            pca = PCA(n_components=variance_ratio)\n",
    "            data_for_channel = feature_maps[..., channel].reshape(-1, spatial_dims_product)\n",
    "            pca.fit(data_for_channel)\n",
    "            max_components = max(max_components, pca.n_components_)\n",
    "    \n",
    "    print(f\"Max. number of PCs: {max_components}\")\n",
    "    \n",
    "    # Step 2: Apply PCA with the determined number of components\n",
    "    for video_id, feature_maps in tqdm(separated_tensors.items(), desc=\"Performing PCA...\"):\n",
    "        pca_results = []\n",
    "    \n",
    "        # Loop over each channel\n",
    "        for channel in range(feature_maps.shape[-1]):\n",
    "            # Reshape the data for this channel\n",
    "            data_for_pca = feature_maps[..., channel].reshape(-1, spatial_dims_product)\n",
    "    \n",
    "            # Apply PCA with the maximum number of components\n",
    "            pca = PCA(n_components=max_components)\n",
    "            pca_result = pca.fit_transform(data_for_pca)\n",
    "    \n",
    "            pca_results.append(pca_result)\n",
    "    \n",
    "        # Concatenate the PCA results from all channels for this video\n",
    "        final_result = np.concatenate(pca_results, axis=1)\n",
    "    \n",
    "        # Store the result in the dictionary with the video ID as the key\n",
    "        final_pca_results[video_id] = final_result\n",
    "        print(final_pca_results[video_id].shape)\n",
    "        # final_pca_results now contains the PCA-transformed data for each video\n",
    "        # print(f\"Processed Video ID: {video_id}, Resulting Shape: {final_result.shape}\")\n",
    "    \n",
    "    pca_folder = os.path.join(output_folder, f\"PCA_channel_{variance_ratio}\", stage_name)\n",
    "    if not os.path.exists(pca_folder):\n",
    "        os.makedirs(pca_folder)\n",
    "        \n",
    "    file_path = os.path.join(pca_folder, 'pca_results.pkl')\n",
    "    with open(file_path, 'wb') as f:\n",
    "        pickle.dump(final_pca_results, f)\n",
    "    \n",
    "    print(f\"{stage_name} PCs stored in: {file_path}\")"
   ],
   "metadata": {
    "collapsed": false,
    "ExecuteTime": {
     "end_time": "2023-12-22T13:41:23.778103200Z",
     "start_time": "2023-12-22T13:41:23.774552500Z"
    }
   },
   "id": "28218b83061c622"
  },
  {
   "cell_type": "code",
   "execution_count": 104,
   "id": "273094de-3d09-432e-b631-77f632922d71",
   "metadata": {
    "ExecuteTime": {
     "end_time": "2023-12-22T13:41:24.682772300Z",
     "start_time": "2023-12-22T13:41:24.650598800Z"
    }
   },
   "outputs": [],
   "source": [
    "def process_stage_for_pca(input_folder, output_folder, stage_name, num_components=30):\n",
    "    \"\"\"\n",
    "    Process all videos of a given stage: standardize, apply PCA, and save the PCA-transformed tensors.\n",
    "    Args:\n",
    "    - input_folder: Folder containing the pre-processed videos.\n",
    "    - output_folder: Folder to save PCA results.\n",
    "    - stage_name: Name of the stage to process.\n",
    "    - num_components: Number of PCA components.\n",
    "    Returns:\n",
    "    - DataFrame containing metadata (video ID and variance captured).\n",
    "    \"\"\"\n",
    "     # Use the current working directory or a known absolute path\n",
    "    current_working_directory = os.getcwd()\n",
    "    stage_folder = os.path.join(current_working_directory, input_folder, stage_name)\n",
    "    print(\"Attempting to access:\", stage_folder)\n",
    "\n",
    "    if not os.path.exists(stage_folder):\n",
    "        print(\"Directory not found:\", stage_folder)\n",
    "        return None\n",
    "    # Calculate the number of video files in the folder\n",
    "    num_videos = 5 # len([f for f in os.listdir(stage_folder) if os.path.isfile(os.path.join(stage_folder, f))])\n",
    "    print(f\"Number of videos found: {num_videos}\")\n",
    "\n",
    "    # Step 1: Load and combine tensors\n",
    "    combined_tensor, video_indices = load_and_combine_tensors(stage_name, input_folder, num_videos)\n",
    "    print(\"Step 1 done.\")\n",
    "    # Step 2: Globally standardize the tensor\n",
    "    standardized_tensor = standardize_tensors(combined_tensor, video_indices)\n",
    "    print(\"Step 2 done.\")\n",
    "    # Step 3: Separate the standardized tensor back into individual tensors\n",
    "    separated_tensors = separate_standardized_tensor(standardized_tensor, video_indices)\n",
    "    print(\"Step 3 done.\")\n",
    "    # Step 4: Apply PCA to each tensor and save the result\n",
    "    apply_fmpca_and_save(separated_tensors, stage_name, output_folder, variance_ratio)\n",
    "    print(\"Step 4 done.\")"
   ]
  },
  {
   "cell_type": "code",
   "execution_count": 105,
   "outputs": [
    {
     "name": "stdout",
     "output_type": "stream",
     "text": [
      "C:\\Users\\marce\\PycharmProjects\\Brainvision_Project\n",
      "C:\\Users\\marce\\PycharmProjects\\Brainvision_Project\n"
     ]
    }
   ],
   "source": [
    "print(os.getcwd())\n",
    "print(repo_root)"
   ],
   "metadata": {
    "collapsed": false,
    "ExecuteTime": {
     "end_time": "2023-12-22T13:41:26.628666100Z",
     "start_time": "2023-12-22T13:41:26.612893800Z"
    }
   },
   "id": "38a2182002e8f9b0"
  },
  {
   "cell_type": "code",
   "execution_count": 106,
   "id": "fc8f4a7dfe583730",
   "metadata": {
    "collapsed": false,
    "editable": true,
    "slideshow": {
     "slide_type": ""
    },
    "tags": [],
    "ExecuteTime": {
     "end_time": "2023-12-22T13:44:13.106354900Z",
     "start_time": "2023-12-22T13:41:26.930001700Z"
    }
   },
   "outputs": [
    {
     "name": "stdout",
     "output_type": "stream",
     "text": [
      "Processing stage_1...\n",
      "Attempting to access: C:\\Users\\marce\\PycharmProjects\\Brainvision_Project\\preprocessed_videos_30frames\\stage_1\n",
      "Number of videos found: 5\n",
      "(150, 1, 56, 56, 64)\n",
      "Step 1 done.\n",
      "(150, 1, 56, 56, 64)\n",
      "Step 2 done.\n",
      "(30, 1, 56, 56, 64)\n",
      "(30, 1, 56, 56, 64)\n",
      "(30, 1, 56, 56, 64)\n",
      "(30, 1, 56, 56, 64)\n",
      "(30, 1, 56, 56, 64)\n",
      "Step 3 done.\n"
     ]
    },
    {
     "name": "stderr",
     "output_type": "stream",
     "text": [
      "Finding max. number of PCs...: 100%|██████████| 5/5 [00:04<00:00,  1.07it/s]\n"
     ]
    },
    {
     "name": "stdout",
     "output_type": "stream",
     "text": [
      "Max. number of PCs: 26\n"
     ]
    },
    {
     "name": "stderr",
     "output_type": "stream",
     "text": [
      "Performing PCA...:  20%|██        | 1/5 [00:00<00:03,  1.23it/s]"
     ]
    },
    {
     "name": "stdout",
     "output_type": "stream",
     "text": [
      "(30, 1664)\n"
     ]
    },
    {
     "name": "stderr",
     "output_type": "stream",
     "text": [
      "Performing PCA...:  40%|████      | 2/5 [00:01<00:02,  1.18it/s]"
     ]
    },
    {
     "name": "stdout",
     "output_type": "stream",
     "text": [
      "(30, 1664)\n"
     ]
    },
    {
     "name": "stderr",
     "output_type": "stream",
     "text": [
      "Performing PCA...:  60%|██████    | 3/5 [00:02<00:01,  1.10it/s]"
     ]
    },
    {
     "name": "stdout",
     "output_type": "stream",
     "text": [
      "(30, 1664)\n"
     ]
    },
    {
     "name": "stderr",
     "output_type": "stream",
     "text": [
      "Performing PCA...:  80%|████████  | 4/5 [00:03<00:00,  1.04it/s]"
     ]
    },
    {
     "name": "stdout",
     "output_type": "stream",
     "text": [
      "(30, 1664)\n"
     ]
    },
    {
     "name": "stderr",
     "output_type": "stream",
     "text": [
      "Performing PCA...: 100%|██████████| 5/5 [00:04<00:00,  1.06it/s]"
     ]
    },
    {
     "name": "stdout",
     "output_type": "stream",
     "text": [
      "(30, 1664)\n",
      "stage_1 PCs stored in: C:\\Users\\marce\\PycharmProjects\\Brainvision_Project\\PCA_channel_0.95\\stage_1\\pca_results.pkl\n",
      "Step 4 done.\n",
      "Processing stage_2...\n",
      "Attempting to access: C:\\Users\\marce\\PycharmProjects\\Brainvision_Project\\preprocessed_videos_30frames\\stage_2\n",
      "Number of videos found: 5\n"
     ]
    },
    {
     "name": "stderr",
     "output_type": "stream",
     "text": [
      "\n"
     ]
    },
    {
     "name": "stdout",
     "output_type": "stream",
     "text": [
      "(150, 1, 56, 56, 256)\n",
      "Step 1 done.\n",
      "(150, 1, 56, 56, 256)\n",
      "Step 2 done.\n",
      "(30, 1, 56, 56, 256)\n",
      "(30, 1, 56, 56, 256)\n",
      "(30, 1, 56, 56, 256)\n",
      "(30, 1, 56, 56, 256)\n",
      "(30, 1, 56, 56, 256)\n",
      "Step 3 done.\n"
     ]
    },
    {
     "name": "stderr",
     "output_type": "stream",
     "text": [
      "Finding max. number of PCs...: 100%|██████████| 5/5 [00:19<00:00,  3.96s/it]\n"
     ]
    },
    {
     "name": "stdout",
     "output_type": "stream",
     "text": [
      "Max. number of PCs: 28\n"
     ]
    },
    {
     "name": "stderr",
     "output_type": "stream",
     "text": [
      "Performing PCA...:  20%|██        | 1/5 [00:04<00:16,  4.11s/it]"
     ]
    },
    {
     "name": "stdout",
     "output_type": "stream",
     "text": [
      "(30, 7168)\n"
     ]
    },
    {
     "name": "stderr",
     "output_type": "stream",
     "text": [
      "Performing PCA...:  40%|████      | 2/5 [00:07<00:11,  3.93s/it]"
     ]
    },
    {
     "name": "stdout",
     "output_type": "stream",
     "text": [
      "(30, 7168)\n"
     ]
    },
    {
     "name": "stderr",
     "output_type": "stream",
     "text": [
      "Performing PCA...:  60%|██████    | 3/5 [00:11<00:07,  3.98s/it]"
     ]
    },
    {
     "name": "stdout",
     "output_type": "stream",
     "text": [
      "(30, 7168)\n"
     ]
    },
    {
     "name": "stderr",
     "output_type": "stream",
     "text": [
      "Performing PCA...:  80%|████████  | 4/5 [00:15<00:03,  3.83s/it]"
     ]
    },
    {
     "name": "stdout",
     "output_type": "stream",
     "text": [
      "(30, 7168)\n"
     ]
    },
    {
     "name": "stderr",
     "output_type": "stream",
     "text": [
      "Performing PCA...: 100%|██████████| 5/5 [00:19<00:00,  3.94s/it]"
     ]
    },
    {
     "name": "stdout",
     "output_type": "stream",
     "text": [
      "(30, 7168)\n",
      "stage_2 PCs stored in: C:\\Users\\marce\\PycharmProjects\\Brainvision_Project\\PCA_channel_0.95\\stage_2\\pca_results.pkl\n",
      "Step 4 done.\n",
      "Processing stage_3...\n",
      "Attempting to access: C:\\Users\\marce\\PycharmProjects\\Brainvision_Project\\preprocessed_videos_30frames\\stage_3\n",
      "Number of videos found: 5\n"
     ]
    },
    {
     "name": "stderr",
     "output_type": "stream",
     "text": [
      "\n"
     ]
    },
    {
     "name": "stdout",
     "output_type": "stream",
     "text": [
      "(150, 1, 28, 28, 512)\n",
      "Step 1 done.\n",
      "(150, 1, 28, 28, 512)\n",
      "Step 2 done.\n",
      "(30, 1, 28, 28, 512)\n",
      "(30, 1, 28, 28, 512)\n",
      "(30, 1, 28, 28, 512)\n",
      "(30, 1, 28, 28, 512)\n",
      "(30, 1, 28, 28, 512)\n",
      "Step 3 done.\n"
     ]
    },
    {
     "name": "stderr",
     "output_type": "stream",
     "text": [
      "Finding max. number of PCs...: 100%|██████████| 5/5 [00:34<00:00,  6.90s/it]\n"
     ]
    },
    {
     "name": "stdout",
     "output_type": "stream",
     "text": [
      "Max. number of PCs: 27\n"
     ]
    },
    {
     "name": "stderr",
     "output_type": "stream",
     "text": [
      "Performing PCA...:  20%|██        | 1/5 [00:05<00:23,  5.80s/it]"
     ]
    },
    {
     "name": "stdout",
     "output_type": "stream",
     "text": [
      "(30, 13824)\n"
     ]
    },
    {
     "name": "stderr",
     "output_type": "stream",
     "text": [
      "Performing PCA...:  40%|████      | 2/5 [00:12<00:19,  6.45s/it]"
     ]
    },
    {
     "name": "stdout",
     "output_type": "stream",
     "text": [
      "(30, 13824)\n"
     ]
    },
    {
     "name": "stderr",
     "output_type": "stream",
     "text": [
      "Performing PCA...:  60%|██████    | 3/5 [00:21<00:14,  7.34s/it]"
     ]
    },
    {
     "name": "stdout",
     "output_type": "stream",
     "text": [
      "(30, 13824)\n"
     ]
    },
    {
     "name": "stderr",
     "output_type": "stream",
     "text": [
      "Performing PCA...:  80%|████████  | 4/5 [00:28<00:07,  7.17s/it]"
     ]
    },
    {
     "name": "stdout",
     "output_type": "stream",
     "text": [
      "(30, 13824)\n"
     ]
    },
    {
     "name": "stderr",
     "output_type": "stream",
     "text": [
      "Performing PCA...: 100%|██████████| 5/5 [00:31<00:00,  6.31s/it]"
     ]
    },
    {
     "name": "stdout",
     "output_type": "stream",
     "text": [
      "(30, 13824)\n",
      "stage_3 PCs stored in: C:\\Users\\marce\\PycharmProjects\\Brainvision_Project\\PCA_channel_0.95\\stage_3\\pca_results.pkl\n",
      "Step 4 done.\n",
      "Processing stage_4...\n",
      "Attempting to access: C:\\Users\\marce\\PycharmProjects\\Brainvision_Project\\preprocessed_videos_30frames\\stage_4\n",
      "Number of videos found: 5\n"
     ]
    },
    {
     "name": "stderr",
     "output_type": "stream",
     "text": [
      "\n"
     ]
    },
    {
     "name": "stdout",
     "output_type": "stream",
     "text": [
      "(150, 1, 14, 14, 1024)\n",
      "Step 1 done.\n",
      "(150, 1, 14, 14, 1024)\n",
      "Step 2 done.\n",
      "(30, 1, 14, 14, 1024)\n",
      "(30, 1, 14, 14, 1024)\n",
      "(30, 1, 14, 14, 1024)\n",
      "(30, 1, 14, 14, 1024)\n",
      "(30, 1, 14, 14, 1024)\n",
      "Step 3 done.\n"
     ]
    },
    {
     "name": "stderr",
     "output_type": "stream",
     "text": [
      "Finding max. number of PCs...: 100%|██████████| 5/5 [00:12<00:00,  2.46s/it]\n"
     ]
    },
    {
     "name": "stdout",
     "output_type": "stream",
     "text": [
      "Max. number of PCs: 25\n"
     ]
    },
    {
     "name": "stderr",
     "output_type": "stream",
     "text": [
      "Performing PCA...:  20%|██        | 1/5 [00:02<00:11,  2.83s/it]"
     ]
    },
    {
     "name": "stdout",
     "output_type": "stream",
     "text": [
      "(30, 25600)\n"
     ]
    },
    {
     "name": "stderr",
     "output_type": "stream",
     "text": [
      "Performing PCA...:  40%|████      | 2/5 [00:05<00:08,  2.76s/it]"
     ]
    },
    {
     "name": "stdout",
     "output_type": "stream",
     "text": [
      "(30, 25600)\n"
     ]
    },
    {
     "name": "stderr",
     "output_type": "stream",
     "text": [
      "Performing PCA...:  60%|██████    | 3/5 [00:08<00:05,  2.77s/it]"
     ]
    },
    {
     "name": "stdout",
     "output_type": "stream",
     "text": [
      "(30, 25600)\n"
     ]
    },
    {
     "name": "stderr",
     "output_type": "stream",
     "text": [
      "Performing PCA...:  80%|████████  | 4/5 [00:11<00:03,  3.03s/it]"
     ]
    },
    {
     "name": "stdout",
     "output_type": "stream",
     "text": [
      "(30, 25600)\n"
     ]
    },
    {
     "name": "stderr",
     "output_type": "stream",
     "text": [
      "Performing PCA...: 100%|██████████| 5/5 [00:14<00:00,  2.92s/it]\n"
     ]
    },
    {
     "name": "stdout",
     "output_type": "stream",
     "text": [
      "(30, 25600)\n",
      "stage_4 PCs stored in: C:\\Users\\marce\\PycharmProjects\\Brainvision_Project\\PCA_channel_0.95\\stage_4\\pca_results.pkl\n",
      "Step 4 done.\n",
      "Processing stage_5...\n",
      "Attempting to access: C:\\Users\\marce\\PycharmProjects\\Brainvision_Project\\preprocessed_videos_30frames\\stage_5\n",
      "Number of videos found: 5\n",
      "(150, 1, 7, 7, 2048)\n",
      "Step 1 done.\n",
      "(150, 1, 7, 7, 2048)\n",
      "Step 2 done.\n",
      "(30, 1, 7, 7, 2048)\n",
      "(30, 1, 7, 7, 2048)\n",
      "(30, 1, 7, 7, 2048)\n",
      "(30, 1, 7, 7, 2048)\n",
      "(30, 1, 7, 7, 2048)\n",
      "Step 3 done.\n"
     ]
    },
    {
     "name": "stderr",
     "output_type": "stream",
     "text": [
      "Finding max. number of PCs...: 100%|██████████| 5/5 [00:08<00:00,  1.75s/it]\n"
     ]
    },
    {
     "name": "stdout",
     "output_type": "stream",
     "text": [
      "Max. number of PCs: 20\n"
     ]
    },
    {
     "name": "stderr",
     "output_type": "stream",
     "text": [
      "Performing PCA...:  20%|██        | 1/5 [00:01<00:07,  1.98s/it]"
     ]
    },
    {
     "name": "stdout",
     "output_type": "stream",
     "text": [
      "(30, 40960)\n"
     ]
    },
    {
     "name": "stderr",
     "output_type": "stream",
     "text": [
      "Performing PCA...:  40%|████      | 2/5 [00:03<00:06,  2.00s/it]"
     ]
    },
    {
     "name": "stdout",
     "output_type": "stream",
     "text": [
      "(30, 40960)\n"
     ]
    },
    {
     "name": "stderr",
     "output_type": "stream",
     "text": [
      "Performing PCA...:  60%|██████    | 3/5 [00:05<00:03,  1.86s/it]"
     ]
    },
    {
     "name": "stdout",
     "output_type": "stream",
     "text": [
      "(30, 40960)\n"
     ]
    },
    {
     "name": "stderr",
     "output_type": "stream",
     "text": [
      "Performing PCA...:  80%|████████  | 4/5 [00:07<00:01,  1.81s/it]"
     ]
    },
    {
     "name": "stdout",
     "output_type": "stream",
     "text": [
      "(30, 40960)\n"
     ]
    },
    {
     "name": "stderr",
     "output_type": "stream",
     "text": [
      "Performing PCA...: 100%|██████████| 5/5 [00:09<00:00,  1.84s/it]"
     ]
    },
    {
     "name": "stdout",
     "output_type": "stream",
     "text": [
      "(30, 40960)\n",
      "stage_5 PCs stored in: C:\\Users\\marce\\PycharmProjects\\Brainvision_Project\\PCA_channel_0.95\\stage_5\\pca_results.pkl\n",
      "Step 4 done.\n"
     ]
    },
    {
     "name": "stderr",
     "output_type": "stream",
     "text": [
      "\n"
     ]
    }
   ],
   "source": [
    "# Example usage\n",
    "input_folder = 'preprocessed_videos_30frames'\n",
    "output_folder = repo_root\n",
    "stages = [\"stage_1\", \"stage_2\", \"stage_3\", \"stage_4\", \"stage_5\"]\n",
    "variance_ratio = 0.95\n",
    "\n",
    "# Iterate over each stage and process it\n",
    "for stage in stages:\n",
    "    print(f\"Processing {stage}...\")\n",
    "    process_stage_for_pca(input_folder, output_folder, stage)\n"
   ]
  },
  {
   "cell_type": "code",
   "execution_count": null,
   "id": "51bd158bb567faf7",
   "metadata": {
    "collapsed": false
   },
   "outputs": [],
   "source": [
    "-----------------------------------------------------------------------"
   ]
  },
  {
   "cell_type": "code",
   "execution_count": 74,
   "outputs": [
    {
     "data": {
      "text/plain": "'C:\\\\Users\\\\marce\\\\PycharmProjects\\\\Brainvision_Project'"
     },
     "execution_count": 74,
     "metadata": {},
     "output_type": "execute_result"
    }
   ],
   "source": [
    "os.getcwd()"
   ],
   "metadata": {
    "collapsed": false,
    "ExecuteTime": {
     "end_time": "2023-12-22T12:50:24.054841600Z",
     "start_time": "2023-12-22T12:50:24.038729400Z"
    }
   },
   "id": "61a4347fc280db77"
  },
  {
   "cell_type": "code",
   "execution_count": 109,
   "outputs": [
    {
     "name": "stdout",
     "output_type": "stream",
     "text": [
      "stage_1 {'0001': (30, 1664), '0002': (30, 1664), '0003': (30, 1664), '0004': (30, 1664), '0005': (30, 1664)}\n",
      "stage_2 {'0001': (30, 7168), '0002': (30, 7168), '0003': (30, 7168), '0004': (30, 7168), '0005': (30, 7168)}\n",
      "stage_3 {'0001': (30, 13824), '0002': (30, 13824), '0003': (30, 13824), '0004': (30, 13824), '0005': (30, 13824)}\n",
      "stage_4 {'0001': (30, 25600), '0002': (30, 25600), '0003': (30, 25600), '0004': (30, 25600), '0005': (30, 25600)}\n",
      "stage_5 {'0001': (30, 40960), '0002': (30, 40960), '0003': (30, 40960), '0004': (30, 40960), '0005': (30, 40960)}\n"
     ]
    }
   ],
   "source": [
    "for stage in stages:\n",
    "    path = f\"PCA_channel_0.95/{stage}/pca_results.pkl\"\n",
    "    \n",
    "    with open(path, 'rb') as f:\n",
    "        loaded_dict = pickle.load(f)\n",
    "    \n",
    "    # Display the shape of each value in the dictionary\n",
    "    shapes = {key: value.shape for key, value in loaded_dict.items()}\n",
    "    print(stage, shapes)\n"
   ],
   "metadata": {
    "collapsed": false,
    "ExecuteTime": {
     "end_time": "2023-12-22T14:09:47.041793200Z",
     "start_time": "2023-12-22T14:09:46.994392300Z"
    }
   },
   "id": "d8ef88c27c860fd5"
  }
 ],
 "metadata": {
  "kernelspec": {
   "display_name": "Python 3 ",
   "language": "python",
   "name": "python3"
  },
  "language_info": {
   "codemirror_mode": {
    "name": "ipython",
    "version": 3
   },
   "file_extension": ".py",
   "mimetype": "text/x-python",
   "name": "python",
   "nbconvert_exporter": "python",
   "pygments_lexer": "ipython3",
   "version": "3.10.12"
  }
 },
 "nbformat": 4,
 "nbformat_minor": 5
}
