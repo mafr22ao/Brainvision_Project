{
 "cells": [
  {
   "cell_type": "markdown",
   "id": "fb579d9c64e8fbff",
   "metadata": {
    "collapsed": false,
    "jupyter": {
     "outputs_hidden": false
    }
   },
   "source": [
    "Channel PCA captures most significant patterns across frames for each channel, potentially highlighting the most prominent changes or features in the video content for that specific channel.\n",
    "**Do we want that or are there better ways to capture spatial features per frame?**"
   ]
  },
  {
   "cell_type": "code",
   "execution_count": 1,
   "id": "9faca7027604e2",
   "metadata": {
    "ExecuteTime": {
     "end_time": "2023-12-29T10:35:10.087851100Z",
     "start_time": "2023-12-29T10:35:10.071892900Z"
    },
    "collapsed": false,
    "jupyter": {
     "outputs_hidden": false
    }
   },
   "outputs": [],
   "source": [
    "import os\n",
    "import pickle\n",
    "import numpy as np\n",
    "from sklearn.preprocessing import StandardScaler\n",
    "from sklearn.decomposition import PCA, IncrementalPCA\n",
    "from tqdm import tqdm"
   ]
  },
  {
   "cell_type": "code",
   "execution_count": 2,
   "id": "e55940dce8be960b",
   "metadata": {
    "ExecuteTime": {
     "end_time": "2023-12-29T10:56:37.507177500Z",
     "start_time": "2023-12-29T10:56:37.499053100Z"
    },
    "collapsed": false,
    "jupyter": {
     "outputs_hidden": false
    }
   },
   "outputs": [
    {
     "name": "stdout",
     "output_type": "stream",
     "text": [
      "Repository Root: None\n"
     ]
    }
   ],
   "source": [
    "def find_repo_root(path='.'):\n",
    "    path = os.path.abspath(path)\n",
    "    while not os.path.isdir(os.path.join(path, '.git')):\n",
    "        parent = os.path.dirname(path)\n",
    "        if parent == path:\n",
    "            # We've reached the root of the file system without finding '.git'\n",
    "            return None\n",
    "        path = parent\n",
    "    return path\n",
    "\n",
    "repo_root = find_repo_root()\n",
    "print(\"Repository Root:\", repo_root)"
   ]
  },
  {
   "cell_type": "code",
   "execution_count": 3,
   "id": "295ff56dbac193c4",
   "metadata": {
    "ExecuteTime": {
     "end_time": "2023-12-29T10:56:37.641022100Z",
     "start_time": "2023-12-29T10:56:37.635988600Z"
    },
    "collapsed": false,
    "jupyter": {
     "outputs_hidden": false
    }
   },
   "outputs": [],
   "source": [
    "def get_full_path(relative_path, repo_root):\n",
    "    if not repo_root:\n",
    "        raise ValueError(\"Repository root not found. Ensure you're inside a Git repository.\")\n",
    "\n",
    "    return os.path.join(repo_root, relative_path)\n"
   ]
  },
  {
   "cell_type": "code",
   "execution_count": 4,
   "id": "b1d0d16c1636fca7",
   "metadata": {
    "ExecuteTime": {
     "end_time": "2023-12-29T10:56:37.785897100Z",
     "start_time": "2023-12-29T10:56:37.770181300Z"
    },
    "collapsed": false,
    "jupyter": {
     "outputs_hidden": false
    }
   },
   "outputs": [],
   "source": [
    "# step 1 function\n",
    "def load_and_combine_tensors(stage_name, input_folder, num_videos):\n",
    "    combined_tensor = []\n",
    "    video_indices = {}\n",
    "\n",
    "    for video_id in range(1, num_videos + 1):\n",
    "        filename = f\"{str(video_id).zfill(4)}_{stage_name}.pkl\"\n",
    "        file_path = os.path.join(input_folder, stage_name, filename)\n",
    "\n",
    "        if os.path.exists(file_path):\n",
    "            #print(f\"Loading tensor from: {file_path}\")\n",
    "            with open(file_path, 'rb') as file:\n",
    "                tensor = pickle.load(file)\n",
    "                combined_tensor.append(tensor)\n",
    "                # Track start and end indices for each video\n",
    "                end_index = sum(t.shape[0] for t in combined_tensor)\n",
    "                video_indices[str(video_id).zfill(4)] = (end_index - tensor.shape[0], end_index)\n",
    "\n",
    "    if not combined_tensor:\n",
    "        print(\"No tensors found to combine.\")\n",
    "        return None, None\n",
    "\n",
    "    combined_tensor = np.concatenate(combined_tensor, axis=0)\n",
    "    return combined_tensor, video_indices\n"
   ]
  },
  {
   "cell_type": "code",
   "execution_count": 5,
   "id": "698222bfb9b8029c",
   "metadata": {
    "ExecuteTime": {
     "end_time": "2023-12-29T10:56:37.921007300Z",
     "start_time": "2023-12-29T10:56:37.912382Z"
    },
    "collapsed": false,
    "jupyter": {
     "outputs_hidden": false
    }
   },
   "outputs": [],
   "source": [
    "# Step 2: globalized standardization (only based on training set)\n",
    "def standardize_tensors(combined_tensor, video_indices, training_end_id='0800'):\n",
    "    reshaped_tensor = combined_tensor.reshape(combined_tensor.shape[0], -1)\n",
    "    scaler = StandardScaler()\n",
    "\n",
    "    # Find the end index of the training set\n",
    "    training_end_index = video_indices[training_end_id][1]\n",
    "\n",
    "    # Fit the scaler only on the training set\n",
    "    scaler.fit(reshaped_tensor[:training_end_index])\n",
    "\n",
    "    # Transform both training and test sets\n",
    "    standardized_data = scaler.transform(reshaped_tensor)\n",
    "    \n",
    "    return standardized_data.reshape(combined_tensor.shape)"
   ]
  },
  {
   "cell_type": "code",
   "execution_count": 6,
   "id": "c6666d9a44e22014",
   "metadata": {
    "ExecuteTime": {
     "end_time": "2023-12-29T10:56:38.055082600Z",
     "start_time": "2023-12-29T10:56:38.039258700Z"
    },
    "collapsed": false,
    "jupyter": {
     "outputs_hidden": false
    }
   },
   "outputs": [],
   "source": [
    "# Function to slice feature maps into four equal parts\n",
    "def slice_feature_maps(feature_maps):\n",
    "    _, _, height, width, _ = feature_maps.shape\n",
    "\n",
    "    # Calculate midpoints\n",
    "    mid_height = height // 2\n",
    "    mid_width = width // 2\n",
    "\n",
    "    # Slicing the feature maps into four equal parts\n",
    "    top_left = feature_maps[:, :, :mid_height, :mid_width, :]\n",
    "    top_right = feature_maps[:, :, :mid_height, mid_width:, :]\n",
    "    bottom_left = feature_maps[:, :, mid_height:, :mid_width, :]\n",
    "    bottom_right = feature_maps[:, :, mid_height:, mid_width:, :]\n",
    "\n",
    "    return [top_left, top_right, bottom_left, bottom_right]"
   ]
  },
  {
   "cell_type": "code",
   "execution_count": 15,
   "id": "9fa3a70ead172079",
   "metadata": {
    "ExecuteTime": {
     "end_time": "2023-12-29T11:48:05.832721Z",
     "start_time": "2023-12-29T11:48:05.826057Z"
    },
    "collapsed": false,
    "jupyter": {
     "outputs_hidden": false
    }
   },
   "outputs": [],
   "source": [
    "def apply_rpca_and_save(sliced_tensors, stage_name, output_folder, n_components, training_end_id=800, seed=42):\n",
    "    \n",
    "    pca_results = []\n",
    "    for idx , feature_maps in enumerate(tqdm(sliced_tensors, desc=\"Performing PCA...\")):\n",
    "        # Reshape the slice to 2D array, concatenate the feature maps for each 30-frame segment\n",
    "        n_videos = feature_maps.shape[0] // 30\n",
    "        reshaped_data = np.zeros((n_videos, feature_maps.shape[2] * feature_maps.shape[3] * feature_maps.shape[4] * 30))\n",
    "\n",
    "        for i in range(n_videos):\n",
    "            # Flatten and concatenate the feature maps for each segment\n",
    "            video = feature_maps[i*30:(i+1)*30].reshape(-1)\n",
    "            reshaped_data[i, :] = video\n",
    "        \n",
    "        print(f\"Shape of flattened slice {idx}: {reshaped_data.shape}\")\n",
    "        \n",
    "        # Apply PCA\n",
    "        # stage_2 and stage_3 need incremental PCA bc of RAM restrictions\n",
    "        if stage_name in [\"stage_2\", \"stage_3\"]:\n",
    "            # Apply Incremental PCA with increasing number of components until 95% variance is reached\n",
    "            print(\"Fitting IPCA...\")\n",
    "            \n",
    "            # n_components_ratio = n_components\n",
    "            # cumulative_variance = 1\n",
    "            # n_components = 800\n",
    "\n",
    "            # batch_size = 100  # Example batch size, adjust based on your memory constraints\n",
    "            # n_batches = training_end_id // batch_size\n",
    "            \n",
    "            # while cumulative_variance >= n_components_ratio:\n",
    "            #     n_components -= 1\n",
    "            #     ipca = IncrementalPCA(n_components=n_components)\n",
    "                \n",
    "            #     for batch_idx in range(n_batches):\n",
    "            #         start_idx = batch_idx * batch_size\n",
    "            #         end_idx = start_idx + batch_size\n",
    "            #         ipca.partial_fit(reshaped_data[start_idx:end_idx, :])\n",
    "\n",
    "            #     cumulative_variance = sum(ipca.explained_variance_ratio_)\n",
    "            #     print(f\"Variance with {n_components} components: {cumulative_variance}\")\n",
    "\n",
    "\n",
    "            ipca = IncrementalPCA(n_components=720)\n",
    "            ipca.fit(reshaped_data[:training_end_id, :])\n",
    "            cumulative_variance = sum(ipca.explained_variance_ratio_)\n",
    "            print(f\"Variance with {n_components} components: {cumulative_variance}\")\n",
    "            pca = ipca\n",
    "            print(\"Transforming IPCA...\")\n",
    "        \n",
    "        else:\n",
    "            pca = PCA(n_components=n_components, random_state=seed)\n",
    "            print(\"Fitting PCA...\")\n",
    "            pca.fit(reshaped_data[:training_end_id, :])\n",
    "            print(\"Transforming PCA...\")\n",
    "\n",
    "        pca_result = pca.transform(reshaped_data)\n",
    "        print(f\"Number of PCs in slice {idx}: {pca_result.shape}\")\n",
    "        print(f\"Variance captured by PCs: {sum(pca.explained_variance_ratio_)}\")\n",
    "        # Append the PCA result\n",
    "        pca_results.append(pca_result)\n",
    "\n",
    "    # Concatenate the PCA results from all slices\n",
    "    final_pca_results = np.concatenate(pca_results, axis=1)\n",
    "    print(final_pca_results.shape)\n",
    "    # save PCA results\n",
    "    pca_folder = os.path.join(output_folder, f\"PCA_slice_{n_components}\", stage_name)\n",
    "    if not os.path.exists(pca_folder):\n",
    "        os.makedirs(pca_folder)\n",
    "    \n",
    "    stage_number = stage_name[-1]\n",
    "    file_path = os.path.join(pca_folder, f'layer_{stage_number}_pca.pkl')\n",
    "    with open(file_path, 'wb') as f:\n",
    "        pickle.dump(final_pca_results, f)\n",
    "    \n",
    "    print(f\"{stage_name} PCs stored in: {file_path}\")"
   ]
  },
  {
   "cell_type": "code",
   "execution_count": 16,
   "id": "273094de-3d09-432e-b631-77f632922d71",
   "metadata": {
    "ExecuteTime": {
     "end_time": "2023-12-29T11:48:09.065560600Z",
     "start_time": "2023-12-29T11:48:09.062530Z"
    },
    "collapsed": false,
    "jupyter": {
     "outputs_hidden": false
    }
   },
   "outputs": [],
   "source": [
    "def process_stage_for_pca(input_folder, output_folder, stage_name):\n",
    "    \"\"\"\n",
    "    Process all videos of a given stage: standardize, apply PCA, and save the PCA-transformed tensors.\n",
    "    Args:\n",
    "    - input_folder: Folder containing the pre-processed videos.\n",
    "    - output_folder: Folder to save PCA results.\n",
    "    - stage_name: Name of the stage to process.\n",
    "    Returns:\n",
    "    - DataFrame containing metadata (video ID and variance captured).\n",
    "    \"\"\"\n",
    "     # Use the current working directory or a known absolute path\n",
    "    current_working_directory = os.getcwd()\n",
    "    stage_folder = os.path.join(current_working_directory, input_folder, stage_name)\n",
    "    print(\"Attempting to access:\", stage_folder)\n",
    "\n",
    "    if not os.path.exists(stage_folder):\n",
    "        print(\"Directory not found:\", stage_folder)\n",
    "        return None\n",
    "    # Calculate the number of video files in the folder\n",
    "    num_videos = len([f for f in os.listdir(stage_folder) if os.path.isfile(os.path.join(stage_folder, f))])\n",
    "    print(f\"Number of videos found: {num_videos}\")\n",
    "\n",
    "    # Step 1: Load and combine tensors\n",
    "    if stage_name not in [\"stage_2\", \"stage_3\"]:\n",
    "        combined_tensor, video_indices = load_and_combine_tensors(stage_name, input_folder, num_videos)\n",
    "    print(\"Step 1 done.\")\n",
    "    \n",
    "    # Step 2: Globally standardize the tensor\n",
    "    if stage_name in [\"stage_2\", \"stage_3\"]:\n",
    "        st_folder = os.path.join(output_folder, f\"fm_standardized\", stage_name)\n",
    "        file_path = os.path.join(st_folder, f'fm_standardized_{stage_name}.pkl')\n",
    "        with open(file_path, 'rb') as f:\n",
    "            standardized_tensor = pickle.load(f)\n",
    "    else:\n",
    "        standardized_tensor = standardize_tensors(combined_tensor, video_indices)\n",
    "        # # save standardized tensors\n",
    "        # st_folder = os.path.join(output_folder, f\"fm_standardized\", stage_name)\n",
    "        # if not os.path.exists(st_folder):\n",
    "        #     os.makedirs(st_folder)\n",
    "        # file_path = os.path.join(st_folder, f'fm_standardized_{stage_name}.pkl')\n",
    "        # with open(file_path, 'wb') as f:\n",
    "        #     pickle.dump(standardized_tensor, f)\n",
    "        # print(f\"{stage_name} standardized tensors stored in: {file_path}\")\n",
    "        del combined_tensor, video_indices\n",
    "    print(\"Step 2 done.\")\n",
    "\n",
    "    # Step 3: Apply PCA to each tensor and save the result\n",
    "    sliced_tensors = slice_feature_maps(standardized_tensor)\n",
    "    del standardized_tensor\n",
    "    apply_rpca_and_save(sliced_tensors, stage_name, output_folder, n_components)\n",
    "    print(\"Step 3 done.\")"
   ]
  },
  {
   "cell_type": "code",
   "execution_count": 13,
   "id": "38a2182002e8f9b0",
   "metadata": {
    "ExecuteTime": {
     "end_time": "2023-12-29T11:48:09.183904300Z",
     "start_time": "2023-12-29T11:48:09.173940600Z"
    },
    "collapsed": false,
    "jupyter": {
     "outputs_hidden": false
    }
   },
   "outputs": [
    {
     "name": "stdout",
     "output_type": "stream",
     "text": [
      "/work\n",
      "None\n"
     ]
    }
   ],
   "source": [
    "print(os.getcwd())\n",
    "print(repo_root)"
   ]
  },
  {
   "cell_type": "code",
   "execution_count": 14,
   "id": "fc8f4a7dfe583730",
   "metadata": {
    "ExecuteTime": {
     "end_time": "2023-12-29T11:48:29.230552300Z",
     "start_time": "2023-12-29T11:48:12.041363300Z"
    },
    "collapsed": false,
    "jupyter": {
     "outputs_hidden": false
    }
   },
   "outputs": [
    {
     "name": "stdout",
     "output_type": "stream",
     "text": [
      "Processing stage_2...\n",
      "Attempting to access: /work/preprocessed_videos_30frames/stage_2\n",
      "Number of videos found: 1000\n",
      "Step 1 done.\n",
      "stage_2 standardized tensors stored in: /work/fm_standardized/stage_2/fm_standardized_stage_2.pkl\n",
      "Step 2 done.\n"
     ]
    }
   ],
   "source": [
    "# Example usage\n",
    "input_folder = 'preprocessed_videos_30frames'\n",
    "output_folder = os.getcwd()\n",
    "stages = [\"stage_3\"] # [\"stage_2\", \"stage_3\", \"stage_4\", \"stage_5\"] # success: [\"stage_1\"]\n",
    "n_components = 0.95\n",
    "\n",
    "# Iterate over each stage and process it\n",
    "for stage in stages:\n",
    "    print(f\"Processing {stage}...\")\n",
    "    process_stage_for_pca(input_folder, output_folder, stage)"
   ]
  },
  {
   "cell_type": "code",
   "execution_count": null,
   "id": "51bd158bb567faf7",
   "metadata": {
    "collapsed": false,
    "jupyter": {
     "outputs_hidden": false
    }
   },
   "outputs": [],
   "source": [
    "#-----------------------------------------------------------------------"
   ]
  },
  {
   "cell_type": "code",
   "execution_count": 8,
   "id": "3616d500-552d-47d7-9c62-96ed13a329b9",
   "metadata": {},
   "outputs": [
    {
     "data": {
      "text/plain": [
       "'/work/PCA_slice_0.95_dataset.zip'"
      ]
     },
     "execution_count": 8,
     "metadata": {},
     "output_type": "execute_result"
    }
   ],
   "source": [
    "# zip pca folder\n",
    "import shutil\n",
    "directory_to_zip = \"PCA_slice_0.95\"  # Replace with your directory name\n",
    "output_filename = \"PCA_slice_0.95_dataset\"  # Replace with your desired output name\n",
    "output_path = os.path.join(os.getcwd(), output_filename)\n",
    "shutil.make_archive(output_path, 'zip', directory_to_zip)"
   ]
  },
  {
   "cell_type": "code",
   "execution_count": null,
   "id": "ac1b70e6-f2c7-48a3-81d9-545f19b1fa7b",
   "metadata": {},
   "outputs": [],
   "source": []
  },
  {
   "cell_type": "code",
   "execution_count": null,
   "id": "c2d27f12-d1e8-48a2-bac8-3a4d7c631f23",
   "metadata": {},
   "outputs": [],
   "source": [
    "stage = \"stage_1\"\n",
    "stage_nr = stage[-1]\n",
    "path = f\"PCA_slice_0.95/{stage}/layer_{stage_nr}_pca.pkl\"\n",
    "with open(path, 'rb') as f:\n",
    "    pcs = pickle.load(f)\n",
    "\n",
    "print(pcs.shape)"
   ]
  },
  {
   "cell_type": "code",
   "execution_count": null,
   "id": "c83e7f7a-f46a-45a2-86cf-5ccc8693bb0d",
   "metadata": {},
   "outputs": [],
   "source": []
  },
  {
   "cell_type": "code",
   "execution_count": 9,
   "id": "d90478fe-af30-459a-bc42-e11aa37ca91e",
   "metadata": {},
   "outputs": [],
   "source": [
    "stage_name = \"stage_3\"\n",
    "output_folder = os.getcwd()\n",
    "if stage_name in [\"stage_2\", \"stage_3\"]:\n",
    "    st_folder = os.path.join(output_folder, f\"fm_standardized\", stage_name)\n",
    "    file_path = os.path.join(st_folder, f'fm_standardized_{stage_name}.pkl')\n",
    "    with open(file_path, 'rb') as f:\n",
    "        standardized_tensor = pickle.load(f)"
   ]
  },
  {
   "cell_type": "code",
   "execution_count": 10,
   "id": "c1a1162a-3088-4ab9-aabe-a633e3637b22",
   "metadata": {},
   "outputs": [
    {
     "name": "stdout",
     "output_type": "stream",
     "text": [
      "(30000, 1, 28, 28, 512)\n"
     ]
    }
   ],
   "source": [
    "print(standardized_tensor.shape)"
   ]
  },
  {
   "cell_type": "code",
   "execution_count": 11,
   "id": "6ad3c67c-f55e-4890-a30a-74ca95532018",
   "metadata": {},
   "outputs": [
    {
     "name": "stdout",
     "output_type": "stream",
     "text": [
      "(30000, 1, 14, 14, 512)\n",
      "(30000, 1, 14, 14, 512)\n",
      "(30000, 1, 14, 14, 512)\n",
      "(30000, 1, 14, 14, 512)\n"
     ]
    }
   ],
   "source": [
    "sliced_tensors = slice_feature_maps(standardized_tensor)\n",
    "del standardized_tensor\n",
    "for slice in sliced_tensors:\n",
    "    print(slice.shape)"
   ]
  },
  {
   "cell_type": "code",
   "execution_count": 12,
   "id": "7051d086-5908-43bc-ac74-6451f5d2484f",
   "metadata": {},
   "outputs": [
    {
     "name": "stderr",
     "output_type": "stream",
     "text": [
      "Performing PCA...:  25%|██▌       | 1/4 [00:19<00:59, 19.69s/it]"
     ]
    },
    {
     "name": "stdout",
     "output_type": "stream",
     "text": [
      "Shape of flattened slice 0: (1000, 3010560)\n"
     ]
    },
    {
     "name": "stderr",
     "output_type": "stream",
     "text": [
      "Performing PCA...:  50%|█████     | 2/4 [00:40<00:40, 20.38s/it]"
     ]
    },
    {
     "name": "stdout",
     "output_type": "stream",
     "text": [
      "Shape of flattened slice 1: (1000, 3010560)\n"
     ]
    },
    {
     "name": "stderr",
     "output_type": "stream",
     "text": [
      "Performing PCA...:  75%|███████▌  | 3/4 [01:01<00:20, 20.56s/it]"
     ]
    },
    {
     "name": "stdout",
     "output_type": "stream",
     "text": [
      "Shape of flattened slice 2: (1000, 3010560)\n"
     ]
    },
    {
     "name": "stderr",
     "output_type": "stream",
     "text": [
      "Performing PCA...: 100%|██████████| 4/4 [01:21<00:00, 20.49s/it]"
     ]
    },
    {
     "name": "stdout",
     "output_type": "stream",
     "text": [
      "Shape of flattened slice 3: (1000, 3010560)\n"
     ]
    },
    {
     "name": "stderr",
     "output_type": "stream",
     "text": [
      "\n"
     ]
    }
   ],
   "source": [
    "for idx , feature_maps in enumerate(tqdm(sliced_tensors, desc=\"Performing PCA...\")):\n",
    "    # Reshape the slice to 2D array, concatenate the feature maps for each 30-frame segment\n",
    "    n_videos = feature_maps.shape[0] // 30\n",
    "    reshaped_data = np.zeros((n_videos, feature_maps.shape[2] * feature_maps.shape[3] * feature_maps.shape[4] * 30))\n",
    "\n",
    "    for i in range(n_videos):\n",
    "        # Flatten and concatenate the feature maps for each segment\n",
    "        video = feature_maps[i*30:(i+1)*30].reshape(-1)\n",
    "        reshaped_data[i, :] = video\n",
    "    \n",
    "    print(f\"Shape of flattened slice {idx}: {reshaped_data.shape}\")"
   ]
  },
  {
   "cell_type": "code",
   "execution_count": 13,
   "id": "26279cac-5eeb-40a2-9bf1-401cde90853c",
   "metadata": {},
   "outputs": [
    {
     "data": {
      "text/plain": [
       "(1000, 3010560)"
      ]
     },
     "execution_count": 13,
     "metadata": {},
     "output_type": "execute_result"
    }
   ],
   "source": [
    "reshaped_data.shape"
   ]
  },
  {
   "cell_type": "code",
   "execution_count": 15,
   "id": "cb389c4e-6328-45bf-817d-9b2541452f09",
   "metadata": {},
   "outputs": [
    {
     "data": {
      "text/html": [
       "<style>#sk-container-id-1 {color: black;}#sk-container-id-1 pre{padding: 0;}#sk-container-id-1 div.sk-toggleable {background-color: white;}#sk-container-id-1 label.sk-toggleable__label {cursor: pointer;display: block;width: 100%;margin-bottom: 0;padding: 0.3em;box-sizing: border-box;text-align: center;}#sk-container-id-1 label.sk-toggleable__label-arrow:before {content: \"▸\";float: left;margin-right: 0.25em;color: #696969;}#sk-container-id-1 label.sk-toggleable__label-arrow:hover:before {color: black;}#sk-container-id-1 div.sk-estimator:hover label.sk-toggleable__label-arrow:before {color: black;}#sk-container-id-1 div.sk-toggleable__content {max-height: 0;max-width: 0;overflow: hidden;text-align: left;background-color: #f0f8ff;}#sk-container-id-1 div.sk-toggleable__content pre {margin: 0.2em;color: black;border-radius: 0.25em;background-color: #f0f8ff;}#sk-container-id-1 input.sk-toggleable__control:checked~div.sk-toggleable__content {max-height: 200px;max-width: 100%;overflow: auto;}#sk-container-id-1 input.sk-toggleable__control:checked~label.sk-toggleable__label-arrow:before {content: \"▾\";}#sk-container-id-1 div.sk-estimator input.sk-toggleable__control:checked~label.sk-toggleable__label {background-color: #d4ebff;}#sk-container-id-1 div.sk-label input.sk-toggleable__control:checked~label.sk-toggleable__label {background-color: #d4ebff;}#sk-container-id-1 input.sk-hidden--visually {border: 0;clip: rect(1px 1px 1px 1px);clip: rect(1px, 1px, 1px, 1px);height: 1px;margin: -1px;overflow: hidden;padding: 0;position: absolute;width: 1px;}#sk-container-id-1 div.sk-estimator {font-family: monospace;background-color: #f0f8ff;border: 1px dotted black;border-radius: 0.25em;box-sizing: border-box;margin-bottom: 0.5em;}#sk-container-id-1 div.sk-estimator:hover {background-color: #d4ebff;}#sk-container-id-1 div.sk-parallel-item::after {content: \"\";width: 100%;border-bottom: 1px solid gray;flex-grow: 1;}#sk-container-id-1 div.sk-label:hover label.sk-toggleable__label {background-color: #d4ebff;}#sk-container-id-1 div.sk-serial::before {content: \"\";position: absolute;border-left: 1px solid gray;box-sizing: border-box;top: 0;bottom: 0;left: 50%;z-index: 0;}#sk-container-id-1 div.sk-serial {display: flex;flex-direction: column;align-items: center;background-color: white;padding-right: 0.2em;padding-left: 0.2em;position: relative;}#sk-container-id-1 div.sk-item {position: relative;z-index: 1;}#sk-container-id-1 div.sk-parallel {display: flex;align-items: stretch;justify-content: center;background-color: white;position: relative;}#sk-container-id-1 div.sk-item::before, #sk-container-id-1 div.sk-parallel-item::before {content: \"\";position: absolute;border-left: 1px solid gray;box-sizing: border-box;top: 0;bottom: 0;left: 50%;z-index: -1;}#sk-container-id-1 div.sk-parallel-item {display: flex;flex-direction: column;z-index: 1;position: relative;background-color: white;}#sk-container-id-1 div.sk-parallel-item:first-child::after {align-self: flex-end;width: 50%;}#sk-container-id-1 div.sk-parallel-item:last-child::after {align-self: flex-start;width: 50%;}#sk-container-id-1 div.sk-parallel-item:only-child::after {width: 0;}#sk-container-id-1 div.sk-dashed-wrapped {border: 1px dashed gray;margin: 0 0.4em 0.5em 0.4em;box-sizing: border-box;padding-bottom: 0.4em;background-color: white;}#sk-container-id-1 div.sk-label label {font-family: monospace;font-weight: bold;display: inline-block;line-height: 1.2em;}#sk-container-id-1 div.sk-label-container {text-align: center;}#sk-container-id-1 div.sk-container {/* jupyter's `normalize.less` sets `[hidden] { display: none; }` but bootstrap.min.css set `[hidden] { display: none !important; }` so we also need the `!important` here to be able to override the default hidden behavior on the sphinx rendered scikit-learn.org. See: https://github.com/scikit-learn/scikit-learn/issues/21755 */display: inline-block !important;position: relative;}#sk-container-id-1 div.sk-text-repr-fallback {display: none;}</style><div id=\"sk-container-id-1\" class=\"sk-top-container\"><div class=\"sk-text-repr-fallback\"><pre>PCA(n_components=720, random_state=42, svd_solver=&#x27;randomized&#x27;)</pre><b>In a Jupyter environment, please rerun this cell to show the HTML representation or trust the notebook. <br />On GitHub, the HTML representation is unable to render, please try loading this page with nbviewer.org.</b></div><div class=\"sk-container\" hidden><div class=\"sk-item\"><div class=\"sk-estimator sk-toggleable\"><input class=\"sk-toggleable__control sk-hidden--visually\" id=\"sk-estimator-id-1\" type=\"checkbox\" checked><label for=\"sk-estimator-id-1\" class=\"sk-toggleable__label sk-toggleable__label-arrow\">PCA</label><div class=\"sk-toggleable__content\"><pre>PCA(n_components=720, random_state=42, svd_solver=&#x27;randomized&#x27;)</pre></div></div></div></div></div>"
      ],
      "text/plain": [
       "PCA(n_components=720, random_state=42, svd_solver='randomized')"
      ]
     },
     "execution_count": 15,
     "metadata": {},
     "output_type": "execute_result"
    }
   ],
   "source": [
    "pca = PCA(n_components=720, svd_solver='randomized', random_state=42)\n",
    "pca.fit(reshaped_data)"
   ]
  },
  {
   "cell_type": "code",
   "execution_count": 16,
   "id": "c990c7b5-e0f2-4648-9d9a-8efd0d85a2f5",
   "metadata": {},
   "outputs": [
    {
     "data": {
      "text/plain": [
       "0.846802380649253"
      ]
     },
     "execution_count": 16,
     "metadata": {},
     "output_type": "execute_result"
    }
   ],
   "source": [
    "np.sum(pca.explained_variance_ratio_)"
   ]
  }
 ],
 "metadata": {
  "kernelspec": {
   "display_name": "Python 3 ",
   "language": "python",
   "name": "python3"
  },
  "language_info": {
   "codemirror_mode": {
    "name": "ipython",
    "version": 3
   },
   "file_extension": ".py",
   "mimetype": "text/x-python",
   "name": "python",
   "nbconvert_exporter": "python",
   "pygments_lexer": "ipython3",
   "version": "3.10.12"
  }
 },
 "nbformat": 4,
 "nbformat_minor": 5
}
