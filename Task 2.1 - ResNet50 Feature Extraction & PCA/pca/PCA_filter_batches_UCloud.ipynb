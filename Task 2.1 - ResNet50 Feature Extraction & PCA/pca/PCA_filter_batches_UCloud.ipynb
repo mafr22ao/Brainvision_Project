{
 "cells": [
  {
   "cell_type": "markdown",
   "id": "fb579d9c64e8fbff",
   "metadata": {
    "collapsed": false
   },
   "source": [
    "Channel PCA captures most significant patterns across frames for each channel, potentially highlighting the most prominent changes or features in the video content for that specific channel.\n",
    "**Do we want that or are there better ways to capture spatial features per frame?**"
   ]
  },
  {
   "cell_type": "code",
   "execution_count": 2,
   "id": "9faca7027604e2",
   "metadata": {
    "ExecuteTime": {
     "end_time": "2023-12-30T10:14:41.403172900Z",
     "start_time": "2023-12-30T10:14:29.417193700Z"
    },
    "collapsed": false
   },
   "outputs": [],
   "source": [
    "import os\n",
    "import pickle\n",
    "import numpy as np\n",
    "from sklearn.preprocessing import StandardScaler\n",
    "from sklearn.decomposition import PCA\n",
    "from tqdm import tqdm"
   ]
  },
  {
   "cell_type": "code",
   "execution_count": 3,
   "id": "e55940dce8be960b",
   "metadata": {
    "ExecuteTime": {
     "end_time": "2023-12-30T10:14:41.412582800Z",
     "start_time": "2023-12-30T10:14:41.403172900Z"
    },
    "collapsed": false
   },
   "outputs": [
    {
     "name": "stdout",
     "output_type": "stream",
     "text": [
      "Repository Root: None\n"
     ]
    }
   ],
   "source": [
    "def find_repo_root(path='.'):\n",
    "    path = os.path.abspath(path)\n",
    "    while not os.path.isdir(os.path.join(path, '.git')):\n",
    "        parent = os.path.dirname(path)\n",
    "        if parent == path:\n",
    "            # We've reached the root of the file system without finding '.git'\n",
    "            return None\n",
    "        path = parent\n",
    "    return path\n",
    "\n",
    "repo_root = find_repo_root()\n",
    "print(\"Repository Root:\", repo_root)"
   ]
  },
  {
   "cell_type": "code",
   "execution_count": 4,
   "id": "295ff56dbac193c4",
   "metadata": {
    "ExecuteTime": {
     "end_time": "2023-12-30T10:14:41.425980500Z",
     "start_time": "2023-12-30T10:14:41.412582800Z"
    },
    "collapsed": false
   },
   "outputs": [],
   "source": [
    "def get_full_path(relative_path, repo_root):\n",
    "    if not repo_root:\n",
    "        raise ValueError(\"Repository root not found. Ensure you're inside a Git repository.\")\n",
    "\n",
    "    return os.path.join(repo_root, relative_path)\n"
   ]
  },
  {
   "cell_type": "code",
   "execution_count": 5,
   "id": "b1d0d16c1636fca7",
   "metadata": {
    "ExecuteTime": {
     "end_time": "2023-12-30T10:14:41.471268300Z",
     "start_time": "2023-12-30T10:14:41.425980500Z"
    },
    "collapsed": false
   },
   "outputs": [],
   "source": [
    "# step 1 function\n",
    "def load_and_combine_tensors(stage_name, input_folder, num_videos):\n",
    "    combined_tensor = []\n",
    "    video_indices = {}\n",
    "\n",
    "    for video_id in range(1, num_videos + 1):\n",
    "        filename = f\"{str(video_id).zfill(4)}_{stage_name}.pkl\"\n",
    "        file_path = os.path.join(input_folder, stage_name, filename)\n",
    "\n",
    "        if os.path.exists(file_path):\n",
    "            #print(f\"Loading tensor from: {file_path}\")\n",
    "            with open(file_path, 'rb') as file:\n",
    "                tensor = pickle.load(file)\n",
    "                combined_tensor.append(tensor)\n",
    "                # Track start and end indices for each video\n",
    "                end_index = sum(t.shape[0] for t in combined_tensor)\n",
    "                video_indices[str(video_id).zfill(4)] = (end_index - tensor.shape[0], end_index)\n",
    "\n",
    "    if not combined_tensor:\n",
    "        print(\"No tensors found to combine.\")\n",
    "        return None, None\n",
    "\n",
    "    combined_tensor = np.concatenate(combined_tensor, axis=0)\n",
    "    return combined_tensor, video_indices\n"
   ]
  },
  {
   "cell_type": "code",
   "execution_count": 6,
   "id": "698222bfb9b8029c",
   "metadata": {
    "ExecuteTime": {
     "end_time": "2023-12-30T10:14:41.471268300Z",
     "start_time": "2023-12-30T10:14:41.439839Z"
    },
    "collapsed": false
   },
   "outputs": [],
   "source": [
    "# Step 2: globalized standardization (only based on training set)\n",
    "def standardize_tensors(combined_tensor, video_indices, training_end_id='0800'):\n",
    "    reshaped_tensor = combined_tensor.reshape(combined_tensor.shape[0], -1)\n",
    "    scaler = StandardScaler()\n",
    "\n",
    "    # Find the end index of the training set\n",
    "    training_end_index = video_indices[training_end_id][1]\n",
    "\n",
    "    # Fit the scaler only on the training set\n",
    "    scaler.fit(reshaped_tensor[:training_end_index])\n",
    "\n",
    "    # Transform both training and test sets\n",
    "    standardized_data = scaler.transform(reshaped_tensor)\n",
    "    \n",
    "    return standardized_data.reshape(combined_tensor.shape)"
   ]
  },
  {
   "cell_type": "code",
   "execution_count": 7,
   "id": "9fa3a70ead172079",
   "metadata": {
    "ExecuteTime": {
     "end_time": "2023-12-30T11:42:28.109150600Z",
     "start_time": "2023-12-30T11:42:28.109150600Z"
    },
    "collapsed": false
   },
   "outputs": [],
   "source": [
    "def apply_fpca_and_save(standardized_tensor, stage_name, output_folder, n_components, training_end_id=800, seed=42):\n",
    "    # create filter batches for pca\n",
    "    num_batches = 8\n",
    "    batch_size = standardized_tensor.shape[-1] // num_batches\n",
    "    # Calculate the product of the spatial dimensions\n",
    "    spatial_dims_prod = np.prod(standardized_tensor.shape[2:4])\n",
    "    \n",
    "    pca_results = []\n",
    "\n",
    "    for i in range(num_batches):\n",
    "        # Extract the batch\n",
    "        batch = standardized_tensor[..., i*batch_size : (i+1)*batch_size]\n",
    "               \n",
    "        # Reshape the batch for PCA: flattening the spatial dimensions and channels per 30 frames\n",
    "        n_segments = batch.shape[0] // 30\n",
    "        reshaped_batch = np.zeros((n_segments, spatial_dims_prod * batch_size * 30))\n",
    "        for seg_i in range(n_segments):\n",
    "            segment = batch[seg_i*30 : (seg_i+1)*30].reshape(-1)\n",
    "            reshaped_batch[seg_i, :] = segment\n",
    "        \n",
    "        print(f\"Shape of flattened filter batch {i}: {reshaped_batch.shape}\")\n",
    "\n",
    "        # Apply PCA\n",
    "        pca = PCA(n_components=n_components, random_state=seed)\n",
    "        pca.fit(reshaped_batch[:training_end_id, :])\n",
    "        pca_result = pca.transform(reshaped_batch)\n",
    "        print(f\"Number of PCs in filter batch {i}: {pca_result.shape}\")\n",
    "        # Append the PCA result\n",
    "        pca_results.append(pca_result)\n",
    "        \n",
    "        # print(len(pca_results))\n",
    "\n",
    "    # Concatenate the PCA results from all slices\n",
    "    final_pca_results = np.concatenate(pca_results, axis=1)\n",
    "    print(final_pca_results.shape)\n",
    "    # save PCA results\n",
    "    pca_folder = os.path.join(output_folder, f\"PCA_filter_{n_components}\", stage_name)\n",
    "    if not os.path.exists(pca_folder):\n",
    "        os.makedirs(pca_folder)\n",
    "    \n",
    "    stage_number = stage_name[-1]\n",
    "    file_path = os.path.join(pca_folder, f'layer_{stage_number}_pca.pkl')\n",
    "    with open(file_path, 'wb') as f:\n",
    "        pickle.dump(final_pca_results, f)\n",
    "    \n",
    "    print(f\"{stage_name} PCs stored in: {file_path}\")"
   ]
  },
  {
   "cell_type": "code",
   "execution_count": 8,
   "id": "273094de-3d09-432e-b631-77f632922d71",
   "metadata": {
    "ExecuteTime": {
     "end_time": "2023-12-30T11:42:36.999889400Z",
     "start_time": "2023-12-30T11:42:36.999383200Z"
    },
    "collapsed": false
   },
   "outputs": [],
   "source": [
    "def process_stage_for_pca(input_folder, output_folder, stage_name):\n",
    "    \"\"\"\n",
    "    Process all videos of a given stage: standardize, apply PCA, and save the PCA-transformed tensors.\n",
    "    Args:\n",
    "    - input_folder: Folder containing the pre-processed videos.\n",
    "    - output_folder: Folder to save PCA results.\n",
    "    - stage_name: Name of the stage to process.\n",
    "    Returns:\n",
    "    - DataFrame containing metadata (video ID and variance captured).\n",
    "    \"\"\"\n",
    "     # Use the current working directory or a known absolute path\n",
    "    current_working_directory = os.getcwd()\n",
    "    stage_folder = os.path.join(current_working_directory, input_folder, stage_name)\n",
    "    print(\"Attempting to access:\", stage_folder)\n",
    "\n",
    "    if not os.path.exists(stage_folder):\n",
    "        print(\"Directory not found:\", stage_folder)\n",
    "        return None\n",
    "    # Calculate the number of video files in the folder\n",
    "    num_videos = len([f for f in os.listdir(stage_folder) if os.path.isfile(os.path.join(stage_folder, f))])\n",
    "    print(f\"Number of videos found: {num_videos}\")\n",
    "\n",
    "    # Step 1: Load and combine tensors\n",
    "    combined_tensor, video_indices = load_and_combine_tensors(stage_name, input_folder, num_videos)\n",
    "    print(\"Step 1 done.\")\n",
    "    \n",
    "    # Step 2: Globally standardize the tensor\n",
    "    standardized_tensor = standardize_tensors(combined_tensor, video_indices)\n",
    "    \n",
    "    # # save standardized tensors\n",
    "    # st_folder = os.path.join(output_folder, f\"fm_standardized\", stage_name)\n",
    "    # if not os.path.exists(st_folder):\n",
    "    #     os.makedirs(st_folder)\n",
    "    # file_path = os.path.join(st_folder, f'fm_standardized_{stage_name}.pkl')\n",
    "    # with open(file_path, 'wb') as f:\n",
    "    #     pickle.dump(standardized_tensor, f)\n",
    "    # print(f\"{stage_name} standardized tensors stored in: {file_path}\")\n",
    "    \n",
    "    print(\"Step 2 done.\")\n",
    "\n",
    "    # Step 3: Apply PCA to each tensor and save the result\n",
    "    apply_fpca_and_save(standardized_tensor, stage_name, output_folder, n_components)\n",
    "    print(\"Step 3 done.\")"
   ]
  },
  {
   "cell_type": "code",
   "execution_count": 9,
   "id": "38a2182002e8f9b0",
   "metadata": {
    "ExecuteTime": {
     "end_time": "2023-12-29T11:48:09.183904300Z",
     "start_time": "2023-12-29T11:48:09.173940600Z"
    },
    "collapsed": false
   },
   "outputs": [
    {
     "name": "stdout",
     "output_type": "stream",
     "text": [
      "/work\n",
      "None\n"
     ]
    }
   ],
   "source": [
    "print(os.getcwd())\n",
    "print(repo_root)"
   ]
  },
  {
   "cell_type": "code",
   "execution_count": null,
   "id": "fc8f4a7dfe583730",
   "metadata": {
    "ExecuteTime": {
     "end_time": "2023-12-30T11:43:15.850476300Z",
     "start_time": "2023-12-30T11:43:14.652194Z"
    },
    "collapsed": false
   },
   "outputs": [
    {
     "name": "stdout",
     "output_type": "stream",
     "text": [
      "Processing stage_2...\n",
      "Attempting to access: /work/preprocessed_videos_30frames/stage_2\n",
      "Number of videos found: 1000\n",
      "Step 1 done.\n",
      "Step 2 done.\n",
      "Shape of flattened filter batch 0: (1000, 3010560)\n"
     ]
    }
   ],
   "source": [
    "# Example usage\n",
    "input_folder = 'preprocessed_videos_30frames'\n",
    "output_folder = os.getcwd()\n",
    "stages = [\"stage_2\", \"stage_1\"] # [\"stage_2\", \"stage_3\", \"stage_4\", \"stage_5\"] # success: [\"stage_1\"]\n",
    "n_components = 0.95\n",
    "\n",
    "# Iterate over each stage and process it\n",
    "for stage in stages:\n",
    "    print(f\"Processing {stage}...\")\n",
    "    process_stage_for_pca(input_folder, output_folder, stage)\n"
   ]
  },
  {
   "cell_type": "code",
   "execution_count": null,
   "id": "51bd158bb567faf7",
   "metadata": {
    "collapsed": false
   },
   "outputs": [],
   "source": [
    "#-----------------------------------------------------------------------"
   ]
  },
  {
   "cell_type": "code",
   "execution_count": null,
   "id": "3616d500-552d-47d7-9c62-96ed13a329b9",
   "metadata": {},
   "outputs": [],
   "source": [
    "# zip pca folder\n",
    "directory_to_zip = \"PCA_slice_\"  # Replace with your directory name\n",
    "output_filename = \"PCA_channel_0.95_dataset\"  # Replace with your desired output name\n",
    "output_path = os.path.join(os.getcwd(), output_filename)\n",
    "shutil.make_archive(output_path, 'zip', directory_to_zip)"
   ]
  },
  {
   "cell_type": "code",
   "execution_count": 13,
   "id": "c2d27f12-d1e8-48a2-bac8-3a4d7c631f23",
   "metadata": {},
   "outputs": [
    {
     "name": "stdout",
     "output_type": "stream",
     "text": [
      "(1000, 187)\n"
     ]
    }
   ],
   "source": [
    "stage = \"stage_1\"\n",
    "stage_nr = stage[-1]\n",
    "path = f\"PCA_slice_0.95/{stage}/layer_{stage_nr}_pca.pkl\"\n",
    "with open(path, 'rb') as f:\n",
    "    pcs = pickle.load(f)\n",
    "\n",
    "print(pcs.shape)"
   ]
  }
 ],
 "metadata": {
  "kernelspec": {
   "display_name": "Python 3 ",
   "language": "python",
   "name": "python3"
  },
  "language_info": {
   "codemirror_mode": {
    "name": "ipython",
    "version": 3
   },
   "file_extension": ".py",
   "mimetype": "text/x-python",
   "name": "python",
   "nbconvert_exporter": "python",
   "pygments_lexer": "ipython3",
   "version": "3.10.12"
  }
 },
 "nbformat": 4,
 "nbformat_minor": 5
}
