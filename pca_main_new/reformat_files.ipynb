{
 "cells": [
  {
   "cell_type": "code",
   "execution_count": 6,
   "id": "initial_id",
   "metadata": {
    "collapsed": true,
    "ExecuteTime": {
     "end_time": "2023-12-23T18:32:07.387170400Z",
     "start_time": "2023-12-23T18:31:30.477568Z"
    }
   },
   "outputs": [
    {
     "name": "stdout",
     "output_type": "stream",
     "text": [
      "(1000, 30, 43008)\n"
     ]
    }
   ],
   "source": [
    "import pickle\n",
    "import numpy as np\n",
    "\n",
    "stage=\"5\"\n",
    "\n",
    "# Load the .pkl file\n",
    "with open(f'layer_{stage}_pca_input.pkl', 'rb') as file:\n",
    "    dict = pickle.load(file)\n",
    "\n",
    "array = np.array(list(dict.values()))\n",
    "print(array.shape)\n",
    "np.save(f'stage_{stage}_pca.npy', array)"
   ]
  }
 ],
 "metadata": {
  "kernelspec": {
   "display_name": "Python 3",
   "language": "python",
   "name": "python3"
  },
  "language_info": {
   "codemirror_mode": {
    "name": "ipython",
    "version": 2
   },
   "file_extension": ".py",
   "mimetype": "text/x-python",
   "name": "python",
   "nbconvert_exporter": "python",
   "pygments_lexer": "ipython2",
   "version": "2.7.6"
  }
 },
 "nbformat": 4,
 "nbformat_minor": 5
}
